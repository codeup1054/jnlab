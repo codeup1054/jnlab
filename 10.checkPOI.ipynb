{
 "cells": [
  {
   "cell_type": "code",
   "execution_count": 3,
   "id": "d70a48a4-b1c7-4ebc-bcfc-b6d6d77b3dd2",
   "metadata": {},
   "outputs": [],
   "source": [
    "# 2021-11-09 park_poi analitycs\n",
    "# "
   ]
  },
  {
   "cell_type": "code",
   "execution_count": 2,
   "id": "faa2f58a-93d5-4537-8674-70835eca522b",
   "metadata": {},
   "outputs": [
    {
     "name": "stdout",
     "output_type": "stream",
     "text": [
      "[  0.00   ₀.₀]17:01:13 ₂₀₂₁₋₁₁₋₁₂  init()\n"
     ]
    },
    {
     "data": {
      "text/html": [
       "<table border=\"1\" class=\"dataframe\">\n",
       "  <thead>\n",
       "    <tr style=\"text-align: right;\">\n",
       "      <th></th>\n",
       "      <th>1</th>\n",
       "      <th>2</th>\n",
       "      <th>3</th>\n",
       "      <th>4</th>\n",
       "      <th>5</th>\n",
       "      <th>6</th>\n",
       "      <th>7</th>\n",
       "      <th>8</th>\n",
       "      <th>9</th>\n",
       "      <th>10</th>\n",
       "    </tr>\n",
       "  </thead>\n",
       "  <tbody>\n",
       "    <tr>\n",
       "      <th>0</th>\n",
       "      <td>HTML</td>\n",
       "      <td>Path</td>\n",
       "      <td>__builtins__</td>\n",
       "      <td>__cached__</td>\n",
       "      <td>__doc__</td>\n",
       "      <td>__file__</td>\n",
       "      <td>__loader__</td>\n",
       "      <td>__name__</td>\n",
       "      <td>__package__</td>\n",
       "      <td>__spec__</td>\n",
       "    </tr>\n",
       "    <tr>\n",
       "      <th>1</th>\n",
       "      <td>_log</td>\n",
       "      <td>_o</td>\n",
       "      <td>adds</td>\n",
       "      <td>datetime</td>\n",
       "      <td>df_info</td>\n",
       "      <td>dfr</td>\n",
       "      <td>disp</td>\n",
       "      <td>display</td>\n",
       "      <td>glob</td>\n",
       "      <td>gmtime</td>\n",
       "    </tr>\n",
       "    <tr>\n",
       "      <th>2</th>\n",
       "      <td>grpp</td>\n",
       "      <td>ii</td>\n",
       "      <td>init</td>\n",
       "      <td>isfile</td>\n",
       "      <td>join</td>\n",
       "      <td>l</td>\n",
       "      <td>listdir</td>\n",
       "      <td>math</td>\n",
       "      <td>merge_OKVED</td>\n",
       "      <td>np</td>\n",
       "    </tr>\n",
       "    <tr>\n",
       "      <th>3</th>\n",
       "      <td>os</td>\n",
       "      <td>pd</td>\n",
       "      <td>read_rmsp</td>\n",
       "      <td>reload</td>\n",
       "      <td>requests</td>\n",
       "      <td>shutil</td>\n",
       "      <td>sizeof_fmt</td>\n",
       "      <td>start</td>\n",
       "      <td>strftime</td>\n",
       "      <td>time</td>\n",
       "    </tr>\n",
       "    <tr>\n",
       "      <th>4</th>\n",
       "      <td>tm</td>\n",
       "      <td>tmpxls</td>\n",
       "      <td>xl_rowcol_to_cell</td>\n",
       "      <td>xlspcl</td>\n",
       "      <td>zipfile</td>\n",
       "      <td>-</td>\n",
       "      <td>-</td>\n",
       "      <td>-</td>\n",
       "      <td>-</td>\n",
       "      <td>-</td>\n",
       "    </tr>\n",
       "  </tbody>\n",
       "</table>"
      ],
      "text/plain": [
       "<IPython.core.display.HTML object>"
      ]
     },
     "metadata": {},
     "output_type": "display_data"
    },
    {
     "data": {
      "text/html": [
       "<style type=\"text/css\">\n",
       "</style>\n",
       "<table id=\"T_b359c_\">\n",
       "  <thead>\n",
       "    <tr>\n",
       "      <th class=\"blank level0\" >&nbsp;</th>\n",
       "      <th class=\"col_heading level0 col0\" >name</th>\n",
       "      <th class=\"col_heading level0 col1\" >rows</th>\n",
       "      <th class=\"col_heading level0 col2\" >cols</th>\n",
       "      <th class=\"col_heading level0 col3\" >memory</th>\n",
       "      <th class=\"col_heading level0 col4\" >keys</th>\n",
       "    </tr>\n",
       "  </thead>\n",
       "  <tbody>\n",
       "  </tbody>\n",
       "</table>\n"
      ],
      "text/plain": [
       "<pandas.io.formats.style.Styler at 0x166b5144c10>"
      ]
     },
     "metadata": {},
     "output_type": "display_data"
    }
   ],
   "source": [
    "#+++ версия 2020.09.21 инициализация посредством global init()\n",
    "from importlib import reload\n",
    "import adds\n",
    "adds = reload(adds)\n",
    "from adds import * # import adds functions\n",
    "\n",
    "init()\n",
    "\n",
    "ii(dfr,1)\n",
    "# read_rmsp()"
   ]
  },
  {
   "cell_type": "code",
   "execution_count": 18,
   "id": "9ccd788d-5835-41be-9642-c57261fa9c5b",
   "metadata": {},
   "outputs": [],
   "source": [
    "osmpath = r'C:\\!HML\\03.Services\\05.BMO\\03.Geozones\\russia\\\\'"
   ]
  },
  {
   "cell_type": "code",
   "execution_count": 31,
   "id": "4bee13c0-65cf-48d4-a604-e0cd885aa4ed",
   "metadata": {},
   "outputs": [
    {
     "name": "stdout",
     "output_type": "stream",
     "text": [
      "*** Start at: 19:32:10 ₂₀₂₁₋₁₁₋₁₂  ************************************************************\n",
      "[  0.27   ₀.₃]19:32:11 ₂₀₂₁₋₁₁₋₁₂  central-fed-district-pois.osm.csv\n",
      "[  3.46   ₃.₇]19:32:14 ₂₀₂₁₋₁₁₋₁₂  crimean-fed-district-pois.osm.csv\n",
      "[  0.32   ₄.₁]19:32:14 ₂₀₂₁₋₁₁₋₁₂  far-eastern-fed-district-pois.osm.csv\n",
      "[  0.58   ₄.₆]19:32:15 ₂₀₂₁₋₁₁₋₁₂  kaliningrad-pois.osm.csv\n",
      "[  0.18   ₄.₈]19:32:15 ₂₀₂₁₋₁₁₋₁₂  north-caucasus-fed-district-pois.osm.csv\n",
      "[  0.42   ₅.₂]19:32:16 ₂₀₂₁₋₁₁₋₁₂  northwestern-fed-district-pois.osm.csv\n",
      "[  1.79   ₇.₀]19:32:17 ₂₀₂₁₋₁₁₋₁₂  siberian-fed-district-pois.osm.csv\n",
      "[  1.28   ₈.₃]19:32:19 ₂₀₂₁₋₁₁₋₁₂  south-fed-district-pois.osm.csv\n",
      "[  1.11   ₉.₄]19:32:20 ₂₀₂₁₋₁₁₋₁₂  ural-fed-district-pois.osm.csv\n",
      "[  1.18  ₁₀.₆]19:32:21 ₂₀₂₁₋₁₁₋₁₂  volga-fed-district-pois.osm.csv\n",
      "[  2.53  ₁₃.₁]19:32:24 ₂₀₂₁₋₁₁₋₁₂  ['central-fed-district-pois.osm.csv', 'crimean-fed-district-pois.osm.csv', 'far-eastern-fed-district-pois.osm.csv', 'kaliningrad-pois.osm.csv', 'north-caucasus-fed-district-pois.osm.csv', 'northwestern-fed-district-pois.osm.csv', 'siberian-fed-district-pois.osm.csv', 'south-fed-district-pois.osm.csv', 'ural-fed-district-pois.osm.csv', 'volga-fed-district-pois.osm.csv']\n"
     ]
    }
   ],
   "source": [
    "# https://www.freecodecamp.org/news/how-to-combine-multiple-csv-files-with-8-lines-of-code-265183e0854/\n",
    "tm()\n",
    "os.chdir(osmpath)\n",
    "osm_poi_files = [i for i in glob.glob('*osm.csv')]\n",
    "\n",
    "dfr['poi']  = pd.DataFrame()\n",
    "\n",
    "for f in osm_poi_files:\n",
    "    tm(f)\n",
    "    dfr['poi'] = pd.concat([dfr['poi'], pd.read_csv(osmpath+f, sep='|', low_memory=False)])\n",
    "\n",
    "tm(osm_poi_files, dfr['poi'].shape)"
   ]
  },
  {
   "cell_type": "code",
   "execution_count": 5,
   "id": "7c4fe25c-ab95-4178-80ca-35ccd554e12b",
   "metadata": {},
   "outputs": [
    {
     "name": "stdout",
     "output_type": "stream",
     "text": [
      "*** Start at: 17:01:53 ₂₀₂₁₋₁₁₋₁₂  ************************************************************\n",
      "[  0.11   ₀.₁]17:01:53 ₂₀₂₁₋₁₁₋₁₂  ID     193543\n",
      "lat    193543\n",
      "lon    193543\n",
      "dtype: int64\n"
     ]
    }
   ],
   "source": [
    "# 2021-11-10 read poi\n",
    "\n",
    "# fname = r'parking_100k.csv'\n",
    "fname = r'parking_30.csv'\n",
    "colnames=['ID', 'lat', 'lon'] \n",
    "tm()\n",
    "\n",
    "dfr['park'] = pd.read_csv(osmpath+fname, sep=',', low_memory=False, names=colnames, header=None)\n",
    "tm(dfr['park'].count())"
   ]
  },
  {
   "cell_type": "code",
   "execution_count": 35,
   "id": "a62c14db-28ae-495b-b15a-0f59922f1f1c",
   "metadata": {},
   "outputs": [
    {
     "name": "stdout",
     "output_type": "stream",
     "text": [
      "*** Start at: 19:35:36 ₂₀₂₁₋₁₁₋₁₂  ************************************************************\n",
      "[  1.88   ₁.₉]19:35:38 ₂₀₂₁₋₁₁₋₁₂  >>>\n"
     ]
    }
   ],
   "source": [
    "#  \n",
    "tm()\n",
    "\n",
    "_len = 190000\n",
    "\n",
    "# fname = r'C:\\_dev\\gpx_reg\\data\\parking_'+str(_len)+'.csv'\n",
    "fname = r'C:\\_dev\\gpx_reg\\app\\geodata\\parking_data.csv'\n",
    "# dfr['node_res_park_poi_osm'][:_len].to_csv(fname,sep='|')\n",
    "dfr['node_res_park_poi_osm'][:_len].to_csv(fname,sep='|')\n",
    "\n",
    "tm('>>>')"
   ]
  },
  {
   "cell_type": "code",
   "execution_count": 7,
   "id": "852aa707-a26e-4605-a321-f1fb3bf28851",
   "metadata": {},
   "outputs": [
    {
     "name": "stdout",
     "output_type": "stream",
     "text": [
      "*** Start at: 17:03:02 ₂₀₂₁₋₁₁₋₁₂  ************************************************************\n",
      "[  5.82   ₅.₈]17:03:08 ₂₀₂₁₋₁₁₋₁₂  device_id            1959097\n",
      "vin                  1959097\n",
      "model                1959097\n",
      "lat                  1959097\n",
      "lng                  1959097\n",
      "arrive_time          1959097\n",
      "departure_time       1959097\n",
      "duration_in_place    1959097\n",
      "poi_lat              1587892\n",
      "poi_lng              1587892\n",
      "name                 1587892\n",
      "poi_type             1587892\n",
      "distance_to_poi      1587892\n",
      "dtype: int64\n"
     ]
    }
   ],
   "source": [
    "# 2021-11-09 read poi\n",
    "\n",
    "# fname = r'parking_100k.csv'\n",
    "fname = r'node_res_park_poi_osm.csv'\n",
    "# colnames=['ID', 'lat', 'lon'] \n",
    "tm()\n",
    "\n",
    "dfr['node_res_park_poi_osm'] = pd.read_csv(osmpath+fname, sep=',', low_memory=False)\n",
    "tm(dfr['node_res_park_poi_osm'].count())"
   ]
  },
  {
   "cell_type": "code",
   "execution_count": 45,
   "id": "58459fa3-1c55-4360-bbe4-9e39b63f2ff6",
   "metadata": {},
   "outputs": [
    {
     "data": {
      "text/html": [
       "<div>\n",
       "<style scoped>\n",
       "    .dataframe tbody tr th:only-of-type {\n",
       "        vertical-align: middle;\n",
       "    }\n",
       "\n",
       "    .dataframe tbody tr th {\n",
       "        vertical-align: top;\n",
       "    }\n",
       "\n",
       "    .dataframe thead th {\n",
       "        text-align: right;\n",
       "    }\n",
       "</style>\n",
       "<table border=\"1\" class=\"dataframe\">\n",
       "  <thead>\n",
       "    <tr style=\"text-align: right;\">\n",
       "      <th></th>\n",
       "      <th>poi_type</th>\n",
       "      <th>vin</th>\n",
       "    </tr>\n",
       "  </thead>\n",
       "  <tbody>\n",
       "    <tr>\n",
       "      <th>37</th>\n",
       "      <td>cafe</td>\n",
       "      <td>206003</td>\n",
       "    </tr>\n",
       "    <tr>\n",
       "      <th>141</th>\n",
       "      <td>pharmacy</td>\n",
       "      <td>145529</td>\n",
       "    </tr>\n",
       "    <tr>\n",
       "      <th>85</th>\n",
       "      <td>fast_food</td>\n",
       "      <td>136227</td>\n",
       "    </tr>\n",
       "    <tr>\n",
       "      <th>15</th>\n",
       "      <td>bank</td>\n",
       "      <td>133978</td>\n",
       "    </tr>\n",
       "    <tr>\n",
       "      <th>113</th>\n",
       "      <td>kindergarten</td>\n",
       "      <td>113746</td>\n",
       "    </tr>\n",
       "    <tr>\n",
       "      <th>...</th>\n",
       "      <td>...</td>\n",
       "      <td>...</td>\n",
       "    </tr>\n",
       "    <tr>\n",
       "      <th>73</th>\n",
       "      <td>doctors;clinic;hospital</td>\n",
       "      <td>1</td>\n",
       "    </tr>\n",
       "    <tr>\n",
       "      <th>180</th>\n",
       "      <td>smoking_area</td>\n",
       "      <td>1</td>\n",
       "    </tr>\n",
       "    <tr>\n",
       "      <th>2</th>\n",
       "      <td>animal_breeding</td>\n",
       "      <td>1</td>\n",
       "    </tr>\n",
       "    <tr>\n",
       "      <th>135</th>\n",
       "      <td>parking;vehicle_inspection;bus_station</td>\n",
       "      <td>1</td>\n",
       "    </tr>\n",
       "    <tr>\n",
       "      <th>34</th>\n",
       "      <td>bus_stop</td>\n",
       "      <td>1</td>\n",
       "    </tr>\n",
       "  </tbody>\n",
       "</table>\n",
       "<p>218 rows × 2 columns</p>\n",
       "</div>"
      ],
      "text/plain": [
       "                                   poi_type     vin\n",
       "37                                     cafe  206003\n",
       "141                                pharmacy  145529\n",
       "85                                fast_food  136227\n",
       "15                                     bank  133978\n",
       "113                            kindergarten  113746\n",
       "..                                      ...     ...\n",
       "73                  doctors;clinic;hospital       1\n",
       "180                            smoking_area       1\n",
       "2                           animal_breeding       1\n",
       "135  parking;vehicle_inspection;bus_station       1\n",
       "34                                 bus_stop       1\n",
       "\n",
       "[218 rows x 2 columns]"
      ]
     },
     "execution_count": 45,
     "metadata": {},
     "output_type": "execute_result"
    }
   ],
   "source": [
    "df = dfr['node_res_park_poi_osm']\n",
    "df.groupby(['poi_type'])['vin'].count().reset_index().sort_values(['vin'],ascending = False)"
   ]
  },
  {
   "cell_type": "code",
   "execution_count": 40,
   "id": "58ab1b38-6b8b-47b2-92cc-419a3dc1e93a",
   "metadata": {},
   "outputs": [
    {
     "data": {
      "text/html": [
       "<style  type=\"text/css\" >\n",
       "#T_2ea3b_row0_col0,#T_2ea3b_row1_col0,#T_2ea3b_row2_col0,#T_2ea3b_row3_col0{\n",
       "            text-align:  left;\n",
       "             width: 200px;\n",
       "        }#T_2ea3b_row0_col4,#T_2ea3b_row1_col4,#T_2ea3b_row2_col4,#T_2ea3b_row3_col4{\n",
       "            text-align:  left;\n",
       "             width: 800px;\n",
       "        }#T_2ea3b_row1_col3,#T_2ea3b_row3_col1{\n",
       "            background-color:  #fff0cc;\n",
       "             width: 80px;\n",
       "        }</style><table id=\"T_2ea3b_\" ><thead>    <tr>        <th class=\"blank level0\" ></th>        <th class=\"col_heading level0 col0\" >name</th>        <th class=\"col_heading level0 col1\" >rows</th>        <th class=\"col_heading level0 col2\" >cols</th>        <th class=\"col_heading level0 col3\" >memory</th>        <th class=\"col_heading level0 col4\" >keys</th>    </tr></thead><tbody>\n",
       "                <tr>\n",
       "                        <th id=\"T_2ea3b_level0_row0\" class=\"row_heading level0 row0\" >0</th>\n",
       "                        <td id=\"T_2ea3b_row0_col0\" class=\"data row0 col0\" >'poi'</td>\n",
       "                        <td id=\"T_2ea3b_row0_col1\" class=\"data row0 col1\" >1166350</td>\n",
       "                        <td id=\"T_2ea3b_row0_col2\" class=\"data row0 col2\" >26</td>\n",
       "                        <td id=\"T_2ea3b_row0_col3\" class=\"data row0 col3\" >251,931,600</td>\n",
       "                        <td id=\"T_2ea3b_row0_col4\" class=\"data row0 col4\" >['ID',\t'NAME',\t'CATEGORY',\t'SUBCATEGORY',\t'LON',\t'LAT',\t'SRID',\t'WKT',\t'INTERNATIONAL_NAME',\t'STREET',\t'WIKIPEDIA',\t'PHONE',\t'CITY',\t'EMAIL',\t'ALTERNATIVE_NAME',\t'OPENING_HOURS',\t'DESCRIPTION',\t'WEBSITE',\t'LAST_UPDATE',\t'OPERATOR',\t'POSTCODE',\t'COUNTRY',\t'FAX',\t'IMAGE',\t'HOUSENUMBER',\t'OTHER_TAGS']</td>\n",
       "            </tr>\n",
       "            <tr>\n",
       "                        <th id=\"T_2ea3b_level0_row1\" class=\"row_heading level0 row1\" >1</th>\n",
       "                        <td id=\"T_2ea3b_row1_col0\" class=\"data row1 col0\" >'park_poi'</td>\n",
       "                        <td id=\"T_2ea3b_row1_col1\" class=\"data row1 col1\" >1244449</td>\n",
       "                        <td id=\"T_2ea3b_row1_col2\" class=\"data row1 col2\" >7</td>\n",
       "                        <td id=\"T_2ea3b_row1_col3\" class=\"data row1 col3\" >79,644,736</td>\n",
       "                        <td id=\"T_2ea3b_row1_col4\" class=\"data row1 col4\" >['ID',\t'LAT',\t'LON',\t'OTHER_TAGS',\t'_lat',\t'_lon',\t'PARK_ID']</td>\n",
       "            </tr>\n",
       "            <tr>\n",
       "                        <th id=\"T_2ea3b_level0_row2\" class=\"row_heading level0 row2\" >2</th>\n",
       "                        <td id=\"T_2ea3b_row2_col0\" class=\"data row2 col0\" >'park'</td>\n",
       "                        <td id=\"T_2ea3b_row2_col1\" class=\"data row2 col1\" >193543</td>\n",
       "                        <td id=\"T_2ea3b_row2_col2\" class=\"data row2 col2\" >3</td>\n",
       "                        <td id=\"T_2ea3b_row2_col3\" class=\"data row2 col3\" >4,645,160</td>\n",
       "                        <td id=\"T_2ea3b_row2_col4\" class=\"data row2 col4\" >['ID',\t'lat',\t'lon']</td>\n",
       "            </tr>\n",
       "            <tr>\n",
       "                        <th id=\"T_2ea3b_level0_row3\" class=\"row_heading level0 row3\" >3</th>\n",
       "                        <td id=\"T_2ea3b_row3_col0\" class=\"data row3 col0\" >'node_res_park_poi_osm'</td>\n",
       "                        <td id=\"T_2ea3b_row3_col1\" class=\"data row3 col1\" >1959097</td>\n",
       "                        <td id=\"T_2ea3b_row3_col2\" class=\"data row3 col2\" >13</td>\n",
       "                        <td id=\"T_2ea3b_row3_col3\" class=\"data row3 col3\" >203,746,216</td>\n",
       "                        <td id=\"T_2ea3b_row3_col4\" class=\"data row3 col4\" >['device_id',\t'vin',\t'model',\t'lat',\t'lng',\t'arrive_time',\t'departure_time',\t'duration_in_place',\t'poi_lat',\t'poi_lng',\t'name',\t'poi_type',\t'distance_to_poi']</td>\n",
       "            </tr>\n",
       "    </tbody></table>"
      ],
      "text/plain": [
       "<pandas.io.formats.style.Styler at 0x20e000fc8e0>"
      ]
     },
     "metadata": {},
     "output_type": "display_data"
    }
   ],
   "source": [
    "ii(dfr,1)"
   ]
  },
  {
   "cell_type": "code",
   "execution_count": 30,
   "id": "8af8a47e-188b-4f0c-bec9-cc698f58978a",
   "metadata": {},
   "outputs": [
    {
     "name": "stdout",
     "output_type": "stream",
     "text": [
      "*** Start at: 18:50:09 ₂₀₂₁₋₁₁₋₀₉  ************************************************************\n",
      "[  0.05   ₀.₁]18:50:09 ₂₀₂₁₋₁₁₋₀₉  [0, ': ', (1, 7)]\n",
      "[239.51 ₂₃₉.₆]18:54:08 ₂₀₂₁₋₁₁₋₀₉  [5000, ': ', (37018, 7)]\n",
      "[325.26 ₅₆₄.₈]18:59:33 ₂₀₂₁₋₁₁₋₀₉  [10000, ': ', (72756, 7)]\n",
      "[450.65₁₀₁₅.₅]19:07:04 ₂₀₂₁₋₁₁₋₀₉  [15000, ': ', (102622, 7)]\n",
      "[480.07₁₄₉₅.₅]19:15:04 ₂₀₂₁₋₁₁₋₀₉  [20000, ': ', (123814, 7)]\n",
      "[539.83₂₀₃₅.₄]19:24:04 ₂₀₂₁₋₁₁₋₀₉  [25000, ': ', (145130, 7)]\n",
      "[566.06₂₆₀₁.₄]19:33:30 ₂₀₂₁₋₁₁₋₀₉  [30000, ': ', (176774, 7)]\n",
      "[681.03₃₂₈₂.₅]19:44:51 ₂₀₂₁₋₁₁₋₀₉  [35000, ': ', (206925, 7)]\n",
      "[771.58₄₀₅₄.₀]19:57:43 ₂₀₂₁₋₁₁₋₀₉  [40000, ': ', (238405, 7)]\n",
      "[750.18₄₈₀₄.₂]20:10:13 ₂₀₂₁₋₁₁₋₀₉  [45000, ': ', (269009, 7)]\n",
      "[713.92₅₅₁₈.₁]20:22:07 ₂₀₂₁₋₁₁₋₀₉  [50000, ': ', (303085, 7)]\n",
      "[677.92₆₁₉₆.₁]20:33:25 ₂₀₂₁₋₁₁₋₀₉  [55000, ': ', (334976, 7)]\n",
      "[737.96₆₉₃₄.₀]20:45:43 ₂₀₂₁₋₁₁₋₀₉  [60000, ': ', (368952, 7)]\n",
      "[795.04₇₇₂₉.₁]20:58:58 ₂₀₂₁₋₁₁₋₀₉  [65000, ': ', (401536, 7)]\n",
      "[829.09₈₅₅₈.₂]21:12:47 ₂₀₂₁₋₁₁₋₀₉  [70000, ': ', (428862, 7)]\n",
      "[860.47₉₄₁₈.₆]21:27:07 ₂₀₂₁₋₁₁₋₀₉  [75000, ': ', (453424, 7)]\n",
      "[898.64₁₀₃₁₇.₃]21:42:06 ₂₀₂₁₋₁₁₋₀₉  [80000, ': ', (480125, 7)]\n",
      "[925.37₁₁₂₄₂.₆]21:57:31 ₂₀₂₁₋₁₁₋₀₉  [85000, ': ', (508572, 7)]\n",
      "[967.22₁₂₂₀₉.₉]22:13:38 ₂₀₂₁₋₁₁₋₀₉  [90000, ': ', (529493, 7)]\n",
      "[1007.72₁₃₂₁₇.₆]22:30:26 ₂₀₂₁₋₁₁₋₀₉  [95000, ': ', (564733, 7)]\n",
      "[1090.82₁₄₃₀₈.₄]22:48:37 ₂₀₂₁₋₁₁₋₀₉  [100000, ': ', (618487, 7)]\n",
      "[1154.95₁₅₄₆₃.₃]23:07:52 ₂₀₂₁₋₁₁₋₀₉  [105000, ': ', (649159, 7)]\n",
      "[1183.56₁₆₆₄₆.₉]23:27:36 ₂₀₂₁₋₁₁₋₀₉  [110000, ': ', (672691, 7)]\n",
      "[1218.12₁₇₈₆₅.₀]23:47:54 ₂₀₂₁₋₁₁₋₀₉  [115000, ': ', (714939, 7)]\n",
      "[1301.01₁₉₁₆₆.₀]00:09:35 ₂₀₂₁₋₁₁₋₁₀  [120000, ': ', (780957, 7)]\n",
      "[1349.16₂₀₅₁₅.₂]00:32:04 ₂₀₂₁₋₁₁₋₁₀  [125000, ': ', (803024, 7)]\n",
      "[1401.60₂₁₉₁₆.₈]00:55:25 ₂₀₂₁₋₁₁₋₁₀  [130000, ': ', (835492, 7)]\n",
      "[1434.55₂₃₃₅₁.₃]01:19:20 ₂₀₂₁₋₁₁₋₁₀  [135000, ': ', (863459, 7)]\n",
      "[1483.68₂₄₈₃₅.₀]01:44:04 ₂₀₂₁₋₁₁₋₁₀  [140000, ': ', (903346, 7)]\n",
      "[1527.30₂₆₃₆₂.₃]02:09:31 ₂₀₂₁₋₁₁₋₁₀  [145000, ': ', (942204, 7)]\n",
      "[1573.90₂₇₉₃₆.₂]02:35:45 ₂₀₂₁₋₁₁₋₁₀  [150000, ': ', (976735, 7)]\n",
      "[1635.29₂₉₅₇₁.₅]03:03:00 ₂₀₂₁₋₁₁₋₁₀  [155000, ': ', (1019176, 7)]\n",
      "[1702.94₃₁₂₇₄.₅]03:31:23 ₂₀₂₁₋₁₁₋₁₀  [160000, ': ', (1054282, 7)]\n",
      "[1612.61₃₂₈₈₇.₁]03:58:16 ₂₀₂₁₋₁₁₋₁₀  [165000, ': ', (1084324, 7)]\n",
      "[1111.14₃₃₉₉₈.₂]04:16:47 ₂₀₂₁₋₁₁₋₁₀  [170000, ': ', (1099959, 7)]\n",
      "[1133.84₃₅₁₃₂.₁]04:35:41 ₂₀₂₁₋₁₁₋₁₀  [175000, ': ', (1115548, 7)]\n",
      "[1151.61₃₆₂₈₃.₇]04:54:52 ₂₀₂₁₋₁₁₋₁₀  [180000, ': ', (1150554, 7)]\n",
      "[1187.04₃₇₄₇₀.₇]05:14:39 ₂₀₂₁₋₁₁₋₁₀  [185000, ': ', (1185577, 7)]\n",
      "[1218.61₃₈₆₈₉.₃]05:34:58 ₂₀₂₁₋₁₁₋₁₀  [190000, ': ', (1220253, 7)]\n",
      "[884.28₃₉₅₇₃.₆]05:49:42 ₂₀₂₁₋₁₁₋₁₀  [(1244449, 7), 193542]\n"
     ]
    }
   ],
   "source": [
    "tm()\n",
    "\n",
    "df = dfr['poi']\n",
    "\n",
    "dfr['park_poi'] = pd.DataFrame()\n",
    "\n",
    "for i,r in dfr['park'].iterrows(): #.sample(2000)\n",
    "    _lat = r['lat']\n",
    "    _lon = r['lon']\n",
    "    _id = r['ID']\n",
    "    \n",
    "    df_park_poi = df.loc[( np.absolute(df['LAT'] - _lat)  < 0.002 ) & (np.absolute(df['LON'] - _lon) < 0.001)  ][['ID','LAT','LON','OTHER_TAGS']]\n",
    "    df_park_poi[['_lat','_lon','PARK_ID']] = [_lat,_lon,_id ]\n",
    "    \n",
    "    dfr['park_poi'] = pd.concat([dfr['park_poi'],df_park_poi])\n",
    "    \n",
    "    \n",
    "#     print (_lat, _lon, \"\\n\", dfr['select'].shape,\"\\n\\n\")\n",
    "#     display(HTML( dfr['select'].to_html()))\n",
    "    \n",
    "    \n",
    "    if (i%5000 == 0): tm([i, \": \" ,dfr['park_poi'].shape])\n",
    "        \n",
    "tm([dfr['park_poi'].shape, i])"
   ]
  },
  {
   "cell_type": "code",
   "execution_count": 35,
   "id": "9332c58e-0645-4c98-995a-bddead162e05",
   "metadata": {},
   "outputs": [
    {
     "name": "stdout",
     "output_type": "stream",
     "text": [
      "*** Start at: 11:53:34 ₂₀₂₁₋₁₁₋₁₀  ************************************************************\n",
      "[  0.35   ₀.₃]11:53:34 ₂₀₂₁₋₁₁₋₁₀  >>>\n"
     ]
    }
   ],
   "source": [
    "tm()\n",
    "dfr['park_poi'].to_pickle(osmpath + 'park_poi_osm.pcl')\n",
    "tm('>>>')"
   ]
  },
  {
   "cell_type": "code",
   "execution_count": 18,
   "id": "b6bfaa63-7f22-4935-b980-67f9c37e12be",
   "metadata": {},
   "outputs": [
    {
     "ename": "KeyError",
     "evalue": "'park_poi'",
     "output_type": "error",
     "traceback": [
      "\u001b[1;31m---------------------------------------------------------------------------\u001b[0m",
      "\u001b[1;31mKeyError\u001b[0m                                  Traceback (most recent call last)",
      "\u001b[1;32m<ipython-input-18-e89a4fc239a6>\u001b[0m in \u001b[0;36m<module>\u001b[1;34m\u001b[0m\n\u001b[1;32m----> 1\u001b[1;33m \u001b[0mdf\u001b[0m \u001b[1;33m=\u001b[0m \u001b[0mdfr\u001b[0m\u001b[1;33m[\u001b[0m\u001b[1;34m'park_poi'\u001b[0m\u001b[1;33m]\u001b[0m\u001b[1;33m.\u001b[0m\u001b[0mgroupby\u001b[0m\u001b[1;33m(\u001b[0m\u001b[1;33m[\u001b[0m\u001b[1;34m'PARK_ID'\u001b[0m\u001b[1;33m]\u001b[0m\u001b[1;33m)\u001b[0m\u001b[1;33m[\u001b[0m\u001b[1;34m'ID'\u001b[0m\u001b[1;33m]\u001b[0m\u001b[1;33m.\u001b[0m\u001b[0mcount\u001b[0m\u001b[1;33m(\u001b[0m\u001b[1;33m)\u001b[0m\u001b[1;33m.\u001b[0m\u001b[0mreset_index\u001b[0m\u001b[1;33m(\u001b[0m\u001b[1;33m)\u001b[0m\u001b[1;33m.\u001b[0m\u001b[0msort_values\u001b[0m\u001b[1;33m(\u001b[0m\u001b[1;33m[\u001b[0m\u001b[1;34m'ID'\u001b[0m\u001b[1;33m]\u001b[0m\u001b[1;33m,\u001b[0m \u001b[0mascending\u001b[0m\u001b[1;33m=\u001b[0m\u001b[1;32mFalse\u001b[0m\u001b[1;33m)\u001b[0m\u001b[1;33m.\u001b[0m\u001b[0mhead\u001b[0m\u001b[1;33m(\u001b[0m\u001b[1;36m30\u001b[0m\u001b[1;33m)\u001b[0m\u001b[1;33m\u001b[0m\u001b[1;33m\u001b[0m\u001b[0m\n\u001b[0m\u001b[0;32m      2\u001b[0m \u001b[1;33m\u001b[0m\u001b[0m\n\u001b[0;32m      3\u001b[0m \u001b[0mdf\u001b[0m \u001b[1;33m=\u001b[0m \u001b[0mdf\u001b[0m\u001b[1;33m.\u001b[0m\u001b[0mmerge\u001b[0m\u001b[1;33m(\u001b[0m\u001b[0mdfr\u001b[0m\u001b[1;33m[\u001b[0m\u001b[1;34m'park'\u001b[0m\u001b[1;33m]\u001b[0m\u001b[1;33m,\u001b[0m \u001b[0mleft_on\u001b[0m \u001b[1;33m=\u001b[0m \u001b[1;34m'PARK_ID'\u001b[0m \u001b[1;33m,\u001b[0m \u001b[0mright_on\u001b[0m\u001b[1;33m=\u001b[0m\u001b[1;34m'ID'\u001b[0m\u001b[1;33m,\u001b[0m \u001b[0mhow\u001b[0m\u001b[1;33m=\u001b[0m\u001b[1;34m'left'\u001b[0m\u001b[1;33m)\u001b[0m\u001b[1;33m\u001b[0m\u001b[1;33m\u001b[0m\u001b[0m\n\u001b[0;32m      4\u001b[0m \u001b[1;33m\u001b[0m\u001b[0m\n\u001b[0;32m      5\u001b[0m \u001b[0mdisp\u001b[0m\u001b[1;33m(\u001b[0m\u001b[0mdf\u001b[0m\u001b[1;33m)\u001b[0m\u001b[1;33m\u001b[0m\u001b[1;33m\u001b[0m\u001b[0m\n",
      "\u001b[1;31mKeyError\u001b[0m: 'park_poi'"
     ]
    }
   ],
   "source": [
    "df = dfr['park_poi'].groupby(['PARK_ID'])['ID'].count().reset_index().sort_values(['ID'], ascending=False).head(30)\n",
    "\n",
    "df = df.merge(dfr['park'], left_on = 'PARK_ID' , right_on='ID', how='left')\n",
    "\n",
    "disp(df)\n",
    "\n",
    "counts, bins = np.histogram(df)\n",
    "plt.hist(bins[:-1], bins, weights=counts)\n"
   ]
  },
  {
   "cell_type": "code",
   "execution_count": 239,
   "id": "1fc735a1-39fa-4c83-9825-3315063ffb13",
   "metadata": {},
   "outputs": [],
   "source": [
    "# dfr['m'] = dfr['park'].merge(dfr['poi'], left_on='lkey', right_on='rkey')\n",
    "dfr['park_poi'] = df_park_poi_res\n"
   ]
  },
  {
   "cell_type": "code",
   "execution_count": 31,
   "id": "12e8fb96-3207-4caf-af3b-4e4e4cd4d520",
   "metadata": {},
   "outputs": [
    {
     "data": {
      "text/html": [
       "<style  type=\"text/css\" >\n",
       "#T_41535_row0_col0,#T_41535_row1_col0,#T_41535_row2_col0{\n",
       "            text-align:  left;\n",
       "             width: 200px;\n",
       "        }#T_41535_row0_col4,#T_41535_row1_col4,#T_41535_row2_col4{\n",
       "            text-align:  left;\n",
       "             width: 800px;\n",
       "        }#T_41535_row1_col1,#T_41535_row1_col3{\n",
       "            background-color:  #fff0cc;\n",
       "             width: 80px;\n",
       "        }</style><table id=\"T_41535_\" ><thead>    <tr>        <th class=\"blank level0\" ></th>        <th class=\"col_heading level0 col0\" >name</th>        <th class=\"col_heading level0 col1\" >rows</th>        <th class=\"col_heading level0 col2\" >cols</th>        <th class=\"col_heading level0 col3\" >memory</th>        <th class=\"col_heading level0 col4\" >keys</th>    </tr></thead><tbody>\n",
       "                <tr>\n",
       "                        <th id=\"T_41535_level0_row0\" class=\"row_heading level0 row0\" >0</th>\n",
       "                        <td id=\"T_41535_row0_col0\" class=\"data row0 col0\" >'poi'</td>\n",
       "                        <td id=\"T_41535_row0_col1\" class=\"data row0 col1\" >1166350</td>\n",
       "                        <td id=\"T_41535_row0_col2\" class=\"data row0 col2\" >26</td>\n",
       "                        <td id=\"T_41535_row0_col3\" class=\"data row0 col3\" >251,931,600</td>\n",
       "                        <td id=\"T_41535_row0_col4\" class=\"data row0 col4\" >26</td>\n",
       "            </tr>\n",
       "            <tr>\n",
       "                        <th id=\"T_41535_level0_row1\" class=\"row_heading level0 row1\" >1</th>\n",
       "                        <td id=\"T_41535_row1_col0\" class=\"data row1 col0\" >'park_poi'</td>\n",
       "                        <td id=\"T_41535_row1_col1\" class=\"data row1 col1\" >1244449</td>\n",
       "                        <td id=\"T_41535_row1_col2\" class=\"data row1 col2\" >7</td>\n",
       "                        <td id=\"T_41535_row1_col3\" class=\"data row1 col3\" >79,644,736</td>\n",
       "                        <td id=\"T_41535_row1_col4\" class=\"data row1 col4\" >7</td>\n",
       "            </tr>\n",
       "            <tr>\n",
       "                        <th id=\"T_41535_level0_row2\" class=\"row_heading level0 row2\" >2</th>\n",
       "                        <td id=\"T_41535_row2_col0\" class=\"data row2 col0\" >'park'</td>\n",
       "                        <td id=\"T_41535_row2_col1\" class=\"data row2 col1\" >193543</td>\n",
       "                        <td id=\"T_41535_row2_col2\" class=\"data row2 col2\" >3</td>\n",
       "                        <td id=\"T_41535_row2_col3\" class=\"data row2 col3\" >4,645,160</td>\n",
       "                        <td id=\"T_41535_row2_col4\" class=\"data row2 col4\" >3</td>\n",
       "            </tr>\n",
       "    </tbody></table>"
      ],
      "text/plain": [
       "<pandas.io.formats.style.Styler at 0x20e00019730>"
      ]
     },
     "metadata": {},
     "output_type": "display_data"
    }
   ],
   "source": [
    "ii(dfr)"
   ]
  },
  {
   "cell_type": "code",
   "execution_count": 242,
   "id": "7147482b-11c5-455e-80bb-4df66528f9ba",
   "metadata": {},
   "outputs": [
    {
     "data": {
      "text/plain": [
       "[['park', (100000, 3), Index(['ID', 'lat', 'lon'], dtype='object')],\n",
       " ['poi',\n",
       "  (1166350, 26),\n",
       "  Index(['ID', 'NAME', 'CATEGORY', 'SUBCATEGORY', 'LON', 'LAT', 'SRID', 'WKT',\n",
       "         'INTERNATIONAL_NAME', 'STREET', 'WIKIPEDIA', 'PHONE', 'CITY', 'EMAIL',\n",
       "         'ALTERNATIVE_NAME', 'OPENING_HOURS', 'DESCRIPTION', 'WEBSITE',\n",
       "         'LAST_UPDATE', 'OPERATOR', 'POSTCODE', 'COUNTRY', 'FAX', 'IMAGE',\n",
       "         'HOUSENUMBER', 'OTHER_TAGS'],\n",
       "        dtype='object')],\n",
       " ['park_poi',\n",
       "  (1183717, 7),\n",
       "  Index(['ID', 'LAT', 'LON', 'OTHER_TAGS', '_lat', '_lon', 'PARK_ID'], dtype='object')]]"
      ]
     },
     "execution_count": 242,
     "metadata": {},
     "output_type": "execute_result"
    }
   ],
   "source": [
    "dfr_keys = ['park','poi','park_poi']\n",
    "\n",
    "\n",
    "[ [k, dfr[k].shape, dfr[k].keys()] for k in dfr_keys]"
   ]
  },
  {
   "cell_type": "code",
   "execution_count": 232,
   "id": "c6c66cf9-7027-4f54-b78b-2b027cf39ec2",
   "metadata": {},
   "outputs": [
    {
     "data": {
      "text/plain": [
       "((100000, 3), Index(['ID', 'lat', 'lon'], dtype='object'))"
      ]
     },
     "execution_count": 232,
     "metadata": {},
     "output_type": "execute_result"
    }
   ],
   "source": [
    "dfr['park'].shape, dfr['park'].keys()"
   ]
  },
  {
   "cell_type": "code",
   "execution_count": 7,
   "id": "29504a54-ce59-4906-835e-c289d61d8069",
   "metadata": {},
   "outputs": [
    {
     "data": {
      "text/plain": [
       "[(48742, 26),\n",
       " Index(['ID', 'NAME', 'CATEGORY', 'SUBCATEGORY', 'LON', 'LAT', 'SRID', 'WKT',\n",
       "        'INTERNATIONAL_NAME', 'STREET', 'WIKIPEDIA', 'PHONE', 'CITY', 'EMAIL',\n",
       "        'ALTERNATIVE_NAME', 'OPENING_HOURS', 'DESCRIPTION', 'WEBSITE',\n",
       "        'LAST_UPDATE', 'OPERATOR', 'POSTCODE', 'COUNTRY', 'FAX', 'IMAGE',\n",
       "        'HOUSENUMBER', 'OTHER_TAGS'],\n",
       "       dtype='object')]"
      ]
     },
     "execution_count": 7,
     "metadata": {},
     "output_type": "execute_result"
    }
   ],
   "source": [
    "[df.shape, \n",
    "df.keys() ]"
   ]
  },
  {
   "cell_type": "code",
   "execution_count": 1,
   "id": "803ffa3e-c9bf-4c75-bed5-5227addb1b47",
   "metadata": {},
   "outputs": [
    {
     "ename": "NameError",
     "evalue": "name 'dfr' is not defined",
     "output_type": "error",
     "traceback": [
      "\u001b[1;31m---------------------------------------------------------------------------\u001b[0m",
      "\u001b[1;31mNameError\u001b[0m                                 Traceback (most recent call last)",
      "\u001b[1;32m<ipython-input-1-ba667344e311>\u001b[0m in \u001b[0;36m<module>\u001b[1;34m\u001b[0m\n\u001b[0;32m      1\u001b[0m \u001b[1;32mimport\u001b[0m \u001b[0mmatplotlib\u001b[0m\u001b[1;33m.\u001b[0m\u001b[0mpyplot\u001b[0m \u001b[1;32mas\u001b[0m \u001b[0mplt\u001b[0m\u001b[1;33m\u001b[0m\u001b[1;33m\u001b[0m\u001b[0m\n\u001b[0;32m      2\u001b[0m \u001b[1;33m\u001b[0m\u001b[0m\n\u001b[1;32m----> 3\u001b[1;33m \u001b[0mdf\u001b[0m \u001b[1;33m=\u001b[0m \u001b[0mdfr\u001b[0m\u001b[1;33m[\u001b[0m\u001b[1;34m'park_poi'\u001b[0m\u001b[1;33m]\u001b[0m\u001b[1;33m[\u001b[0m\u001b[1;33m:\u001b[0m\u001b[1;36m100\u001b[0m\u001b[1;33m]\u001b[0m\u001b[1;33m\u001b[0m\u001b[1;33m\u001b[0m\u001b[0m\n\u001b[0m\u001b[0;32m      4\u001b[0m \u001b[1;33m\u001b[0m\u001b[0m\n\u001b[0;32m      5\u001b[0m \u001b[0mplt\u001b[0m\u001b[1;33m.\u001b[0m\u001b[0mscatter\u001b[0m\u001b[1;33m(\u001b[0m\u001b[0mx\u001b[0m\u001b[1;33m=\u001b[0m\u001b[0mdf\u001b[0m\u001b[1;33m[\u001b[0m\u001b[1;34m'Longitude'\u001b[0m\u001b[1;33m]\u001b[0m\u001b[1;33m,\u001b[0m \u001b[0my\u001b[0m\u001b[1;33m=\u001b[0m\u001b[0mdf\u001b[0m\u001b[1;33m[\u001b[0m\u001b[1;34m'Latitude'\u001b[0m\u001b[1;33m]\u001b[0m\u001b[1;33m)\u001b[0m\u001b[1;33m\u001b[0m\u001b[1;33m\u001b[0m\u001b[0m\n",
      "\u001b[1;31mNameError\u001b[0m: name 'dfr' is not defined"
     ]
    }
   ],
   "source": [
    "import matplotlib.pyplot as plt\n",
    "\n",
    "df = dfr['park_poi'][:100]\n",
    "\n",
    "plt.scatter(x=df['Longitude'], y=df['Latitude'])\n",
    "plt.show()"
   ]
  },
  {
   "cell_type": "code",
   "execution_count": 244,
   "id": "24f7fcf4-f07d-4878-b976-2792e01809ef",
   "metadata": {},
   "outputs": [
    {
     "ename": "FileNotFoundError",
     "evalue": "Could not find module 'C:\\Users\\S.Savinskiy\\miniconda3\\Library\\bin\\geos_c.dll' (or one of its dependencies). Try using the full path with constructor syntax.",
     "output_type": "error",
     "traceback": [
      "\u001b[1;31m---------------------------------------------------------------------------\u001b[0m",
      "\u001b[1;31mFileNotFoundError\u001b[0m                         Traceback (most recent call last)",
      "\u001b[1;32m<ipython-input-244-5b6dd52848ba>\u001b[0m in \u001b[0;36m<module>\u001b[1;34m\u001b[0m\n\u001b[0;32m      1\u001b[0m \u001b[1;32mimport\u001b[0m \u001b[0mpandas\u001b[0m \u001b[1;32mas\u001b[0m \u001b[0mpd\u001b[0m\u001b[1;33m\u001b[0m\u001b[1;33m\u001b[0m\u001b[0m\n\u001b[1;32m----> 2\u001b[1;33m \u001b[1;32mfrom\u001b[0m \u001b[0mshapely\u001b[0m\u001b[1;33m.\u001b[0m\u001b[0mgeometry\u001b[0m \u001b[1;32mimport\u001b[0m \u001b[0mPoint\u001b[0m\u001b[1;33m\u001b[0m\u001b[1;33m\u001b[0m\u001b[0m\n\u001b[0m\u001b[0;32m      3\u001b[0m \u001b[1;32mimport\u001b[0m \u001b[0mgeopandas\u001b[0m \u001b[1;32mas\u001b[0m \u001b[0mgpd\u001b[0m\u001b[1;33m\u001b[0m\u001b[1;33m\u001b[0m\u001b[0m\n\u001b[0;32m      4\u001b[0m \u001b[1;32mfrom\u001b[0m \u001b[0mgeopandas\u001b[0m \u001b[1;32mimport\u001b[0m \u001b[0mGeoDataFrame\u001b[0m\u001b[1;33m\u001b[0m\u001b[1;33m\u001b[0m\u001b[0m\n\u001b[0;32m      5\u001b[0m \u001b[1;33m\u001b[0m\u001b[0m\n",
      "\u001b[1;32m~\\miniconda3\\lib\\site-packages\\shapely\\geometry\\__init__.py\u001b[0m in \u001b[0;36m<module>\u001b[1;34m\u001b[0m\n\u001b[0;32m      2\u001b[0m \"\"\"\n\u001b[0;32m      3\u001b[0m \u001b[1;33m\u001b[0m\u001b[0m\n\u001b[1;32m----> 4\u001b[1;33m \u001b[1;32mfrom\u001b[0m \u001b[1;33m.\u001b[0m\u001b[0mbase\u001b[0m \u001b[1;32mimport\u001b[0m \u001b[0mCAP_STYLE\u001b[0m\u001b[1;33m,\u001b[0m \u001b[0mJOIN_STYLE\u001b[0m\u001b[1;33m\u001b[0m\u001b[1;33m\u001b[0m\u001b[0m\n\u001b[0m\u001b[0;32m      5\u001b[0m \u001b[1;32mfrom\u001b[0m \u001b[1;33m.\u001b[0m\u001b[0mgeo\u001b[0m \u001b[1;32mimport\u001b[0m \u001b[0mbox\u001b[0m\u001b[1;33m,\u001b[0m \u001b[0mshape\u001b[0m\u001b[1;33m,\u001b[0m \u001b[0masShape\u001b[0m\u001b[1;33m,\u001b[0m \u001b[0mmapping\u001b[0m\u001b[1;33m\u001b[0m\u001b[1;33m\u001b[0m\u001b[0m\n\u001b[0;32m      6\u001b[0m \u001b[1;32mfrom\u001b[0m \u001b[1;33m.\u001b[0m\u001b[0mpoint\u001b[0m \u001b[1;32mimport\u001b[0m \u001b[0mPoint\u001b[0m\u001b[1;33m,\u001b[0m \u001b[0masPoint\u001b[0m\u001b[1;33m\u001b[0m\u001b[1;33m\u001b[0m\u001b[0m\n",
      "\u001b[1;32m~\\miniconda3\\lib\\site-packages\\shapely\\geometry\\base.py\u001b[0m in \u001b[0;36m<module>\u001b[1;34m\u001b[0m\n\u001b[0;32m     17\u001b[0m \u001b[1;33m\u001b[0m\u001b[0m\n\u001b[0;32m     18\u001b[0m \u001b[1;32mfrom\u001b[0m \u001b[0mshapely\u001b[0m\u001b[1;33m.\u001b[0m\u001b[0maffinity\u001b[0m \u001b[1;32mimport\u001b[0m \u001b[0maffine_transform\u001b[0m\u001b[1;33m\u001b[0m\u001b[1;33m\u001b[0m\u001b[0m\n\u001b[1;32m---> 19\u001b[1;33m \u001b[1;32mfrom\u001b[0m \u001b[0mshapely\u001b[0m\u001b[1;33m.\u001b[0m\u001b[0mcoords\u001b[0m \u001b[1;32mimport\u001b[0m \u001b[0mCoordinateSequence\u001b[0m\u001b[1;33m\u001b[0m\u001b[1;33m\u001b[0m\u001b[0m\n\u001b[0m\u001b[0;32m     20\u001b[0m \u001b[1;32mfrom\u001b[0m \u001b[0mshapely\u001b[0m\u001b[1;33m.\u001b[0m\u001b[0merrors\u001b[0m \u001b[1;32mimport\u001b[0m \u001b[0mWKBReadingError\u001b[0m\u001b[1;33m,\u001b[0m \u001b[0mWKTReadingError\u001b[0m\u001b[1;33m\u001b[0m\u001b[1;33m\u001b[0m\u001b[0m\n\u001b[0;32m     21\u001b[0m \u001b[1;32mfrom\u001b[0m \u001b[0mshapely\u001b[0m\u001b[1;33m.\u001b[0m\u001b[0mgeos\u001b[0m \u001b[1;32mimport\u001b[0m \u001b[0mWKBWriter\u001b[0m\u001b[1;33m,\u001b[0m \u001b[0mWKTWriter\u001b[0m\u001b[1;33m\u001b[0m\u001b[1;33m\u001b[0m\u001b[0m\n",
      "\u001b[1;32m~\\miniconda3\\lib\\site-packages\\shapely\\coords.py\u001b[0m in \u001b[0;36m<module>\u001b[1;34m\u001b[0m\n\u001b[0;32m      6\u001b[0m \u001b[1;32mfrom\u001b[0m \u001b[0mctypes\u001b[0m \u001b[1;32mimport\u001b[0m \u001b[0mbyref\u001b[0m\u001b[1;33m,\u001b[0m \u001b[0mc_double\u001b[0m\u001b[1;33m,\u001b[0m \u001b[0mc_uint\u001b[0m\u001b[1;33m\u001b[0m\u001b[1;33m\u001b[0m\u001b[0m\n\u001b[0;32m      7\u001b[0m \u001b[1;33m\u001b[0m\u001b[0m\n\u001b[1;32m----> 8\u001b[1;33m \u001b[1;32mfrom\u001b[0m \u001b[0mshapely\u001b[0m\u001b[1;33m.\u001b[0m\u001b[0mgeos\u001b[0m \u001b[1;32mimport\u001b[0m \u001b[0mlgeos\u001b[0m\u001b[1;33m\u001b[0m\u001b[1;33m\u001b[0m\u001b[0m\n\u001b[0m\u001b[0;32m      9\u001b[0m \u001b[1;32mfrom\u001b[0m \u001b[0mshapely\u001b[0m\u001b[1;33m.\u001b[0m\u001b[0mtopology\u001b[0m \u001b[1;32mimport\u001b[0m \u001b[0mValidating\u001b[0m\u001b[1;33m\u001b[0m\u001b[1;33m\u001b[0m\u001b[0m\n\u001b[0;32m     10\u001b[0m \u001b[1;33m\u001b[0m\u001b[0m\n",
      "\u001b[1;32m~\\miniconda3\\lib\\site-packages\\shapely\\geos.py\u001b[0m in \u001b[0;36m<module>\u001b[1;34m\u001b[0m\n\u001b[0;32m    147\u001b[0m     \u001b[1;32mif\u001b[0m \u001b[0mos\u001b[0m\u001b[1;33m.\u001b[0m\u001b[0mgetenv\u001b[0m\u001b[1;33m(\u001b[0m\u001b[1;34m'CONDA_PREFIX'\u001b[0m\u001b[1;33m,\u001b[0m \u001b[1;34m''\u001b[0m\u001b[1;33m)\u001b[0m\u001b[1;33m:\u001b[0m\u001b[1;33m\u001b[0m\u001b[1;33m\u001b[0m\u001b[0m\n\u001b[0;32m    148\u001b[0m         \u001b[1;31m# conda package.\u001b[0m\u001b[1;33m\u001b[0m\u001b[1;33m\u001b[0m\u001b[1;33m\u001b[0m\u001b[0m\n\u001b[1;32m--> 149\u001b[1;33m         \u001b[0m_lgeos\u001b[0m \u001b[1;33m=\u001b[0m \u001b[0mCDLL\u001b[0m\u001b[1;33m(\u001b[0m\u001b[0mos\u001b[0m\u001b[1;33m.\u001b[0m\u001b[0mpath\u001b[0m\u001b[1;33m.\u001b[0m\u001b[0mjoin\u001b[0m\u001b[1;33m(\u001b[0m\u001b[0msys\u001b[0m\u001b[1;33m.\u001b[0m\u001b[0mprefix\u001b[0m\u001b[1;33m,\u001b[0m \u001b[1;34m'Library'\u001b[0m\u001b[1;33m,\u001b[0m \u001b[1;34m'bin'\u001b[0m\u001b[1;33m,\u001b[0m \u001b[1;34m'geos_c.dll'\u001b[0m\u001b[1;33m)\u001b[0m\u001b[1;33m)\u001b[0m\u001b[1;33m\u001b[0m\u001b[1;33m\u001b[0m\u001b[0m\n\u001b[0m\u001b[0;32m    150\u001b[0m     \u001b[1;32melse\u001b[0m\u001b[1;33m:\u001b[0m\u001b[1;33m\u001b[0m\u001b[1;33m\u001b[0m\u001b[0m\n\u001b[0;32m    151\u001b[0m         \u001b[1;32mtry\u001b[0m\u001b[1;33m:\u001b[0m\u001b[1;33m\u001b[0m\u001b[1;33m\u001b[0m\u001b[0m\n",
      "\u001b[1;32m~\\miniconda3\\lib\\ctypes\\__init__.py\u001b[0m in \u001b[0;36m__init__\u001b[1;34m(self, name, mode, handle, use_errno, use_last_error, winmode)\u001b[0m\n\u001b[0;32m    380\u001b[0m \u001b[1;33m\u001b[0m\u001b[0m\n\u001b[0;32m    381\u001b[0m         \u001b[1;32mif\u001b[0m \u001b[0mhandle\u001b[0m \u001b[1;32mis\u001b[0m \u001b[1;32mNone\u001b[0m\u001b[1;33m:\u001b[0m\u001b[1;33m\u001b[0m\u001b[1;33m\u001b[0m\u001b[0m\n\u001b[1;32m--> 382\u001b[1;33m             \u001b[0mself\u001b[0m\u001b[1;33m.\u001b[0m\u001b[0m_handle\u001b[0m \u001b[1;33m=\u001b[0m \u001b[0m_dlopen\u001b[0m\u001b[1;33m(\u001b[0m\u001b[0mself\u001b[0m\u001b[1;33m.\u001b[0m\u001b[0m_name\u001b[0m\u001b[1;33m,\u001b[0m \u001b[0mmode\u001b[0m\u001b[1;33m)\u001b[0m\u001b[1;33m\u001b[0m\u001b[1;33m\u001b[0m\u001b[0m\n\u001b[0m\u001b[0;32m    383\u001b[0m         \u001b[1;32melse\u001b[0m\u001b[1;33m:\u001b[0m\u001b[1;33m\u001b[0m\u001b[1;33m\u001b[0m\u001b[0m\n\u001b[0;32m    384\u001b[0m             \u001b[0mself\u001b[0m\u001b[1;33m.\u001b[0m\u001b[0m_handle\u001b[0m \u001b[1;33m=\u001b[0m \u001b[0mhandle\u001b[0m\u001b[1;33m\u001b[0m\u001b[1;33m\u001b[0m\u001b[0m\n",
      "\u001b[1;31mFileNotFoundError\u001b[0m: Could not find module 'C:\\Users\\S.Savinskiy\\miniconda3\\Library\\bin\\geos_c.dll' (or one of its dependencies). Try using the full path with constructor syntax."
     ]
    }
   ],
   "source": [
    "import pandas as pd\n",
    "from shapely.geometry import Point\n",
    "import geopandas as gpd\n",
    "from geopandas import GeoDataFrame\n",
    "\n",
    "# df = pd.read_csv(\"Long_Lats.csv\", delimiter=',', skiprows=0, low_memory=False)\n",
    "\n",
    "df = dfr['park_poi']\n",
    "\n",
    "geometry = [Point(xy) for xy in zip(df['lat'], df['lon'])]\n",
    "gdf = GeoDataFrame(df, geometry=geometry)   \n",
    "\n",
    "#this is a simple map that goes with geopandas\n",
    "world = gpd.read_file(gpd.datasets.get_path('naturalearth_lowres'))\n",
    "gdf.plot(ax=world.plot(figsize=(10, 6)), marker='o', color='red', markersize=15);"
   ]
  }
 ],
 "metadata": {
  "kernelspec": {
   "display_name": "Python 3 (ipykernel)",
   "language": "python",
   "name": "python3"
  },
  "language_info": {
   "codemirror_mode": {
    "name": "ipython",
    "version": 3
   },
   "file_extension": ".py",
   "mimetype": "text/x-python",
   "name": "python",
   "nbconvert_exporter": "python",
   "pygments_lexer": "ipython3",
   "version": "3.9.1"
  }
 },
 "nbformat": 4,
 "nbformat_minor": 5
}
