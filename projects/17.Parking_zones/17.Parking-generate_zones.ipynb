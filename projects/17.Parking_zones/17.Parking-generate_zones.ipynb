{
 "cells": [
  {
   "cell_type": "code",
   "execution_count": null,
   "metadata": {},
   "outputs": [],
   "source": [
    "sys.path.append(\"settings/\")\n",
    "\n",
    "if 'creds' in sys.modules.keys(): del sys.modules['creds'];\n",
    "import  creds\n",
    "# print(creds.pg_creds)"
   ]
  },
  {
   "cell_type": "code",
   "execution_count": 169,
   "metadata": {},
   "outputs": [
    {
     "name": "stdout",
     "output_type": "stream",
     "text": [
      "0:00:00.000 ₀╷₀₀╷₀₀.₀₀₀ init()\n"
     ]
    },
    {
     "data": {
      "text/html": [
       "<table border=\"1\" class=\"dataframe\">\n",
       "  <thead>\n",
       "    <tr style=\"text-align: right;\">\n",
       "      <th></th>\n",
       "      <th>1</th>\n",
       "      <th>2</th>\n",
       "      <th>3</th>\n",
       "      <th>4</th>\n",
       "      <th>5</th>\n",
       "      <th>6</th>\n",
       "      <th>7</th>\n",
       "      <th>8</th>\n",
       "      <th>9</th>\n",
       "      <th>10</th>\n",
       "      <th>11</th>\n",
       "      <th>12</th>\n",
       "      <th>13</th>\n",
       "      <th>14</th>\n",
       "      <th>15</th>\n",
       "      <th>16</th>\n",
       "    </tr>\n",
       "  </thead>\n",
       "  <tbody>\n",
       "    <tr>\n",
       "      <th>0</th>\n",
       "      <td>HTML</td>\n",
       "      <td>Path</td>\n",
       "      <td>Struct</td>\n",
       "      <td>__builtins__</td>\n",
       "      <td>__cached__</td>\n",
       "      <td>__doc__</td>\n",
       "      <td>__file__</td>\n",
       "      <td>__loader__</td>\n",
       "      <td>__name__</td>\n",
       "      <td>__package__</td>\n",
       "      <td>__spec__</td>\n",
       "      <td>_log</td>\n",
       "      <td>_o</td>\n",
       "      <td>adds</td>\n",
       "      <td>clear_output</td>\n",
       "      <td>datetime</td>\n",
       "    </tr>\n",
       "    <tr>\n",
       "      <th>1</th>\n",
       "      <td>df_info</td>\n",
       "      <td>dfr</td>\n",
       "      <td>disp</td>\n",
       "      <td>display</td>\n",
       "      <td>draw_l</td>\n",
       "      <td>glob</td>\n",
       "      <td>gmtime</td>\n",
       "      <td>grpp</td>\n",
       "      <td>ii</td>\n",
       "      <td>init</td>\n",
       "      <td>isfile</td>\n",
       "      <td>join</td>\n",
       "      <td>l</td>\n",
       "      <td>listdir</td>\n",
       "      <td>math</td>\n",
       "      <td>merge_OKVED</td>\n",
       "    </tr>\n",
       "    <tr>\n",
       "      <th>2</th>\n",
       "      <td>np</td>\n",
       "      <td>os</td>\n",
       "      <td>pd</td>\n",
       "      <td>plt</td>\n",
       "      <td>read_rmsp</td>\n",
       "      <td>reload</td>\n",
       "      <td>requests</td>\n",
       "      <td>shutil</td>\n",
       "      <td>sizeof_fmt</td>\n",
       "      <td>start</td>\n",
       "      <td>strftime</td>\n",
       "      <td>time</td>\n",
       "      <td>tm</td>\n",
       "      <td>tmpxls</td>\n",
       "      <td>xl_rowcol_to_cell</td>\n",
       "      <td>xlspcl</td>\n",
       "    </tr>\n",
       "    <tr>\n",
       "      <th>3</th>\n",
       "      <td>zipfile</td>\n",
       "      <td>-</td>\n",
       "      <td>-</td>\n",
       "      <td>-</td>\n",
       "      <td>-</td>\n",
       "      <td>-</td>\n",
       "      <td>-</td>\n",
       "      <td>-</td>\n",
       "      <td>-</td>\n",
       "      <td>-</td>\n",
       "      <td>-</td>\n",
       "      <td>-</td>\n",
       "      <td>-</td>\n",
       "      <td>-</td>\n",
       "      <td>-</td>\n",
       "      <td>-</td>\n",
       "    </tr>\n",
       "  </tbody>\n",
       "</table>"
      ],
      "text/plain": [
       "<IPython.core.display.HTML object>"
      ]
     },
     "metadata": {},
     "output_type": "display_data"
    },
    {
     "data": {
      "text/html": [
       "<style  type=\"text/css\" >\n",
       "#T_a6c360f5_cecc_11ec_a277_0002721e9465row0_col0{\n",
       "            text-align:  left;\n",
       "             width: 200px;\n",
       "        }#T_a6c360f5_cecc_11ec_a277_0002721e9465row0_col1,#T_a6c360f5_cecc_11ec_a277_0002721e9465row0_col3{\n",
       "            background-color:  #fff0cc;\n",
       "             width: 80px;\n",
       "        }#T_a6c360f5_cecc_11ec_a277_0002721e9465row0_col4{\n",
       "            text-align:  left;\n",
       "             width: 800px;\n",
       "        }</style><table id=\"T_a6c360f5_cecc_11ec_a277_0002721e9465\" ><thead>    <tr>        <th class=\"blank level0\" ></th>        <th class=\"col_heading level0 col0\" >name</th>        <th class=\"col_heading level0 col1\" >rows</th>        <th class=\"col_heading level0 col2\" >cols</th>        <th class=\"col_heading level0 col3\" >memory</th>        <th class=\"col_heading level0 col4\" >keys</th>    </tr></thead><tbody>\n",
       "                <tr>\n",
       "                        <th id=\"T_a6c360f5_cecc_11ec_a277_0002721e9465level0_row0\" class=\"row_heading level0 row0\" >0</th>\n",
       "                        <td id=\"T_a6c360f5_cecc_11ec_a277_0002721e9465row0_col0\" class=\"data row0 col0\" >df = dfr['ЦКАД_from_kml']</td>\n",
       "                        <td id=\"T_a6c360f5_cecc_11ec_a277_0002721e9465row0_col1\" class=\"data row0 col1\" >1</td>\n",
       "                        <td id=\"T_a6c360f5_cecc_11ec_a277_0002721e9465row0_col2\" class=\"data row0 col2\" >7</td>\n",
       "                        <td id=\"T_a6c360f5_cecc_11ec_a277_0002721e9465row0_col3\" class=\"data row0 col3\" >177</td>\n",
       "                        <td id=\"T_a6c360f5_cecc_11ec_a277_0002721e9465row0_col4\" class=\"data row0 col4\" >['WKT',\t'название',\t'описание',\t'name',\t'showOnMap',\t'strokeWidth',\t'strokeOpacity']</td>\n",
       "            </tr>\n",
       "    </tbody></table>"
      ],
      "text/plain": [
       "<pandas.io.formats.style.Styler at 0x21f348a39d0>"
      ]
     },
     "metadata": {},
     "output_type": "display_data"
    }
   ],
   "source": [
    "#+++ версия 2020.09.21 инициализация посредством global init()\n",
    "from importlib import reload\n",
    "import sys; \n",
    "sys.path.append(\"../../lib/\")\n",
    "\n",
    "\n",
    "\n",
    "from  colorise import * \n",
    "from  geo import * \n",
    "\n",
    "import adds\n",
    "adds = reload(adds)\n",
    "from adds import * # import adds functions\n",
    "\n",
    "init()\n",
    "\n",
    "\n",
    "# if 'adds' in sys.modules.keys(): \n",
    "#     del sys.modules['adds'];\n",
    "#     print (\"del adds\")\n",
    "\n",
    "# print (sys.modules)\n",
    "\n",
    "ii(dfr,1)"
   ]
  },
  {
   "cell_type": "code",
   "execution_count": 168,
   "metadata": {},
   "outputs": [],
   "source": [
    "del sys.modules['colorise'];"
   ]
  },
  {
   "cell_type": "code",
   "execution_count": null,
   "metadata": {},
   "outputs": [],
   "source": []
  },
  {
   "cell_type": "code",
   "execution_count": 87,
   "metadata": {},
   "outputs": [
    {
     "name": "stdout",
     "output_type": "stream",
     "text": [
      "The area of the triangle is \n",
      "2.28\n",
      "2.83 1.63 3.05 \n",
      "P=7.51\n",
      "1.61 2.80 1.50\n"
     ]
    }
   ],
   "source": [
    "# 1,37 км²5,36 км\n",
    "kml_exp = '''\"POLYGON ((38.0990274 56.0571205, 38.1404836 56.0424048, 38.1446035 56.0568809, 38.0990274 56.0571205))\",Многоугольник 1,\n",
    "\"LINESTRING (38.1302697 56.046288, 38.1440026 56.056785)\",Линия 3,\n",
    "\"LINESTRING (38.1393148 56.0567336, 38.1401731 56.0427368)\",Линия 4,\n",
    "\"LINESTRING (38.099661 56.0569732, 38.142748 56.0517969)\",Линия 6,'''\n",
    "\n",
    "\n",
    "p1 = (56.0571205, 38.0990274, 56.0568809, 38.1446035)\n",
    "p2 = (56.0568809, 38.1446035, 56.0424048, 38.1404836)\n",
    "p3 = (56.0424048, 38.1404836, 56.0571205, 38.0990274)\n",
    "\n",
    "a = ll_distance(*p1)  \n",
    "b = ll_distance(*p2)  \n",
    "c = ll_distance(*p3)  \n",
    "s = (a + b + c) / 2  \n",
    "Area = (s*(s-a)*(s-b)*(s-c)) ** 0.5  \n",
    "print('The area of the triangle is \\n%0.2f\\n%0.2f %0.2f %0.2f \\nP=%0.2f' %(Area, a, b, c , (a+b+c) ))\n",
    "print('%0.2f %0.2f %0.2f' %(Area/a*2, Area/b*2, Area/c*2))"
   ]
  },
  {
   "cell_type": "code",
   "execution_count": 4,
   "metadata": {
    "tags": []
   },
   "outputs": [
    {
     "name": "stdout",
     "output_type": "stream",
     "text": [
      "*** Start at: 09:40:57 ₂₀₂₂₋₀₅₋₀₈  ************************************************************\n"
     ]
    },
    {
     "ename": "ModuleNotFoundError",
     "evalue": "No module named 'simplekml'",
     "output_type": "error",
     "traceback": [
      "\u001b[1;31m---------------------------------------------------------------------------\u001b[0m",
      "\u001b[1;31mModuleNotFoundError\u001b[0m                       Traceback (most recent call last)",
      "\u001b[1;32m<ipython-input-4-7cebd46eb0c5>\u001b[0m in \u001b[0;36m<module>\u001b[1;34m\u001b[0m\n\u001b[0;32m      1\u001b[0m \u001b[1;31m# 2022-05-04 v2.0 - by connected objects\u001b[0m\u001b[1;33m\u001b[0m\u001b[1;33m\u001b[0m\u001b[1;33m\u001b[0m\u001b[0m\n\u001b[0;32m      2\u001b[0m \u001b[0mtm\u001b[0m\u001b[1;33m(\u001b[0m\u001b[1;33m)\u001b[0m\u001b[1;33m\u001b[0m\u001b[1;33m\u001b[0m\u001b[0m\n\u001b[1;32m----> 3\u001b[1;33m \u001b[1;32mimport\u001b[0m \u001b[0msimplekml\u001b[0m\u001b[1;33m\u001b[0m\u001b[1;33m\u001b[0m\u001b[0m\n\u001b[0m\u001b[0;32m      4\u001b[0m \u001b[1;33m\u001b[0m\u001b[0m\n\u001b[0;32m      5\u001b[0m \u001b[1;33m\u001b[0m\u001b[0m\n",
      "\u001b[1;31mModuleNotFoundError\u001b[0m: No module named 'simplekml'"
     ]
    }
   ],
   "source": [
    "# 2022-05-04 v2.0 - by connected objects\n",
    "tm()\n",
    "import simplekml\n",
    "\n",
    "\n",
    "def Draw_geojson(fname,routes,points):\n",
    "    kml = simplekml.Kml()\n",
    "    for df_point in points:\n",
    "        for i,row in df_point['points'].iterrows():\n",
    "            pt2 = kml.newpoint(name= row['name'], coords=[(row['Longitude'],row['Latitude'])])\n",
    "            pt2.style.iconstyle.icon.href = df_point['icon']\n",
    "#             set color of icon to be cyan (RGB=#00ffff)\n",
    "            pt2.style.iconstyle.color ='44ff8800' # aabbggrr\n",
    "    \n",
    "    coords = []      \n",
    "    linecoords = []\n",
    "    multilin = {}\n",
    "#     disp (routes)\n",
    "    \n",
    "    print (\"unique\",pd.unique(routes['price']))\n",
    "    \n",
    "    prices = pd.unique(routes['price'])\n",
    "    \n",
    "    for pr in prices:\n",
    "    \n",
    "        price = pr \n",
    "        routes_pr = routes[routes['price']==pr]\n",
    "        \n",
    "#         disp(routes_pr[:3])\n",
    "        \n",
    "        multilin[pr] = kml.newmultigeometry(name=\"Тариф %s руб.\\n %s\"% (price,\",\".join(routes_pr[\"number\"])), \n",
    "    # #                                 description=\"%s\"% df_route[\"price_description\"]\n",
    "                                                          )\n",
    "        \n",
    "        for i,df_route in routes_pr.iterrows(): \n",
    "            linecoords = []\n",
    "\n",
    "            geocoords = json.loads(df_route['geometry'])['coordinates']\n",
    "\n",
    "            for g in geocoords: \n",
    "                [x,y] = g\n",
    "                linecoords.append((x,y))\n",
    "            multilin[pr].newlinestring(coords=linecoords)\n",
    "\n",
    "        multilin[pr].style.linestyle.color = simplekml.Color.hex(colorise(price))   # Red\n",
    "        multilin[pr].style.linestyle.width= 3  # 10 pixels\n",
    "\n",
    "   \n",
    "    kml.save(fname)   \n",
    "\n",
    "\n",
    "df = dfr['parking_zone'] #[:2]\n",
    "\n",
    "tm(df.shape[0])\n",
    "\n",
    "# dfs = [y for x, y in df.groupby('price', as_index=False)]\n",
    "\n",
    "df = df.sort_values('price')\n",
    "\n",
    "# print(pd.unique(df['price']))\n",
    "step = 40000\n",
    "\n",
    "dfs = [df[d:d+step] for d in range(0,df.shape[0], step)]\n",
    "\n",
    "chk_size = 20000\n",
    "dfss = []\n",
    "\n",
    "for d in dfs:\n",
    "# for d in ['70']:\n",
    "    price = d['price'][0:1].values[0]\n",
    "    if ( d.shape[0] > chk_size):\n",
    "        for i,n  in enumerate(range(0,  d.shape[0],chk_size)):\n",
    "            dfss = dfss + [{\"n\":\"%s_%s\"%(price,i) ,\"df\":d[n:n+chk_size]}]\n",
    "    else: dfss = dfss + [{\"n\":\"%s\"%price,\"df\":d}]\n",
    "\n",
    "\n",
    "for k,d in enumerate(dfss):\n",
    "    fn_code = \"(\"+str(k)+\")\"+\"_\".join(pd.unique(d['df']['price'].astype(str)))\n",
    "    Draw_geojson(r'C:\\Users\\S.Savinskiy\\Downloads\\parking'+fn_code+'.kml',\n",
    "         d['df'],\n",
    "         [\n",
    "         ])\n",
    "    \n",
    "    tm([k,d['n'],d['df'].shape[0],fn_code])\n",
    "tm('>>>')"
   ]
  },
  {
   "cell_type": "code",
   "execution_count": 294,
   "metadata": {},
   "outputs": [
    {
     "name": "stdout",
     "output_type": "stream",
     "text": [
      "0:00:06.348 ₀╷₀₀╷₃₈.₂₄₅ [0, []]\n"
     ]
    },
    {
     "data": {
      "text/plain": [
       "1651685835.265795"
      ]
     },
     "execution_count": 294,
     "metadata": {},
     "output_type": "execute_result"
    }
   ],
   "source": [
    "import glob\n",
    "import os\n",
    "fpath = r'C:\\Users\\S.Savinskiy\\Downloads\\\\'\n",
    "files  = glob.glob(fpath+'parking*')\n",
    "\n",
    "for f in files:\n",
    "    os.remove(f)\n",
    "tm([len(files), [ (x.split(\"\\\\\")[-1]) for x in files ]] )"
   ]
  },
  {
   "cell_type": "code",
   "execution_count": 7,
   "metadata": {},
   "outputs": [
    {
     "name": "stdout",
     "output_type": "stream",
     "text": [
      "*** Start at: 09:42:00 ₂₀₂₂₋₀₅₋₀₈  ************************************************************\n"
     ]
    },
    {
     "ename": "NameError",
     "evalue": "name 'colorise' is not defined",
     "output_type": "error",
     "traceback": [
      "\u001b[1;31m---------------------------------------------------------------------------\u001b[0m",
      "\u001b[1;31mNameError\u001b[0m                                 Traceback (most recent call last)",
      "\u001b[1;32m<ipython-input-7-15734feb9c03>\u001b[0m in \u001b[0;36m<module>\u001b[1;34m\u001b[0m\n\u001b[0;32m     70\u001b[0m \u001b[0mparams\u001b[0m \u001b[1;33m=\u001b[0m \u001b[1;33m(\u001b[0m\u001b[1;36m1000\u001b[0m\u001b[1;33m,\u001b[0m \u001b[1;36m55.753145\u001b[0m\u001b[1;33m,\u001b[0m \u001b[1;36m37.615845\u001b[0m \u001b[1;33m,\u001b[0m \u001b[1;36m0.3\u001b[0m \u001b[1;33m,\u001b[0m \u001b[1;36m1\u001b[0m\u001b[1;33m)\u001b[0m\u001b[1;33m\u001b[0m\u001b[1;33m\u001b[0m\u001b[0m\n\u001b[0;32m     71\u001b[0m \u001b[1;33m\u001b[0m\u001b[0m\n\u001b[1;32m---> 72\u001b[1;33m \u001b[0mdraw_map\u001b[0m\u001b[1;33m(\u001b[0m\u001b[0mdf\u001b[0m\u001b[1;33m[\u001b[0m\u001b[1;33m:\u001b[0m\u001b[1;33m:\u001b[0m\u001b[1;36m1\u001b[0m\u001b[1;33m]\u001b[0m\u001b[1;33m,\u001b[0m \u001b[0mparams\u001b[0m\u001b[1;33m)\u001b[0m\u001b[1;33m\u001b[0m\u001b[1;33m\u001b[0m\u001b[0m\n\u001b[0m\u001b[0;32m     73\u001b[0m \u001b[0mtm\u001b[0m\u001b[1;33m(\u001b[0m\u001b[1;34m'>>>>'\u001b[0m\u001b[1;33m)\u001b[0m\u001b[1;33m\u001b[0m\u001b[1;33m\u001b[0m\u001b[0m\n",
      "\u001b[1;32m<ipython-input-7-15734feb9c03>\u001b[0m in \u001b[0;36mdraw_map\u001b[1;34m(df, p)\u001b[0m\n\u001b[0;32m     57\u001b[0m         my_PolyLine=folium.PolyLine(locations=c,\n\u001b[0;32m     58\u001b[0m                                     \u001b[0mweight\u001b[0m\u001b[1;33m=\u001b[0m\u001b[1;36m3\u001b[0m\u001b[1;33m,\u001b[0m\u001b[1;33m\u001b[0m\u001b[1;33m\u001b[0m\u001b[0m\n\u001b[1;32m---> 59\u001b[1;33m                                     \u001b[0mcolor\u001b[0m\u001b[1;33m=\u001b[0m\u001b[1;34m'#'\u001b[0m\u001b[1;33m+\u001b[0m\u001b[0mcolorise\u001b[0m\u001b[1;33m(\u001b[0m\u001b[0mprice\u001b[0m\u001b[1;33m)\u001b[0m\u001b[1;33m+\u001b[0m\u001b[1;34m\"cc\"\u001b[0m\u001b[1;33m,\u001b[0m\u001b[1;33m\u001b[0m\u001b[1;33m\u001b[0m\u001b[0m\n\u001b[0m\u001b[0;32m     60\u001b[0m                                    tooltip=prices[i], )\n\u001b[0;32m     61\u001b[0m         \u001b[0mm\u001b[0m\u001b[1;33m.\u001b[0m\u001b[0madd_child\u001b[0m\u001b[1;33m(\u001b[0m\u001b[0mmy_PolyLine\u001b[0m\u001b[1;33m)\u001b[0m\u001b[1;33m\u001b[0m\u001b[1;33m\u001b[0m\u001b[0m\n",
      "\u001b[1;31mNameError\u001b[0m: name 'colorise' is not defined"
     ]
    }
   ],
   "source": [
    "# 2022-05-05\n",
    "import folium\n",
    "tm()\n",
    "\n",
    "df = dfr['parking_zone'][::1]\n",
    "\n",
    "def swap(p):\n",
    "    res = []\n",
    "    for pp in p:\n",
    "        res = res + [[pp[1],pp[0]]]\n",
    "    return res\n",
    "\n",
    "\n",
    "def draw_map(df, p=()):\n",
    "    \n",
    "    (r0,r1,r2,r3,r4) = p \n",
    "\n",
    "    \n",
    "    zone = [\n",
    "        [r1-r3,r2-r4],\n",
    "        [r1+r3,r2-r4],\n",
    "        [r1+r3,r2+r4],\n",
    "        [r1-r3,r2+r4],\n",
    "        [r1-r3,r2-r4]\n",
    "           ]\n",
    "    \n",
    "    prices = list(df['price'])\n",
    "    \n",
    "    lng_lat = list(map(swap, [json.loads(x['geometry'])['coordinates'] for i,x in df.iterrows()]))\n",
    "\n",
    "    center = lng_lat[0][0]\n",
    "    center = [55.72,37.60]\n",
    "    \n",
    "    f = folium.Figure(width=1600, height=800)\n",
    "    \n",
    "    m = folium.Map(location=center, max_bounds=True).add_to(f)\n",
    "    \n",
    "    m.fit_bounds([[r1-r3,r2-r4],[r1+r3,r2+r4]])\n",
    "\n",
    "    my_PolyLine=folium.PolyLine(locations=zone ,weight=3,color='#ff880077')\n",
    "    m.add_child(my_PolyLine)    \n",
    "    m.add_child(folium.LatLngPopup())\n",
    "\n",
    "    [lat_max,lon_max,lat_min,lon_min]=[0,0,90,180] \n",
    "    \n",
    "    for i,c in enumerate(lng_lat):\n",
    "        price = list(df['price'])[i]\n",
    "\n",
    "        lat_max = max(c[0][0],lat_max)\n",
    "        lon_max = max(c[0][1],lon_max)\n",
    "\n",
    "        lat_min = min(c[0][0],lat_min)\n",
    "        lon_min = min(c[1][1],lon_min)\n",
    "\n",
    "        \n",
    "        \n",
    "        my_PolyLine=folium.PolyLine(locations=c,\n",
    "                                    weight=3,\n",
    "                                    color='#'+colorise(price)+\"cc\",\n",
    "                                   tooltip=prices[i], )\n",
    "        m.add_child(my_PolyLine)    \n",
    "    \n",
    "    dlat = (lat_max-lat_min)/2 \n",
    "    dlon = (lon_max-lon_min)/2 \n",
    "    print ([lat_max,lon_max,lat_min,lon_min], (lat_max-dlat, lon_max-dlon, dlat ,dlon ) )\n",
    "\n",
    "    \n",
    "    display(m)\n",
    "\n",
    "params = (1000, 55.753145, 37.615845 , 0.3 , 1)\n",
    "\n",
    "draw_map(df[::1], params)\n",
    "tm('>>>>')\n"
   ]
  },
  {
   "cell_type": "code",
   "execution_count": 6,
   "metadata": {},
   "outputs": [
    {
     "name": "stdout",
     "output_type": "stream",
     "text": [
      "*** Start at: 09:41:35 ₂₀₂₂₋₀₅₋₀₈  ************************************************************\n",
      "0:00:01.874 ₀╷₀₀╷₀₁.₈₇₄ 15100\n"
     ]
    },
    {
     "ename": "NameError",
     "evalue": "name 'draw_map' is not defined",
     "output_type": "error",
     "traceback": [
      "\u001b[1;31m---------------------------------------------------------------------------\u001b[0m",
      "\u001b[1;31mNameError\u001b[0m                                 Traceback (most recent call last)",
      "\u001b[1;32m<ipython-input-6-481fe29b5483>\u001b[0m in \u001b[0;36m<module>\u001b[1;34m\u001b[0m\n\u001b[0;32m     20\u001b[0m \u001b[0mdf\u001b[0m\u001b[1;33m[\u001b[0m\u001b[1;33m:\u001b[0m\u001b[1;36m3\u001b[0m\u001b[1;33m]\u001b[0m\u001b[1;33m\u001b[0m\u001b[1;33m\u001b[0m\u001b[0m\n\u001b[0;32m     21\u001b[0m \u001b[1;32mif\u001b[0m\u001b[1;33m(\u001b[0m\u001b[0mdf\u001b[0m\u001b[1;33m.\u001b[0m\u001b[0mshape\u001b[0m\u001b[1;33m[\u001b[0m\u001b[1;36m0\u001b[0m\u001b[1;33m]\u001b[0m\u001b[1;33m>\u001b[0m \u001b[1;36m0\u001b[0m \u001b[1;33m)\u001b[0m\u001b[1;33m:\u001b[0m\u001b[1;33m\u001b[0m\u001b[1;33m\u001b[0m\u001b[0m\n\u001b[1;32m---> 22\u001b[1;33m     \u001b[0mdraw_map\u001b[0m\u001b[1;33m(\u001b[0m\u001b[0mdf\u001b[0m\u001b[1;33m,\u001b[0m \u001b[0mparams\u001b[0m \u001b[1;33m)\u001b[0m\u001b[1;33m\u001b[0m\u001b[1;33m\u001b[0m\u001b[0m\n\u001b[0m",
      "\u001b[1;31mNameError\u001b[0m: name 'draw_map' is not defined"
     ]
    }
   ],
   "source": [
    "import requests\n",
    "import json\n",
    "# import pandas as pd\n",
    "\n",
    "tm()\n",
    "\n",
    "params = (1000, 55.798603, 45.480469305, 4.3, 15.3)\n",
    "\n",
    "\n",
    "url = \"https://api.parkomatica.ru/zone/get-list?radius1=%s&latitude=%s&longitude=%s845&latitudeDelta=%s&longitudeDelta=%s\"%params\n",
    "\n",
    "# GET\n",
    "r = requests.get(url)\n",
    "\n",
    "df = dfr['parking_zone'] = pd.DataFrame(r.json()['data'])\n",
    "\n",
    "df.to_pickle('parking_zone.pcl')\n",
    "\n",
    "tm(df.shape[0])\n",
    "df[:3]\n",
    "if(df.shape[0]> 0 ):\n",
    "    draw_map(df, params )"
   ]
  },
  {
   "cell_type": "code",
   "execution_count": 448,
   "metadata": {},
   "outputs": [
    {
     "data": {
      "text/plain": [
       "[55.69, 37.347]"
      ]
     },
     "execution_count": 448,
     "metadata": {},
     "output_type": "execute_result"
    }
   ],
   "source": [
    "\n",
    "df = dfr['geo_cache'] \n",
    "df.iloc[0]['ll']"
   ]
  },
  {
   "cell_type": "code",
   "execution_count": 513,
   "metadata": {},
   "outputs": [
    {
     "data": {
      "text/html": [
       "<div>\n",
       "<style scoped>\n",
       "    .dataframe tbody tr th:only-of-type {\n",
       "        vertical-align: middle;\n",
       "    }\n",
       "\n",
       "    .dataframe tbody tr th {\n",
       "        vertical-align: top;\n",
       "    }\n",
       "\n",
       "    .dataframe thead th {\n",
       "        text-align: right;\n",
       "    }\n",
       "</style>\n",
       "<table border=\"1\" class=\"dataframe\">\n",
       "  <thead>\n",
       "    <tr style=\"text-align: right;\">\n",
       "      <th></th>\n",
       "      <th>building</th>\n",
       "      <th>house_number</th>\n",
       "      <th>road</th>\n",
       "      <th>city_district</th>\n",
       "      <th>city</th>\n",
       "      <th>state</th>\n",
       "      <th>ISO3166-2-lvl4</th>\n",
       "      <th>region</th>\n",
       "      <th>postcode</th>\n",
       "      <th>country</th>\n",
       "      <th>country_code</th>\n",
       "      <th>lat</th>\n",
       "      <th>lon</th>\n",
       "      <th>boundingbox</th>\n",
       "    </tr>\n",
       "  </thead>\n",
       "  <tbody>\n",
       "    <tr>\n",
       "      <th>0</th>\n",
       "      <td>Технопарк Сколково</td>\n",
       "      <td>42 к1</td>\n",
       "      <td>Большой бульвар</td>\n",
       "      <td>Можайский район</td>\n",
       "      <td>Москва</td>\n",
       "      <td>Москва</td>\n",
       "      <td>RU-MOW</td>\n",
       "      <td>Центральный федеральный округ</td>\n",
       "      <td>143026</td>\n",
       "      <td>Россия</td>\n",
       "      <td>ru</td>\n",
       "      <td>55.69</td>\n",
       "      <td>37.347</td>\n",
       "      <td>[55.6909659, 55.6964862, 37.3465382, 37.3482907]</td>\n",
       "    </tr>\n",
       "  </tbody>\n",
       "</table>\n",
       "</div>"
      ],
      "text/plain": [
       "             building house_number             road    city_district    city  \\\n",
       "0  Технопарк Сколково        42 к1  Большой бульвар  Можайский район  Москва   \n",
       "\n",
       "    state ISO3166-2-lvl4                         region postcode country  \\\n",
       "0  Москва         RU-MOW  Центральный федеральный округ   143026  Россия   \n",
       "\n",
       "  country_code    lat     lon  \\\n",
       "0           ru  55.69  37.347   \n",
       "\n",
       "                                        boundingbox  \n",
       "0  [55.6909659, 55.6964862, 37.3465382, 37.3482907]  "
      ]
     },
     "execution_count": 513,
     "metadata": {},
     "output_type": "execute_result"
    }
   ],
   "source": [
    "dfr['geo_cache']"
   ]
  },
  {
   "cell_type": "code",
   "execution_count": 589,
   "metadata": {},
   "outputs": [],
   "source": [
    "del dfr['geo_cache']"
   ]
  },
  {
   "cell_type": "code",
   "execution_count": 581,
   "metadata": {},
   "outputs": [
    {
     "name": "stdout",
     "output_type": "stream",
     "text": [
      "Cтарая афишная тумба, улица 9 Января, Чичеры, Ленинский район, Воронеж, городской округ Воронеж, Воронежская область, Центральный федеральный округ, 394018, Россия\n"
     ]
    }
   ],
   "source": [
    "ll = [39.19166, 51.661509]\n",
    "ll = [51.660625, 39.194632]\n",
    "\n",
    "location = geolocator.reverse(ll)\n",
    "print(location)"
   ]
  },
  {
   "cell_type": "code",
   "execution_count": 601,
   "metadata": {},
   "outputs": [
    {
     "data": {
      "text/html": [
       "<div>\n",
       "<style scoped>\n",
       "    .dataframe tbody tr th:only-of-type {\n",
       "        vertical-align: middle;\n",
       "    }\n",
       "\n",
       "    .dataframe tbody tr th {\n",
       "        vertical-align: top;\n",
       "    }\n",
       "\n",
       "    .dataframe thead th {\n",
       "        text-align: right;\n",
       "    }\n",
       "</style>\n",
       "<table border=\"1\" class=\"dataframe\">\n",
       "  <thead>\n",
       "    <tr style=\"text-align: right;\">\n",
       "      <th></th>\n",
       "      <th>longitude</th>\n",
       "      <th>latitude</th>\n",
       "      <th>city_district</th>\n",
       "      <th>village</th>\n",
       "      <th>state</th>\n",
       "      <th>ISO3166-2-lvl4</th>\n",
       "      <th>region</th>\n",
       "      <th>postcode</th>\n",
       "      <th>country</th>\n",
       "      <th>country_code</th>\n",
       "      <th>...</th>\n",
       "      <th>suburb</th>\n",
       "      <th>highway</th>\n",
       "      <th>shop</th>\n",
       "      <th>amenity</th>\n",
       "      <th>building</th>\n",
       "      <th>residential</th>\n",
       "      <th>ISO3166-2-lvl15</th>\n",
       "      <th>municipality</th>\n",
       "      <th>industrial</th>\n",
       "      <th>town</th>\n",
       "    </tr>\n",
       "  </thead>\n",
       "  <tbody>\n",
       "    <tr>\n",
       "      <th>0</th>\n",
       "      <td>37.347</td>\n",
       "      <td>55.697</td>\n",
       "      <td>Можайский район</td>\n",
       "      <td>Инновационный центр «Сколково»</td>\n",
       "      <td>Москва</td>\n",
       "      <td>RU-MOW</td>\n",
       "      <td>Центральный федеральный округ</td>\n",
       "      <td>143026</td>\n",
       "      <td>Россия</td>\n",
       "      <td>ru</td>\n",
       "      <td>...</td>\n",
       "      <td>NaN</td>\n",
       "      <td>NaN</td>\n",
       "      <td>NaN</td>\n",
       "      <td>NaN</td>\n",
       "      <td>NaN</td>\n",
       "      <td>NaN</td>\n",
       "      <td>NaN</td>\n",
       "      <td>NaN</td>\n",
       "      <td>NaN</td>\n",
       "      <td>NaN</td>\n",
       "    </tr>\n",
       "  </tbody>\n",
       "</table>\n",
       "<p>1 rows × 29 columns</p>\n",
       "</div>"
      ],
      "text/plain": [
       "   longitude  latitude    city_district                         village  \\\n",
       "0     37.347    55.697  Можайский район  Инновационный центр «Сколково»   \n",
       "\n",
       "    state ISO3166-2-lvl4                         region postcode country  \\\n",
       "0  Москва         RU-MOW  Центральный федеральный округ   143026  Россия   \n",
       "\n",
       "  country_code  ... suburb highway shop amenity building residential  \\\n",
       "0           ru  ...    NaN     NaN  NaN     NaN      NaN         NaN   \n",
       "\n",
       "  ISO3166-2-lvl15 municipality industrial town  \n",
       "0             NaN          NaN        NaN  NaN  \n",
       "\n",
       "[1 rows x 29 columns]"
      ]
     },
     "execution_count": 601,
     "metadata": {},
     "output_type": "execute_result"
    }
   ],
   "source": [
    "def get_reverse(ll):\n",
    "\n",
    "    location = geolocator.reverse(ll)\n",
    "    print (ll,location.raw['address'])\n",
    "    gc = location.raw['address'] \n",
    "    [gc['latitude'],gc['longitude']] = ll\n",
    "    gc['boundingbox'] = [location.raw['boundingbox']]\n",
    "    res = pd.DataFrame(gc)\n",
    "#     print (gc)\n",
    "#     disp (res)\n",
    "    return res\n",
    "\n",
    "\n",
    "cache_path = r'db/geo_cache.pcl'\n",
    "\n",
    "def geo_cache(ll):\n",
    " \n",
    "    if 'geo_cache' in dfr.keys():\n",
    "#         print (\"1. dfr true\")\n",
    "        df =  dfr['geo_cache']       \n",
    "    else:\n",
    "        try:\n",
    "#             print (\"2. file true\")\n",
    "            df = dfr['geo_cache'] = pd.read_pickle(cache_path)\n",
    "        except:\n",
    "            print (\"3. no file\")\n",
    "            df = pd.DataFrame(columns={'longitude','latitude'})\n",
    "            \n",
    "    res = df[(df['latitude'] == ll[0]) & (df['longitude'] == ll[1])]\n",
    "    if(res.shape[0] == 0):\n",
    "        print (\"4. add new\")\n",
    "        res = pd.DataFrame(get_reverse(ll))\n",
    "        df = df.append(res)\n",
    "        df.to_pickle(cache_path)           \n",
    "        dfr['geo_cache'] = df        \n",
    "    return res\n",
    "    \n",
    "geo_cache([55.697,37.347]) "
   ]
  },
  {
   "cell_type": "code",
   "execution_count": 596,
   "metadata": {},
   "outputs": [
    {
     "data": {
      "text/plain": [
       "longitude          150\n",
       "latitude           150\n",
       "city_district       79\n",
       "village              1\n",
       "state              150\n",
       "ISO3166-2-lvl4     150\n",
       "region             149\n",
       "postcode           149\n",
       "country            150\n",
       "country_code       150\n",
       "boundingbox        150\n",
       "county              31\n",
       "house_number       101\n",
       "road               147\n",
       "neighbourhood       20\n",
       "city               147\n",
       "tourism              3\n",
       "craft                2\n",
       "quarter              7\n",
       "suburb             100\n",
       "highway              4\n",
       "shop                 2\n",
       "amenity             27\n",
       "building             6\n",
       "residential          1\n",
       "ISO3166-2-lvl15     14\n",
       "municipality         2\n",
       "industrial           1\n",
       "town                 1\n",
       "dtype: int64"
      ]
     },
     "execution_count": 596,
     "metadata": {},
     "output_type": "execute_result"
    }
   ],
   "source": [
    "df = pd.read_pickle(cache_path)\n",
    "df.count()"
   ]
  },
  {
   "cell_type": "code",
   "execution_count": 597,
   "metadata": {},
   "outputs": [
    {
     "data": {
      "text/html": [
       "<style type=\"text/css\">\n",
       "#T_e9023_row0_col0, #T_e9023_row1_col0, #T_e9023_row2_col0, #T_e9023_row3_col0 {\n",
       "  text-align: left;\n",
       "  width: 200px;\n",
       "}\n",
       "#T_e9023_row0_col1, #T_e9023_row0_col3 {\n",
       "  background-color: #fff0cc;\n",
       "  width: 80px;\n",
       "}\n",
       "#T_e9023_row0_col4, #T_e9023_row1_col4, #T_e9023_row2_col4, #T_e9023_row3_col4 {\n",
       "  text-align: left;\n",
       "  width: 800px;\n",
       "}\n",
       "</style>\n",
       "<table id=\"T_e9023_\">\n",
       "  <thead>\n",
       "    <tr>\n",
       "      <th class=\"blank level0\" >&nbsp;</th>\n",
       "      <th class=\"col_heading level0 col0\" >name</th>\n",
       "      <th class=\"col_heading level0 col1\" >rows</th>\n",
       "      <th class=\"col_heading level0 col2\" >cols</th>\n",
       "      <th class=\"col_heading level0 col3\" >memory</th>\n",
       "      <th class=\"col_heading level0 col4\" >keys</th>\n",
       "    </tr>\n",
       "  </thead>\n",
       "  <tbody>\n",
       "    <tr>\n",
       "      <th id=\"T_e9023_level0_row0\" class=\"row_heading level0 row0\" >0</th>\n",
       "      <td id=\"T_e9023_row0_col0\" class=\"data row0 col0\" >df = dfr['parking_zone']</td>\n",
       "      <td id=\"T_e9023_row0_col1\" class=\"data row0 col1\" >15100</td>\n",
       "      <td id=\"T_e9023_row0_col2\" class=\"data row0 col2\" >7</td>\n",
       "      <td id=\"T_e9023_row0_col3\" class=\"data row0 col3\" >845,728</td>\n",
       "      <td id=\"T_e9023_row0_col4\" class=\"data row0 col4\" >['id',\t'number',\t'geometry',\t'price_description',\t'price',\t'weekends',\t'periods']</td>\n",
       "    </tr>\n",
       "    <tr>\n",
       "      <th id=\"T_e9023_level0_row1\" class=\"row_heading level0 row1\" >1</th>\n",
       "      <td id=\"T_e9023_row1_col0\" class=\"data row1 col0\" >df = dfr['georeverse_parkig']</td>\n",
       "      <td id=\"T_e9023_row1_col1\" class=\"data row1 col1\" >16</td>\n",
       "      <td id=\"T_e9023_row1_col2\" class=\"data row1 col2\" >18</td>\n",
       "      <td id=\"T_e9023_row1_col3\" class=\"data row1 col3\" >2,432</td>\n",
       "      <td id=\"T_e9023_row1_col4\" class=\"data row1 col4\" >['house_number',\t'road',\t'neighbourhood',\t'city_district',\t'city',\t'county',\t'state',\t'ISO3166-2-lvl4',\t'region',\t'postcode',\t'country',\t'country_code',\t'building',\t'suburb',\t'residential',\t'amenity',\t'quarter',\t'ISO3166-2-lvl15']</td>\n",
       "    </tr>\n",
       "    <tr>\n",
       "      <th id=\"T_e9023_level0_row2\" class=\"row_heading level0 row2\" >2</th>\n",
       "      <td id=\"T_e9023_row2_col0\" class=\"data row2 col0\" >df = dfr['ЦКАД_from_kml']</td>\n",
       "      <td id=\"T_e9023_row2_col1\" class=\"data row2 col1\" >1</td>\n",
       "      <td id=\"T_e9023_row2_col2\" class=\"data row2 col2\" >7</td>\n",
       "      <td id=\"T_e9023_row2_col3\" class=\"data row2 col3\" >177</td>\n",
       "      <td id=\"T_e9023_row2_col4\" class=\"data row2 col4\" >['WKT',\t'название',\t'описание',\t'name',\t'showOnMap',\t'strokeWidth',\t'strokeOpacity']</td>\n",
       "    </tr>\n",
       "    <tr>\n",
       "      <th id=\"T_e9023_level0_row3\" class=\"row_heading level0 row3\" >3</th>\n",
       "      <td id=\"T_e9023_row3_col0\" class=\"data row3 col0\" >df = dfr['geo_cache']</td>\n",
       "      <td id=\"T_e9023_row3_col1\" class=\"data row3 col1\" >150</td>\n",
       "      <td id=\"T_e9023_row3_col2\" class=\"data row3 col2\" >29</td>\n",
       "      <td id=\"T_e9023_row3_col3\" class=\"data row3 col3\" >36,000</td>\n",
       "      <td id=\"T_e9023_row3_col4\" class=\"data row3 col4\" >['longitude',\t'latitude',\t'city_district',\t'village',\t'state',\t'ISO3166-2-lvl4',\t'region',\t'postcode',\t'country',\t'country_code',\t'boundingbox',\t'county',\t'house_number',\t'road',\t'neighbourhood',\t'city',\t'tourism',\t'craft',\t'quarter',\t'suburb',\t'highway',\t'shop',\t'amenity',\t'building',\t'residential',\t'ISO3166-2-lvl15',\t'municipality',\t'industrial',\t'town']</td>\n",
       "    </tr>\n",
       "  </tbody>\n",
       "</table>\n"
      ],
      "text/plain": [
       "<pandas.io.formats.style.Styler at 0x19c2dc62400>"
      ]
     },
     "metadata": {},
     "output_type": "display_data"
    }
   ],
   "source": [
    "ii(dfr,1)"
   ]
  },
  {
   "cell_type": "code",
   "execution_count": 423,
   "metadata": {},
   "outputs": [
    {
     "data": {
      "text/plain": [
       "{'place_id': 191873293,\n",
       " 'licence': 'Data © OpenStreetMap contributors, ODbL 1.0. https://osm.org/copyright',\n",
       " 'osm_type': 'way',\n",
       " 'osm_id': 382743663,\n",
       " 'lat': '55.693769849999995',\n",
       " 'lon': '37.34740556441982',\n",
       " 'display_name': 'Технопарк Сколково, 42 к1, Большой бульвар, Можайский район, Москва, Центральный федеральный округ, 143026, Россия',\n",
       " 'address': {'building': 'Технопарк Сколково',\n",
       "  'house_number': '42 к1',\n",
       "  'road': 'Большой бульвар',\n",
       "  'city_district': 'Можайский район',\n",
       "  'city': 'Москва',\n",
       "  'state': 'Москва',\n",
       "  'ISO3166-2-lvl4': 'RU-MOW',\n",
       "  'region': 'Центральный федеральный округ',\n",
       "  'postcode': '143026',\n",
       "  'country': 'Россия',\n",
       "  'country_code': 'ru'},\n",
       " 'boundingbox': ['55.6909659', '55.6964862', '37.3465382', '37.3482907']}"
      ]
     },
     "execution_count": 423,
     "metadata": {},
     "output_type": "execute_result"
    }
   ],
   "source": [
    "location = geolocator.reverse([55.69,37.347])\n",
    "\n",
    "location.raw"
   ]
  },
  {
   "cell_type": "code",
   "execution_count": 612,
   "metadata": {},
   "outputs": [
    {
     "data": {
      "text/plain": [
       "id                   15100\n",
       "number               15100\n",
       "geometry             15100\n",
       "price_description    13765\n",
       "price                15100\n",
       "weekends             15100\n",
       "periods              15100\n",
       "dtype: int64"
      ]
     },
     "execution_count": 612,
     "metadata": {},
     "output_type": "execute_result"
    }
   ],
   "source": [
    "dfr['parking_zone'].count()"
   ]
  },
  {
   "cell_type": "code",
   "execution_count": 629,
   "metadata": {},
   "outputs": [
    {
     "name": "stdout",
     "output_type": "stream",
     "text": [
      "*** Start at: 21:14:34 ₂₀₂₂₋₀₅₋₀₅  ************************************************************\n",
      "0:00:00.007 ₀╷₀₀╷₀₀.₀₀₇ [0, 0    Нижний Новгород\n",
      "Name: city, dtype: object]\n",
      "0:00:00.018 ₀╷₀₀╷₀₀.₀₂₆ Count\n",
      "city         6\n",
      "region       6\n",
      "road         6\n",
      "geometry     6\n",
      "price        6\n",
      "latitude     6\n",
      "longitude    6\n",
      "dtype: int64\n"
     ]
    },
    {
     "data": {
      "text/html": [
       "<div>\n",
       "<style scoped>\n",
       "    .dataframe tbody tr th:only-of-type {\n",
       "        vertical-align: middle;\n",
       "    }\n",
       "\n",
       "    .dataframe tbody tr th {\n",
       "        vertical-align: top;\n",
       "    }\n",
       "\n",
       "    .dataframe thead th {\n",
       "        text-align: right;\n",
       "    }\n",
       "</style>\n",
       "<table border=\"1\" class=\"dataframe\">\n",
       "  <thead>\n",
       "    <tr style=\"text-align: right;\">\n",
       "      <th></th>\n",
       "      <th>city</th>\n",
       "      <th>region</th>\n",
       "      <th>road</th>\n",
       "      <th>geometry</th>\n",
       "      <th>price</th>\n",
       "      <th>latitude</th>\n",
       "      <th>longitude</th>\n",
       "    </tr>\n",
       "  </thead>\n",
       "  <tbody>\n",
       "    <tr>\n",
       "      <th>0</th>\n",
       "      <td>Нижний Новгород</td>\n",
       "      <td>Приволжский федеральный округ</td>\n",
       "      <td>Нижне-Волжская набережная</td>\n",
       "      <td>[[44.005571008, 56.331992365], [44.000903964, 56.331689023]]</td>\n",
       "      <td>60.0</td>\n",
       "      <td>44.005571</td>\n",
       "      <td>56.331992</td>\n",
       "    </tr>\n",
       "    <tr>\n",
       "      <th>1</th>\n",
       "      <td>Пермь</td>\n",
       "      <td>Приволжский федеральный округ</td>\n",
       "      <td>улица Максима Горького</td>\n",
       "      <td>[[56.251537, 58.016116], [56.251415, 58.016241]]</td>\n",
       "      <td>20.0</td>\n",
       "      <td>56.251537</td>\n",
       "      <td>58.016116</td>\n",
       "    </tr>\n",
       "    <tr>\n",
       "      <th>2</th>\n",
       "      <td>Москва</td>\n",
       "      <td>Центральный федеральный округ</td>\n",
       "      <td>Зоологическая улица</td>\n",
       "      <td>[[37.582335, 55.764214], [37.58249, 55.764289], [37.582807, 55.764446]]</td>\n",
       "      <td>380.0</td>\n",
       "      <td>37.582335</td>\n",
       "      <td>55.764214</td>\n",
       "    </tr>\n",
       "  </tbody>\n",
       "</table>\n",
       "</div>"
      ],
      "text/plain": [
       "              city                         region                       road  \\\n",
       "0  Нижний Новгород  Приволжский федеральный округ  Нижне-Волжская набережная   \n",
       "1            Пермь  Приволжский федеральный округ     улица Максима Горького   \n",
       "2           Москва  Центральный федеральный округ        Зоологическая улица   \n",
       "\n",
       "                                                                  geometry  \\\n",
       "0             [[44.005571008, 56.331992365], [44.000903964, 56.331689023]]   \n",
       "1                         [[56.251537, 58.016116], [56.251415, 58.016241]]   \n",
       "2  [[37.582335, 55.764214], [37.58249, 55.764289], [37.582807, 55.764446]]   \n",
       "\n",
       "   price   latitude  longitude  \n",
       "0   60.0  44.005571  56.331992  \n",
       "1   20.0  56.251537  58.016116  \n",
       "2  380.0  37.582335  55.764214  "
      ]
     },
     "execution_count": 629,
     "metadata": {},
     "output_type": "execute_result"
    }
   ],
   "source": [
    "from geopy.geocoders import Nominatim\n",
    "tm()\n",
    "geolocator = Nominatim(user_agent=\"jupyter\")\n",
    "\n",
    "df = dfr['parking_zone'][::3000]\n",
    "\n",
    "lap = 0\n",
    "\n",
    "georeverse = pd.DataFrame()\n",
    "\n",
    "for i,r in df.iterrows():\n",
    "    c = json.loads(r['geometry'])['coordinates'][0]\n",
    "    \n",
    "    gc = geo_cache([c[1],c[0]])\n",
    "    \n",
    "    jrow = {\n",
    "        'city': gc['city'][0],\n",
    "        'region': gc['region'][0],\n",
    "        'road':gc['road'][0],\n",
    "        'geometry':json.loads(r['geometry'])['coordinates'],\n",
    "        'price': r['price'],\n",
    "        'latitude': c[0],\n",
    "        'longitude': c[1],\n",
    "            \n",
    "           }\n",
    "    \n",
    "#     disp(gc[['city','region']]) \n",
    "#     print(r[['price']])\n",
    "    \n",
    "    georeverse = georeverse.append(jrow, ignore_index=True)  \n",
    "\n",
    "\n",
    "    if lap%10 == 0: \n",
    "        tm([i,gc['city']])\n",
    "    lap += 1\n",
    "#     print (location.raw)\n",
    "\n",
    "    \n",
    "dfr['georeverse_parkig'] = df = pd.DataFrame(georeverse)\n",
    "\n",
    "tm(\"\\n\".join([\"Count\",str(df.count())]))\n",
    "df[:3]"
   ]
  },
  {
   "cell_type": "code",
   "execution_count": null,
   "metadata": {},
   "outputs": [],
   "source": [
    "place_id\tlicence\tosm_type\tosm_id\tlat\tlon\tdisplay_name\taddress\tboundingbox\n",
    "0\t285140293\tData © OpenStreetMap contributors, ODbL 1.0. https://osm.org/copyright\trelation\t2860612\t56.331676900000005\t44.004868200000004\t1Б, Нижне-Волжская набережная, Кремль, Нижегородский район, Нижний Новгород, городской округ Нижний Новгород, Нижегородская область, Приволжский федеральный округ, 603082, Россия\t{'house_number': '1Б', 'road': 'Нижне-Волжская набережная', 'neighbourhood': 'Кремль', 'city_district': 'Нижегородский район', 'city': 'Нижний Новгород', 'county': 'городской округ Нижний Новгород', 'state': 'Нижегородская область', 'ISO3166-2-lvl4': 'RU-NIZ', 'region': 'Приволжский федеральный округ', 'postcode': '603082', 'country': 'Россия', 'country_code': 'ru'}\t[56.3315216, 56.3318322, 44.0038091, 44.0059273]"
   ]
  },
  {
   "cell_type": "code",
   "execution_count": null,
   "metadata": {},
   "outputs": [],
   "source": [
    "from geopy.geocoders import GoogleV3\n",
    "geolocator = GoogleV3(api_key='Your_API_Key')\n",
    "location = geolocator.reverse(\"52.509669, 13.376294\")\n",
    "print(location.address)"
   ]
  },
  {
   "cell_type": "code",
   "execution_count": 378,
   "metadata": {},
   "outputs": [],
   "source": [
    "dfr = {}"
   ]
  },
  {
   "cell_type": "code",
   "execution_count": 379,
   "metadata": {
    "tags": []
   },
   "outputs": [
    {
     "name": "stdout",
     "output_type": "stream",
     "text": [
      "<class 'pandas.core.frame.DataFrame'>\n",
      "RangeIndex: 15100 entries, 0 to 15099\n",
      "Data columns (total 7 columns):\n",
      " #   Column             Non-Null Count  Dtype \n",
      "---  ------             --------------  ----- \n",
      " 0   id                 15100 non-null  int64 \n",
      " 1   number             15100 non-null  object\n",
      " 2   geometry           15100 non-null  object\n",
      " 3   price_description  13765 non-null  object\n",
      " 4   price              15100 non-null  int64 \n",
      " 5   weekends           15100 non-null  object\n",
      " 6   periods            15100 non-null  object\n",
      "dtypes: int64(2), object(5)\n",
      "memory usage: 825.9+ KB\n",
      "0:20:36.995 ₀╷₂₀╷₅₃.₅₅₄ ['>>>>', None, id                   15100\n",
      "number               15100\n",
      "geometry             15100\n",
      "price_description    13765\n",
      "price                15100\n",
      "weekends             15100\n",
      "periods              15100\n",
      "dtype: int64]\n"
     ]
    },
    {
     "data": {
      "text/html": [
       "<table border=\"1\" class=\"dataframe\">\n",
       "  <thead>\n",
       "    <tr style=\"text-align: right;\">\n",
       "      <th></th>\n",
       "      <th>id</th>\n",
       "      <th>number</th>\n",
       "      <th>geometry</th>\n",
       "      <th>price_description</th>\n",
       "      <th>price</th>\n",
       "      <th>weekends</th>\n",
       "      <th>periods</th>\n",
       "    </tr>\n",
       "  </thead>\n",
       "  <tbody>\n",
       "    <tr>\n",
       "      <th>0</th>\n",
       "      <td>32784</td>\n",
       "      <td>057</td>\n",
       "      <td>{\"type\":\"LineString\",\"coordinates\":[[44.005571008,56.331992365],[44.000903964,56.331689023]]}</td>\n",
       "      <td>60руб/час с 08:00 до 20:00</td>\n",
       "      <td>60</td>\n",
       "      <td>[]</td>\n",
       "      <td>[]</td>\n",
       "    </tr>\n",
       "    <tr>\n",
       "      <th>1</th>\n",
       "      <td>32785</td>\n",
       "      <td>001</td>\n",
       "      <td>{\"type\":\"LineString\",\"coordinates\":[[43.98706913,56.328997505],[43.987573385,56.32839672]]}</td>\n",
       "      <td>60руб/час с 08:00 до 20:00</td>\n",
       "      <td>60</td>\n",
       "      <td>[]</td>\n",
       "      <td>[]</td>\n",
       "    </tr>\n",
       "    <tr>\n",
       "      <th>2</th>\n",
       "      <td>32786</td>\n",
       "      <td>013</td>\n",
       "      <td>{\"type\":\"LineString\",\"coordinates\":[[44.017179608,56.316502508],[44.017724097,56.316670603]]}</td>\n",
       "      <td>60руб/час с 08:00 до 20:00</td>\n",
       "      <td>60</td>\n",
       "      <td>[]</td>\n",
       "      <td>[]</td>\n",
       "    </tr>\n",
       "  </tbody>\n",
       "</table>"
      ],
      "text/plain": [
       "<IPython.core.display.HTML object>"
      ]
     },
     "metadata": {},
     "output_type": "display_data"
    },
    {
     "data": {
      "text/plain": [
       "[0, 1, 20, 30, 40, 50, 60, 70, 80, 100, 150, 200, 380, 450]"
      ]
     },
     "execution_count": 379,
     "metadata": {},
     "output_type": "execute_result"
    }
   ],
   "source": [
    "# 2022-04-22 read_parking\n",
    "import json\n",
    "data = []\n",
    "def load_park_zones():\n",
    "    fname = r'C:\\Users\\S.Savinskiy\\Downloads\\response_1650638252002.json'\n",
    "    fname = r'C:\\Users\\S.Savinskiy\\Downloads\\response_2022-05-04.json'\n",
    "    \n",
    "    with open(fname,'rb') as f:\n",
    "        data = json.loads(f.read())\n",
    "    \n",
    "    parkings = data['data']   #[:2]\n",
    "    \n",
    "#     print (parkings)\n",
    "    \n",
    "#     df_nested_list = pd.json_normalize(parkings, record_path =['coordinates'])\n",
    "    \n",
    "    return pd.DataFrame(parkings)\n",
    "\n",
    "dfr['parking_zone'] = df  = load_park_zones()\n",
    "\n",
    "\n",
    "tm(['>>>>',df.info(),\n",
    "dfr['parking_zone'].count()\n",
    "   ])\n",
    "disp(df[:3])\n",
    "df.groupby(['price']).count().reset_index()['price'].to_list()"
   ]
  },
  {
   "cell_type": "code",
   "execution_count": 366,
   "metadata": {},
   "outputs": [
    {
     "name": "stdout",
     "output_type": "stream",
     "text": [
      "*** Start at: 13:49:11 ₂₀₂₂₋₀₄₋₂₅  ************************************************************\n"
     ]
    },
    {
     "data": {
      "text/plain": [
       "<BarContainer object of 20 artists>"
      ]
     },
     "execution_count": 366,
     "metadata": {},
     "output_type": "execute_result"
    },
    {
     "data": {
      "image/png": "[encoded data removed]",
      "text/plain": [
       "<Figure size 1152x504 with 1 Axes>"
      ]
     },
     "metadata": {
      "needs_background": "light"
     },
     "output_type": "display_data"
    }
   ],
   "source": [
    "\n",
    "\n",
    "tm()\n",
    "from datetime import datetime\n",
    "df = dfr['bmo_last_devide_id'] = pd.read_csv(r'C:\\Users\\S.Savinskiy\\Downloads\\bmo_last.csv')\n",
    "\n",
    "# ts =  df.sort_values(['unixtime'], ascending=False)\n",
    "# print (ts)\n",
    "df['iso_time'] = df['unixtime'].apply(lambda x: str(datetime.utcfromtimestamp(x).strftime('%Y-%m-%d %H:%M:%S')))\n",
    "\n",
    "df = df[df['unixtime'] > (df['unixtime'].max() - 3600*24*300 )   ]\n",
    "\n",
    "dfg = df.groupby(df['iso_time'].str[-2:19])['device_id'].count().reset_index()\n",
    "\n",
    "dfg = dfg.sort_values(['iso_time'])[-20:]\n",
    "\n",
    "# print(dfg.shape[0],dfg.info())\n",
    "\n",
    "plt.figure(figsize=(16,7))\n",
    "plt.barh(dfg['iso_time'],dfg['device_id'])"
   ]
  },
  {
   "cell_type": "code",
   "execution_count": 95,
   "metadata": {},
   "outputs": [
    {
     "ename": "FileNotFoundError",
     "evalue": "[Errno 2] No such file or directory: 'C:\\\\Users\\\\S.Savinskiy\\\\Downloads\\\\89701010068337419768 (1).csv'",
     "output_type": "error",
     "traceback": [
      "\u001b[1;31m---------------------------------------------------------------------------\u001b[0m",
      "\u001b[1;31mFileNotFoundError\u001b[0m                         Traceback (most recent call last)",
      "\u001b[1;32m<ipython-input-95-c01e6bfa24fa>\u001b[0m in \u001b[0;36m<module>\u001b[1;34m\u001b[0m\n\u001b[1;32m----> 1\u001b[1;33m \u001b[0mdf\u001b[0m \u001b[1;33m=\u001b[0m \u001b[0mdfr\u001b[0m\u001b[1;33m[\u001b[0m\u001b[1;34m'track'\u001b[0m\u001b[1;33m]\u001b[0m \u001b[1;33m=\u001b[0m \u001b[0mpd\u001b[0m\u001b[1;33m.\u001b[0m\u001b[0mread_csv\u001b[0m\u001b[1;33m(\u001b[0m\u001b[1;34mr'C:\\Users\\S.Savinskiy\\Downloads\\89701010068337419768 (1).csv'\u001b[0m\u001b[1;33m)\u001b[0m\u001b[1;33m\u001b[0m\u001b[1;33m\u001b[0m\u001b[0m\n\u001b[0m\u001b[0;32m      2\u001b[0m \u001b[0mbins\u001b[0m \u001b[1;33m=\u001b[0m \u001b[1;33m[\u001b[0m\u001b[1;33m-\u001b[0m\u001b[1;36m1\u001b[0m\u001b[1;33m,\u001b[0m\u001b[1;36m1e-3\u001b[0m\u001b[1;33m,\u001b[0m\u001b[1;36m1e-2\u001b[0m\u001b[1;33m,\u001b[0m\u001b[1;36m1e-1\u001b[0m\u001b[1;33m,\u001b[0m\u001b[1;36m1\u001b[0m\u001b[1;33m]\u001b[0m\u001b[1;33m\u001b[0m\u001b[1;33m\u001b[0m\u001b[0m\n\u001b[0;32m      3\u001b[0m \u001b[1;33m\u001b[0m\u001b[0m\n\u001b[0;32m      4\u001b[0m \u001b[0md\u001b[0m \u001b[1;33m=\u001b[0m \u001b[1;34m'speed'\u001b[0m\u001b[1;33m\u001b[0m\u001b[1;33m\u001b[0m\u001b[0m\n\u001b[0;32m      5\u001b[0m \u001b[1;33m\u001b[0m\u001b[0m\n",
      "\u001b[1;32m~\\anaconda3\\lib\\site-packages\\pandas\\io\\parsers.py\u001b[0m in \u001b[0;36mread_csv\u001b[1;34m(filepath_or_buffer, sep, delimiter, header, names, index_col, usecols, squeeze, prefix, mangle_dupe_cols, dtype, engine, converters, true_values, false_values, skipinitialspace, skiprows, skipfooter, nrows, na_values, keep_default_na, na_filter, verbose, skip_blank_lines, parse_dates, infer_datetime_format, keep_date_col, date_parser, dayfirst, cache_dates, iterator, chunksize, compression, thousands, decimal, lineterminator, quotechar, quoting, doublequote, escapechar, comment, encoding, dialect, error_bad_lines, warn_bad_lines, delim_whitespace, low_memory, memory_map, float_precision)\u001b[0m\n\u001b[0;32m    684\u001b[0m     )\n\u001b[0;32m    685\u001b[0m \u001b[1;33m\u001b[0m\u001b[0m\n\u001b[1;32m--> 686\u001b[1;33m     \u001b[1;32mreturn\u001b[0m \u001b[0m_read\u001b[0m\u001b[1;33m(\u001b[0m\u001b[0mfilepath_or_buffer\u001b[0m\u001b[1;33m,\u001b[0m \u001b[0mkwds\u001b[0m\u001b[1;33m)\u001b[0m\u001b[1;33m\u001b[0m\u001b[1;33m\u001b[0m\u001b[0m\n\u001b[0m\u001b[0;32m    687\u001b[0m \u001b[1;33m\u001b[0m\u001b[0m\n\u001b[0;32m    688\u001b[0m \u001b[1;33m\u001b[0m\u001b[0m\n",
      "\u001b[1;32m~\\anaconda3\\lib\\site-packages\\pandas\\io\\parsers.py\u001b[0m in \u001b[0;36m_read\u001b[1;34m(filepath_or_buffer, kwds)\u001b[0m\n\u001b[0;32m    450\u001b[0m \u001b[1;33m\u001b[0m\u001b[0m\n\u001b[0;32m    451\u001b[0m     \u001b[1;31m# Create the parser.\u001b[0m\u001b[1;33m\u001b[0m\u001b[1;33m\u001b[0m\u001b[1;33m\u001b[0m\u001b[0m\n\u001b[1;32m--> 452\u001b[1;33m     \u001b[0mparser\u001b[0m \u001b[1;33m=\u001b[0m \u001b[0mTextFileReader\u001b[0m\u001b[1;33m(\u001b[0m\u001b[0mfp_or_buf\u001b[0m\u001b[1;33m,\u001b[0m \u001b[1;33m**\u001b[0m\u001b[0mkwds\u001b[0m\u001b[1;33m)\u001b[0m\u001b[1;33m\u001b[0m\u001b[1;33m\u001b[0m\u001b[0m\n\u001b[0m\u001b[0;32m    453\u001b[0m \u001b[1;33m\u001b[0m\u001b[0m\n\u001b[0;32m    454\u001b[0m     \u001b[1;32mif\u001b[0m \u001b[0mchunksize\u001b[0m \u001b[1;32mor\u001b[0m \u001b[0miterator\u001b[0m\u001b[1;33m:\u001b[0m\u001b[1;33m\u001b[0m\u001b[1;33m\u001b[0m\u001b[0m\n",
      "\u001b[1;32m~\\anaconda3\\lib\\site-packages\\pandas\\io\\parsers.py\u001b[0m in \u001b[0;36m__init__\u001b[1;34m(self, f, engine, **kwds)\u001b[0m\n\u001b[0;32m    944\u001b[0m             \u001b[0mself\u001b[0m\u001b[1;33m.\u001b[0m\u001b[0moptions\u001b[0m\u001b[1;33m[\u001b[0m\u001b[1;34m\"has_index_names\"\u001b[0m\u001b[1;33m]\u001b[0m \u001b[1;33m=\u001b[0m \u001b[0mkwds\u001b[0m\u001b[1;33m[\u001b[0m\u001b[1;34m\"has_index_names\"\u001b[0m\u001b[1;33m]\u001b[0m\u001b[1;33m\u001b[0m\u001b[1;33m\u001b[0m\u001b[0m\n\u001b[0;32m    945\u001b[0m \u001b[1;33m\u001b[0m\u001b[0m\n\u001b[1;32m--> 946\u001b[1;33m         \u001b[0mself\u001b[0m\u001b[1;33m.\u001b[0m\u001b[0m_make_engine\u001b[0m\u001b[1;33m(\u001b[0m\u001b[0mself\u001b[0m\u001b[1;33m.\u001b[0m\u001b[0mengine\u001b[0m\u001b[1;33m)\u001b[0m\u001b[1;33m\u001b[0m\u001b[1;33m\u001b[0m\u001b[0m\n\u001b[0m\u001b[0;32m    947\u001b[0m \u001b[1;33m\u001b[0m\u001b[0m\n\u001b[0;32m    948\u001b[0m     \u001b[1;32mdef\u001b[0m \u001b[0mclose\u001b[0m\u001b[1;33m(\u001b[0m\u001b[0mself\u001b[0m\u001b[1;33m)\u001b[0m\u001b[1;33m:\u001b[0m\u001b[1;33m\u001b[0m\u001b[1;33m\u001b[0m\u001b[0m\n",
      "\u001b[1;32m~\\anaconda3\\lib\\site-packages\\pandas\\io\\parsers.py\u001b[0m in \u001b[0;36m_make_engine\u001b[1;34m(self, engine)\u001b[0m\n\u001b[0;32m   1176\u001b[0m     \u001b[1;32mdef\u001b[0m \u001b[0m_make_engine\u001b[0m\u001b[1;33m(\u001b[0m\u001b[0mself\u001b[0m\u001b[1;33m,\u001b[0m \u001b[0mengine\u001b[0m\u001b[1;33m=\u001b[0m\u001b[1;34m\"c\"\u001b[0m\u001b[1;33m)\u001b[0m\u001b[1;33m:\u001b[0m\u001b[1;33m\u001b[0m\u001b[1;33m\u001b[0m\u001b[0m\n\u001b[0;32m   1177\u001b[0m         \u001b[1;32mif\u001b[0m \u001b[0mengine\u001b[0m \u001b[1;33m==\u001b[0m \u001b[1;34m\"c\"\u001b[0m\u001b[1;33m:\u001b[0m\u001b[1;33m\u001b[0m\u001b[1;33m\u001b[0m\u001b[0m\n\u001b[1;32m-> 1178\u001b[1;33m             \u001b[0mself\u001b[0m\u001b[1;33m.\u001b[0m\u001b[0m_engine\u001b[0m \u001b[1;33m=\u001b[0m \u001b[0mCParserWrapper\u001b[0m\u001b[1;33m(\u001b[0m\u001b[0mself\u001b[0m\u001b[1;33m.\u001b[0m\u001b[0mf\u001b[0m\u001b[1;33m,\u001b[0m \u001b[1;33m**\u001b[0m\u001b[0mself\u001b[0m\u001b[1;33m.\u001b[0m\u001b[0moptions\u001b[0m\u001b[1;33m)\u001b[0m\u001b[1;33m\u001b[0m\u001b[1;33m\u001b[0m\u001b[0m\n\u001b[0m\u001b[0;32m   1179\u001b[0m         \u001b[1;32melse\u001b[0m\u001b[1;33m:\u001b[0m\u001b[1;33m\u001b[0m\u001b[1;33m\u001b[0m\u001b[0m\n\u001b[0;32m   1180\u001b[0m             \u001b[1;32mif\u001b[0m \u001b[0mengine\u001b[0m \u001b[1;33m==\u001b[0m \u001b[1;34m\"python\"\u001b[0m\u001b[1;33m:\u001b[0m\u001b[1;33m\u001b[0m\u001b[1;33m\u001b[0m\u001b[0m\n",
      "\u001b[1;32m~\\anaconda3\\lib\\site-packages\\pandas\\io\\parsers.py\u001b[0m in \u001b[0;36m__init__\u001b[1;34m(self, src, **kwds)\u001b[0m\n\u001b[0;32m   2006\u001b[0m         \u001b[0mkwds\u001b[0m\u001b[1;33m[\u001b[0m\u001b[1;34m\"usecols\"\u001b[0m\u001b[1;33m]\u001b[0m \u001b[1;33m=\u001b[0m \u001b[0mself\u001b[0m\u001b[1;33m.\u001b[0m\u001b[0musecols\u001b[0m\u001b[1;33m\u001b[0m\u001b[1;33m\u001b[0m\u001b[0m\n\u001b[0;32m   2007\u001b[0m \u001b[1;33m\u001b[0m\u001b[0m\n\u001b[1;32m-> 2008\u001b[1;33m         \u001b[0mself\u001b[0m\u001b[1;33m.\u001b[0m\u001b[0m_reader\u001b[0m \u001b[1;33m=\u001b[0m \u001b[0mparsers\u001b[0m\u001b[1;33m.\u001b[0m\u001b[0mTextReader\u001b[0m\u001b[1;33m(\u001b[0m\u001b[0msrc\u001b[0m\u001b[1;33m,\u001b[0m \u001b[1;33m**\u001b[0m\u001b[0mkwds\u001b[0m\u001b[1;33m)\u001b[0m\u001b[1;33m\u001b[0m\u001b[1;33m\u001b[0m\u001b[0m\n\u001b[0m\u001b[0;32m   2009\u001b[0m         \u001b[0mself\u001b[0m\u001b[1;33m.\u001b[0m\u001b[0munnamed_cols\u001b[0m \u001b[1;33m=\u001b[0m \u001b[0mself\u001b[0m\u001b[1;33m.\u001b[0m\u001b[0m_reader\u001b[0m\u001b[1;33m.\u001b[0m\u001b[0munnamed_cols\u001b[0m\u001b[1;33m\u001b[0m\u001b[1;33m\u001b[0m\u001b[0m\n\u001b[0;32m   2010\u001b[0m \u001b[1;33m\u001b[0m\u001b[0m\n",
      "\u001b[1;32mpandas\\_libs\\parsers.pyx\u001b[0m in \u001b[0;36mpandas._libs.parsers.TextReader.__cinit__\u001b[1;34m()\u001b[0m\n",
      "\u001b[1;32mpandas\\_libs\\parsers.pyx\u001b[0m in \u001b[0;36mpandas._libs.parsers.TextReader._setup_parser_source\u001b[1;34m()\u001b[0m\n",
      "\u001b[1;31mFileNotFoundError\u001b[0m: [Errno 2] No such file or directory: 'C:\\\\Users\\\\S.Savinskiy\\\\Downloads\\\\89701010068337419768 (1).csv'"
     ]
    }
   ],
   "source": [
    "df = dfr['track'] = pd.read_csv(r'C:\\Users\\S.Savinskiy\\Downloads\\89701010068337419768 (1).csv')\n",
    "bins = [-1,1e-3,1e-2,1e-1,1]\n",
    "\n",
    "d = 'speed'\n",
    "\n",
    "cuts = pd.cut(df[d],10).apply(lambda x: pd.Interval(left=int(round(x.left)), right=int(round(x.right))))\n",
    "\n",
    "g_step=10\n",
    "cuts = pd.cut(df[d],range(0,df[d].max()+g_step*2,g_step))\n",
    "\n",
    "dfg = df.groupby(cuts ).count().rename(columns={d:'bar'}).reset_index()\n",
    "# disp(dfg)\n",
    "\n",
    "\n",
    "x = dfg[d].astype(str)\n",
    "y = dfg['bar']\n",
    "\n",
    "plt.figure(figsize=(10,4))\n",
    "barlist = plt.barh(x, y)\n",
    "plt.bar_label(barlist)\n",
    "\n",
    "for i,sp in enumerate(dfg[d]):\n",
    "    barlist[i].set_color(colorise(sp.left,palettes['speed']))\n",
    "\n",
    "plt.show()\n",
    "plt.figure(figsize=(11,11))\n",
    "plt.scatter(df['latitude'], df['longitude'], c=df['speed'].apply(lambda x: colorise(x)))\n",
    "\n",
    "plt.show()"
   ]
  },
  {
   "cell_type": "code",
   "execution_count": 65,
   "metadata": {},
   "outputs": [
    {
     "data": {
      "text/plain": [
       "38000"
      ]
     },
     "execution_count": 65,
     "metadata": {},
     "output_type": "execute_result"
    }
   ],
   "source": [
    "pd.DataFrame(df['periods'][0])['price'].max()"
   ]
  },
  {
   "cell_type": "code",
   "execution_count": 210,
   "metadata": {},
   "outputs": [
    {
     "data": {
      "text/html": [
       "<style type=\"text/css\">\n",
       "#T_ed34e_row0_col0, #T_ed34e_row1_col0 {\n",
       "  text-align: left;\n",
       "  width: 200px;\n",
       "}\n",
       "#T_ed34e_row0_col1, #T_ed34e_row0_col3, #T_ed34e_row1_col1, #T_ed34e_row1_col3 {\n",
       "  background-color: #fff0cc;\n",
       "  width: 80px;\n",
       "}\n",
       "#T_ed34e_row0_col4, #T_ed34e_row1_col4 {\n",
       "  text-align: left;\n",
       "  width: 800px;\n",
       "}\n",
       "</style>\n",
       "<table id=\"T_ed34e_\">\n",
       "  <thead>\n",
       "    <tr>\n",
       "      <th class=\"blank level0\" >&nbsp;</th>\n",
       "      <th class=\"col_heading level0 col0\" >name</th>\n",
       "      <th class=\"col_heading level0 col1\" >rows</th>\n",
       "      <th class=\"col_heading level0 col2\" >cols</th>\n",
       "      <th class=\"col_heading level0 col3\" >memory</th>\n",
       "      <th class=\"col_heading level0 col4\" >keys</th>\n",
       "    </tr>\n",
       "  </thead>\n",
       "  <tbody>\n",
       "    <tr>\n",
       "      <th id=\"T_ed34e_level0_row0\" class=\"row_heading level0 row0\" >0</th>\n",
       "      <td id=\"T_ed34e_row0_col0\" class=\"data row0 col0\" >df = dfr['track']</td>\n",
       "      <td id=\"T_ed34e_row0_col1\" class=\"data row0 col1\" >1238</td>\n",
       "      <td id=\"T_ed34e_row0_col2\" class=\"data row0 col2\" >6</td>\n",
       "      <td id=\"T_ed34e_row0_col3\" class=\"data row0 col3\" >59,552</td>\n",
       "      <td id=\"T_ed34e_row0_col4\" class=\"data row0 col4\" >['to_timestamp',\t'latitude',\t'longitude',\t'speed',\t'fuel',\t'speed_engine']</td>\n",
       "    </tr>\n",
       "    <tr>\n",
       "      <th id=\"T_ed34e_level0_row1\" class=\"row_heading level0 row1\" >1</th>\n",
       "      <td id=\"T_ed34e_row1_col0\" class=\"data row1 col0\" >df = dfr['track2']</td>\n",
       "      <td id=\"T_ed34e_row1_col1\" class=\"data row1 col1\" >1238</td>\n",
       "      <td id=\"T_ed34e_row1_col2\" class=\"data row1 col2\" >6</td>\n",
       "      <td id=\"T_ed34e_row1_col3\" class=\"data row1 col3\" >59,552</td>\n",
       "      <td id=\"T_ed34e_row1_col4\" class=\"data row1 col4\" >['to_timestamp',\t'latitude',\t'longitude',\t'speed',\t'fuel',\t'speed_engine']</td>\n",
       "    </tr>\n",
       "  </tbody>\n",
       "</table>\n"
      ],
      "text/plain": [
       "<pandas.io.formats.style.Styler at 0x27fb2ba5400>"
      ]
     },
     "metadata": {},
     "output_type": "display_data"
    }
   ],
   "source": [
    "ii(dfr,1)"
   ]
  },
  {
   "cell_type": "code",
   "execution_count": 34,
   "metadata": {},
   "outputs": [
    {
     "name": "stdout",
     "output_type": "stream",
     "text": [
      "*** Start at: 13:25:26 ₂₀₂₂₋₀₄₋₂₂  ************************************************************\n"
     ]
    }
   ],
   "source": [
    "# 2022-04-16 https://developers.google.com/kml/documentation/kmlreference\n",
    "# https://kml4earth.appspot.com/icons.html\n",
    "# https://icons8.com/icon/set/atransport/color\n",
    "# hotel - https://img.icons8.com/office/32/hotel-information.png\n",
    "# gas station https://img.icons8.com/color/32/gas-station.png\n",
    "\n",
    "tm()\n",
    "import simplekml\n",
    "\n",
    "\n",
    "def Draw(fname,routes,points):\n",
    "    kml = simplekml.Kml()\n",
    "    for df_point in points:\n",
    "        for i,row in df_point['points'].iterrows():\n",
    "            pt2 = kml.newpoint(name= row['name'], coords=[(row['Longitude'],row['Latitude'])])\n",
    "            pt2.style.iconstyle.icon.href = df_point['icon']\n",
    "#             set color of icon to be cyan (RGB=#00ffff)\n",
    "            pt2.style.iconstyle.color ='44ff8800' # aabbggrr\n",
    "    \n",
    "                                          \n",
    "    for df_route in routes:                                      \n",
    "        route = [tuple(x) for x in df_route['route'][['Longitude','Latitude']].values]\n",
    "\n",
    "        lin = kml.newlinestring(name=df_route[\"name\"])\n",
    "        lin.style.linestyle.color = '228800ff'  # Red\n",
    "        lin.style.linestyle.width= 5  # 10 pixels\n",
    "        lin.coords = route\n",
    "    kml.save(fname)    \n",
    "\n"
   ]
  },
  {
   "cell_type": "code",
   "execution_count": 6,
   "metadata": {},
   "outputs": [
    {
     "ename": "NameError",
     "evalue": "name 'tm' is not defined",
     "output_type": "error",
     "traceback": [
      "\u001b[1;31m---------------------------------------------------------------------------\u001b[0m",
      "\u001b[1;31mNameError\u001b[0m                                 Traceback (most recent call last)",
      "\u001b[1;32mC:\\Users\\SAF8C~1.SAV\\AppData\\Local\\Temp/ipykernel_2988/219998199.py\u001b[0m in \u001b[0;36m<module>\u001b[1;34m\u001b[0m\n\u001b[1;32m----> 1\u001b[1;33m \u001b[0mtm\u001b[0m\u001b[1;33m(\u001b[0m\u001b[1;33m)\u001b[0m\u001b[1;33m\u001b[0m\u001b[1;33m\u001b[0m\u001b[0m\n\u001b[0m\u001b[0;32m      2\u001b[0m \u001b[0mdb\u001b[0m \u001b[1;33m=\u001b[0m \u001b[0mclient\u001b[0m\u001b[1;33m[\u001b[0m\u001b[1;34m\"tourservice\"\u001b[0m\u001b[1;33m]\u001b[0m\u001b[1;33m\u001b[0m\u001b[1;33m\u001b[0m\u001b[0m\n\u001b[0;32m      3\u001b[0m qwr = {\"$and\":[{\"category\":\"EAT/DRINK\"}, {\"subcategory\": \"CAFE\"} , \n\u001b[0;32m      4\u001b[0m                {\"location\": {\"$near\": {\"$maxDistance\":1000, \n\u001b[0;32m      5\u001b[0m                                      \"$geometry\":{\"type\":\"Point\", \n",
      "\u001b[1;31mNameError\u001b[0m: name 'tm' is not defined"
     ]
    }
   ],
   "source": [
    "tm()\n",
    "db = client[\"tourservice\"]\n",
    "qwr = {\"$and\":[{\"category\":\"EAT/DRINK\"}, {\"subcategory\": \"CAFE\"} , \n",
    "               {\"location\": {\"$near\": {\"$maxDistance\":1000, \n",
    "                                     \"$geometry\":{\"type\":\"Point\", \n",
    "                                                  \"coordinates\":[37.35,55.7]}}}}]}\n",
    "\n",
    "qwr_loc = [{\"location\": {\"$near\": {\"$maxDistance\":1000, \n",
    "                                     \"$geometry\":{\"type\":\"MultiPoint\", \n",
    "                                                  \"coordinates\":[37.35,55.7]}}}},\n",
    "            {\"location\": {\"$near\": {\"$maxDistance\":1000, \n",
    "                                     \"$geometry\":{\"type\":\"MultiPoint\", \n",
    "                                                  \"coordinates\":[37.36,55.7]}}}}]\n",
    "\n",
    "\n",
    "qwr_loc = {\n",
    "        \"location\" : {\n",
    "                \"type\" : \"Point\",\n",
    "                \"coordinates\" : [\n",
    "                        37.35,\n",
    "                        55.7\n",
    "                ]\n",
    "        },\n",
    "        \"distance\" : 1000\n",
    "}\n",
    "\n",
    "qwr = {\"$and\":[{\"category\":\"EAT/DRINK\"}, {\"subcategory\": \"CAFE\"}, qwr_loc] }\n",
    "\n",
    "# qwr = {\"name\":\"Десяточка\"}\n",
    "\n",
    "\n",
    "bd_find = db.poi_gson.find(qwr)\n",
    "\n",
    "db_find = db.poi_gson.aggregate([\n",
    "    { \"$geoNear\": {\n",
    "        \"near\": {\n",
    "            \"type\": \"Point\",\n",
    "            \"coordinates\": [\n",
    "               37.35,\n",
    "               55.7\n",
    "            ]\n",
    "        },\n",
    "        \"maxDistance\": 2000,\n",
    "        \"spherical\": True,\n",
    "        \"distanceField\": \"distance\"\n",
    "    }}\n",
    "])\n",
    "\n",
    "\n",
    "df = pd.DataFrame(list(db_find))\n",
    "\n",
    "\n",
    "    \n",
    "tm(['>>>>',df.count()])\n",
    "df"
   ]
  },
  {
   "cell_type": "code",
   "execution_count": 9,
   "metadata": {},
   "outputs": [
    {
     "data": {
      "text/html": [
       "<div>\n",
       "<style scoped>\n",
       "    .dataframe tbody tr th:only-of-type {\n",
       "        vertical-align: middle;\n",
       "    }\n",
       "\n",
       "    .dataframe tbody tr th {\n",
       "        vertical-align: top;\n",
       "    }\n",
       "\n",
       "    .dataframe thead th {\n",
       "        text-align: right;\n",
       "    }\n",
       "</style>\n",
       "<table border=\"1\" class=\"dataframe\">\n",
       "  <thead>\n",
       "    <tr style=\"text-align: right;\">\n",
       "      <th></th>\n",
       "    </tr>\n",
       "  </thead>\n",
       "  <tbody>\n",
       "  </tbody>\n",
       "</table>\n",
       "</div>"
      ],
      "text/plain": [
       "Empty DataFrame\n",
       "Columns: []\n",
       "Index: []"
      ]
     },
     "execution_count": 9,
     "metadata": {},
     "output_type": "execute_result"
    }
   ],
   "source": [
    "df[:5]"
   ]
  },
  {
   "cell_type": "code",
   "execution_count": 145,
   "metadata": {},
   "outputs": [
    {
     "name": "stdout",
     "output_type": "stream",
     "text": [
      "*** Start at: 19:08:40 ₂₀₂₂₋₀₄₋₁₉  ************************************************************\n",
      "0:00:11.649 ₀╷₀₀╷₁₁.₆₄₉ >>>>>\n"
     ]
    }
   ],
   "source": [
    "tm()\n",
    "\n",
    "coll  = db.poi_gson\n",
    "\n",
    "coll.drop()\n",
    "\n",
    "coll  = db.poi_gson\n",
    "\n",
    "for element in db.poi.find().limit(20000): \n",
    "    coll.insert_many([{\n",
    "        \"_id\": element[\"_id\"],\n",
    "        \"name\": element[\"name\"],\n",
    "        \"category\": element[\"category\"],\n",
    "        \"subcategory\": element[\"subcategory\"],\n",
    "        \"loc\": element[\"lng\"], element[\"lat\"]]\n",
    "        \n",
    "        }}]);\n",
    "\n",
    "tm('>>>>>')"
   ]
  },
  {
   "cell_type": "code",
   "execution_count": 96,
   "metadata": {},
   "outputs": [
    {
     "name": "stdout",
     "output_type": "stream",
     "text": [
      "*** Start at: 16:52:43 ₂₀₂₂₋₀₄₋₁₉  ************************************************************\n",
      "0:00:00.024 ₀╷₀₀╷₀₀.₀₂₄ 1. get els\n",
      "0:00:14.715 ₀╷₀₀╷₁₄.₇₃₉ ['1. list ready', 7675403]\n",
      "0:00:00.924 ₀╷₀₀╷₁₅.₆₆₄ ['>>>>>']\n"
     ]
    }
   ],
   "source": [
    "tm()\n",
    "\n",
    "coll  = db.poi_gson\n",
    "coll.drop()\n",
    "\n",
    "ins = []\n",
    "\n",
    "els = db.poi.find().limit(40000)\n",
    "\n",
    "tm('1. get els')\n",
    "\n",
    "for element in els: \n",
    "    ins = ins + [{\n",
    "        \"_id\": element[\"_id\"],\n",
    "        \"name\": element[\"name\"],\n",
    "        \"category\": element[\"category\"],\n",
    "        \"subcategory\": element[\"subcategory\"],\n",
    "        \"loc\": {\n",
    "            \"type\": \"Point\",\n",
    "            \"coordinates\": [element[\"lng\"], element[\"lat\"]]\n",
    "        \n",
    "        }}]\n",
    "\n",
    "tm(['1. list ready',len(str(ins))])\n",
    "\n",
    "coll.insert_many(ins)\n",
    "\n",
    "tm(['>>>>>'])"
   ]
  },
  {
   "cell_type": "code",
   "execution_count": 107,
   "metadata": {},
   "outputs": [
    {
     "data": {
      "text/html": [
       "<style type=\"text/css\">\n",
       "#T_9bee8_row0_col0, #T_9bee8_row1_col0, #T_9bee8_row2_col0 {\n",
       "  text-align: left;\n",
       "  width: 200px;\n",
       "}\n",
       "#T_9bee8_row0_col3, #T_9bee8_row1_col1 {\n",
       "  background-color: #fff0cc;\n",
       "  width: 80px;\n",
       "}\n",
       "#T_9bee8_row0_col4, #T_9bee8_row1_col4, #T_9bee8_row2_col4 {\n",
       "  text-align: left;\n",
       "  width: 800px;\n",
       "}\n",
       "</style>\n",
       "<table id=\"T_9bee8_\">\n",
       "  <thead>\n",
       "    <tr>\n",
       "      <th class=\"blank level0\" >&nbsp;</th>\n",
       "      <th class=\"col_heading level0 col0\" >name</th>\n",
       "      <th class=\"col_heading level0 col1\" >rows</th>\n",
       "      <th class=\"col_heading level0 col2\" >cols</th>\n",
       "      <th class=\"col_heading level0 col3\" >memory</th>\n",
       "      <th class=\"col_heading level0 col4\" >keys</th>\n",
       "    </tr>\n",
       "  </thead>\n",
       "  <tbody>\n",
       "    <tr>\n",
       "      <th id=\"T_9bee8_level0_row0\" class=\"row_heading level0 row0\" >0</th>\n",
       "      <td id=\"T_9bee8_row0_col0\" class=\"data row0 col0\" >df = dfr['route_574']</td>\n",
       "      <td id=\"T_9bee8_row0_col1\" class=\"data row0 col1\" >13536</td>\n",
       "      <td id=\"T_9bee8_row0_col2\" class=\"data row0 col2\" >6</td>\n",
       "      <td id=\"T_9bee8_row0_col3\" class=\"data row0 col3\" >758,016</td>\n",
       "      <td id=\"T_9bee8_row0_col4\" class=\"data row0 col4\" >['lat',\t'lng',\t'unixtime',\t'isotime',\t'fuel',\t'speed']</td>\n",
       "    </tr>\n",
       "    <tr>\n",
       "      <th id=\"T_9bee8_level0_row1\" class=\"row_heading level0 row1\" >1</th>\n",
       "      <td id=\"T_9bee8_row1_col0\" class=\"data row1 col0\" >df = dfr['osm poi']</td>\n",
       "      <td id=\"T_9bee8_row1_col1\" class=\"data row1 col1\" >1166350</td>\n",
       "      <td id=\"T_9bee8_row1_col2\" class=\"data row1 col2\" >6</td>\n",
       "      <td id=\"T_9bee8_row1_col3\" class=\"data row1 col3\" >55,984,928</td>\n",
       "      <td id=\"T_9bee8_row1_col4\" class=\"data row1 col4\" >['id',\t'name',\t'category',\t'subcategory',\t'lng',\t'lat']</td>\n",
       "    </tr>\n",
       "    <tr>\n",
       "      <th id=\"T_9bee8_level0_row2\" class=\"row_heading level0 row2\" >2</th>\n",
       "      <td id=\"T_9bee8_row2_col0\" class=\"data row2 col0\" >df = dfr['poi_accomodation']</td>\n",
       "      <td id=\"T_9bee8_row2_col1\" class=\"data row2 col1\" >34</td>\n",
       "      <td id=\"T_9bee8_row2_col2\" class=\"data row2 col2\" >4</td>\n",
       "      <td id=\"T_9bee8_row2_col3\" class=\"data row2 col3\" >1,216</td>\n",
       "      <td id=\"T_9bee8_row2_col4\" class=\"data row2 col4\" >['Latitude',\t'Longitude',\t'name',\t'subcategory']</td>\n",
       "    </tr>\n",
       "  </tbody>\n",
       "</table>\n"
      ],
      "text/plain": [
       "<pandas.io.formats.style.Styler at 0x20ee2b69820>"
      ]
     },
     "metadata": {},
     "output_type": "display_data"
    }
   ],
   "source": [
    "ii(dfr,1)"
   ]
  },
  {
   "cell_type": "code",
   "execution_count": 747,
   "metadata": {},
   "outputs": [
    {
     "name": "stdout",
     "output_type": "stream",
     "text": [
      "37.44782269657372,55.727131151988715\n",
      "37.352177303426274,55.67286884801129\n"
     ]
    },
    {
     "data": {
      "text/plain": [
       "12.806276228290576"
      ]
     },
     "execution_count": 747,
     "metadata": {},
     "output_type": "execute_result"
    }
   ],
   "source": [
    "#2022-04-05 расчет дистанции \n",
    "\n",
    "import math\n",
    "\n",
    "\n",
    "def geo_shift(p, dist):\n",
    "    \n",
    "    cos_d = math.cos( p[1]  * math.pi/180 )\n",
    "\n",
    "    lat_delt = dist / 110.574 / 1000\n",
    "    lng_delt = dist / 111.320 / 1000 /cos_d\n",
    "\n",
    "\n",
    "    return [lng_delt, \n",
    "            lat_delt, \n",
    "            p[0] + lng_delt, \n",
    "            p[1] + lat_delt,\n",
    "            p[0] - lng_delt, \n",
    "            p[1] - lat_delt\n",
    "           ]\n",
    "\n",
    "\n",
    "\n",
    "def f_distance(lat1, lon1, lat2, lon2,unit = \"K\") :\n",
    "    \n",
    "    if ((lat1 == lat2) & (lon1 == lon2)):\n",
    "        return 0\n",
    "\n",
    "    else:\n",
    "        radlat1 = math.pi * lat1/180;\n",
    "        radlat2 = math.pi * lat2/180;\n",
    "        theta = lon1-lon2;\n",
    "        radtheta = math.pi * theta/180;\n",
    "        dist = math.sin(radlat1) * math.sin(radlat2) + math.cos(radlat1) * math.cos(radlat2) * math.cos(radtheta);\n",
    "        if (dist > 1) :\n",
    "            dist = 1;\n",
    "        \n",
    "        dist = math.acos(dist);\n",
    "        dist = dist * 180/math.pi;\n",
    "        dist = dist * 60 * 1.1515;\n",
    "        if unit==\"K\": dist = dist * 1.609344 \n",
    "        if unit==\"N\": dist = dist * 0.8684 \n",
    "        return dist;\n",
    "\n",
    "gs = geo_shift([37.40, 55.7], 3000)\n",
    "print ( '%s,%s\\n%s,%s' % tuple(gs[2:]))\n",
    "    \n",
    "f_distance(55.1,37.20, 55.2,37.3,\"K\")"
   ]
  },
  {
   "cell_type": "code",
   "execution_count": 487,
   "metadata": {},
   "outputs": [
    {
     "name": "stdout",
     "output_type": "stream",
     "text": [
      "*** Start at: 10:56:26 ₂₀₂₂₋₀₄₋₁₂  ************************************************************\n",
      "0:00:00.000 ₀╷₀₀╷₀₀.₀₀₀ >>>\n"
     ]
    }
   ],
   "source": [
    "# 2022-04-08 POI to local PG\n",
    "\n",
    "def db_sql(sqls):\n",
    "    conn = psycopg2.connect(connection_string)\n",
    "\n",
    "    conn.set_isolation_level(ISOLATION_LEVEL_AUTOCOMMIT);\n",
    "\n",
    "    print(\"Database opened successfully\")\n",
    "    curs = conn.cursor();\n",
    "\n",
    "     #drop_database, create_database, \n",
    "\n",
    "\n",
    "    for sql in sqls:\n",
    "        try:\n",
    "            curs.execute(sql)\n",
    "            # NB : you won't get an IntegrityError when reading\n",
    "        except Exception as ex:\n",
    "            print(ex, sql)\n",
    "            \n",
    "    tm('init db')\n",
    "\n",
    "\n",
    "    conn.close()\n",
    "    \n",
    "sql_database_info =  '''select t1.datname AS db_name,  \n",
    "                    pg_size_pretty(pg_database_size(t1.datname)) as db_size\n",
    "                    from pg_database t1\n",
    "                    order by pg_database_size(t1.datname) desc;'''\n",
    "\n",
    "\n",
    "create_poi_table = '''DROP TABLE IF EXISTS POI; CREATE TABLE POI (\n",
    "    ID  varchar(255) PRIMARY KEY,\n",
    "    CATEGORY varchar(32),\n",
    "    SUBCATEGORY varchar(32),\n",
    "    MAME varchar(128),\n",
    "    LON varchar(32),\n",
    "    LAT varchar(32),\n",
    "    LON_F float,\n",
    "    LAT_F float,\n",
    "    LON_I int,\n",
    "    LAT_I int\n",
    ");'''\n",
    "\n",
    "create_route_table = '''DROP TABLE IF EXISTS ROUTE; CREATE TABLE ROUTE (\n",
    "    ID  varchar(255) PRIMARY KEY,\n",
    "    ROUTE_NAME varchar(255),\n",
    "    UNIXTIME varchar(255),\n",
    "    LON varchar(255),\n",
    "    LAT varchar(255),\n",
    "    iso_time varchar(64),\n",
    "    FUEL float,\n",
    "    SPEED int\n",
    ");'''    \n",
    "    \n",
    "\n",
    "sqls = [create_route_table]    \n",
    "\n",
    "tm()\n",
    "db_sql(sqls)\n",
    "tm('>>>')"
   ]
  },
  {
   "cell_type": "code",
   "execution_count": null,
   "metadata": {},
   "outputs": [
    {
     "name": "stdout",
     "output_type": "stream",
     "text": [
      "*** Start at: 23:06:19 ₂₀₂₂₋₀₄₋₁₄  ************************************************************\n",
      "0:00:09.585 ₀╷₀₀╷₀₉.₅₈₅ ['1. read poi', id             1166350\n",
      "name           1166350\n",
      "category       1166350\n",
      "subcategory    1166350\n",
      "lng            1166350\n",
      "lat            1166350\n",
      "dtype: int64]\n",
      "0:00:00.002 ₀╷₀₀╷₀₉.₅₈₇ 2. start insert\n"
     ]
    }
   ],
   "source": [
    "\n",
    "# 2022-04-08  read_csv to_sql from file by chunk *******************\n",
    "\n",
    "\n",
    "from sqlalchemy import create_engine\n",
    "\n",
    "cols = ['Unnamed: 0', 'ID', 'NAME', 'CATEGORY', 'SUBCATEGORY', 'LON', 'LAT',\n",
    "       'SRID', 'WKT', 'INTERNATIONAL_NAME', 'STREET', 'WIKIPEDIA', 'PHONE',\n",
    "       'CITY', 'EMAIL', 'ALTERNATIVE_NAME', 'OPENING_HOURS', 'DESCRIPTION',\n",
    "       'WEBSITE', 'LAST_UPDATE', 'OPERATOR', 'POSTCODE', 'COUNTRY', 'FAX',\n",
    "       'IMAGE', 'HOUSENUMBER', 'OTHER_TAGS']\n",
    "\n",
    "tm()\n",
    "\n",
    "fname = r'C:\\_dev\\jupyter_notebook\\jnlab\\prj\\poi\\2021-12-18\\russia_poi\\russia_poi.csv'\n",
    "\n",
    "columns = { 'ID':'id',\n",
    "            'NAME':'name',\n",
    "            'CATEGORY':'category',\n",
    "            'SUBCATEGORY':'subcategory',\n",
    "            'LON':'lng',\n",
    "            'LAT':'lat'\n",
    "          }\n",
    "\n",
    "# usecols=columns, \n",
    "\n",
    "df = pd.read_csv(fname, sep='|', usecols=columns.keys(),  nrows = 10000000 )\n",
    "\n",
    "dfr['osm poi'] = df = df.rename(columns=columns)\n",
    "\n",
    "tm(['1. read poi', df.count()])\n",
    "\n",
    "\n",
    "engine = create_engine()\n",
    "\n",
    "dflap = pd.DataFrame(columns=['chunk','t','lap'])\n",
    "\n",
    "\n",
    "tm('2. start insert')\n",
    "\n",
    "for lap in range(0,1):\n",
    "    dflist = []\n",
    "    \n",
    "    for chs in range(10,11):\n",
    "        start_lap = time.time()\n",
    "        df.to_sql(\"poi\", engine, if_exists='replace', chunksize = 2**chs)\n",
    "        tm(['3. end insert', chs])\n",
    "        delt_lap = time.time() - start_lap \n",
    "        dflap.loc[len(dflap)] = [chs,delt_lap,lap]\n",
    "    \n",
    "    df_out = (dflap.pivot_table(index=['chunk'], columns='lap', values='t')\n",
    "                .rename_axis(columns=None)\n",
    "             ).reset_index()\n",
    "\n",
    "\n",
    "    df_out.loc[:, df_out.columns != 'chunk'].plot(figsize=(10,7))\n",
    "    plt.show()\n",
    "\n",
    "tm('3. insert finished')\n",
    "\n",
    "\n",
    "ix_poi_lat = '''CREATE INDEX ix_poi_lat\n",
    "    ON public.poi USING btree\n",
    "    (lat ASC NULLS LAST)\n",
    "    TABLESPACE pg_default;'''\n",
    "\n",
    "ix_poi_lng = '''CREATE INDEX ix_poi_lng\n",
    "    ON public.poi USING btree\n",
    "    (lng ASC NULLS LAST)\n",
    "    TABLESPACE pg_default;'''\n",
    "\n",
    "db_sql([ix_poi_lat,ix_poi_lng])\n",
    "    \n",
    "    \n",
    "tm('>>>')\n",
    "\n"
   ]
  }
 ],
 "metadata": {
  "kernelspec": {
   "display_name": "Python 3",
   "language": "python",
   "name": "python3"
  },
  "language_info": {
   "codemirror_mode": {
    "name": "ipython",
    "version": 3
   },
   "file_extension": ".py",
   "mimetype": "text/x-python",
   "name": "python",
   "nbconvert_exporter": "python",
   "pygments_lexer": "ipython3",
   "version": "3.8.5"
  }
 },
 "nbformat": 4,
 "nbformat_minor": 4
}
