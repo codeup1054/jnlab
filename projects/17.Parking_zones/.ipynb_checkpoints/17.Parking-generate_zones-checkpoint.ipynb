{
 "cells": [
  {
   "cell_type": "code",
   "execution_count": 2,
   "metadata": {},
   "outputs": [
    {
     "name": "stdout",
     "output_type": "stream",
     "text": [
      "0:00:00.001 ₀╷₀₀╷₀₀.₀₀₁ init()\n"
     ]
    },
    {
     "data": {
      "text/html": [
       "<table border=\"1\" class=\"dataframe\">\n",
       "  <thead>\n",
       "    <tr style=\"text-align: right;\">\n",
       "      <th></th>\n",
       "      <th>1</th>\n",
       "      <th>2</th>\n",
       "      <th>3</th>\n",
       "      <th>4</th>\n",
       "      <th>5</th>\n",
       "      <th>6</th>\n",
       "      <th>7</th>\n",
       "      <th>8</th>\n",
       "      <th>9</th>\n",
       "      <th>10</th>\n",
       "      <th>11</th>\n",
       "      <th>12</th>\n",
       "      <th>13</th>\n",
       "      <th>14</th>\n",
       "      <th>15</th>\n",
       "      <th>16</th>\n",
       "    </tr>\n",
       "  </thead>\n",
       "  <tbody>\n",
       "    <tr>\n",
       "      <th>0</th>\n",
       "      <td>HTML</td>\n",
       "      <td>Path</td>\n",
       "      <td>Struct</td>\n",
       "      <td>__builtins__</td>\n",
       "      <td>__cached__</td>\n",
       "      <td>__doc__</td>\n",
       "      <td>__file__</td>\n",
       "      <td>__loader__</td>\n",
       "      <td>__name__</td>\n",
       "      <td>__package__</td>\n",
       "      <td>__spec__</td>\n",
       "      <td>_log</td>\n",
       "      <td>_o</td>\n",
       "      <td>adds</td>\n",
       "      <td>clear_output</td>\n",
       "      <td>datetime</td>\n",
       "    </tr>\n",
       "    <tr>\n",
       "      <th>1</th>\n",
       "      <td>df_info</td>\n",
       "      <td>dfr</td>\n",
       "      <td>disp</td>\n",
       "      <td>display</td>\n",
       "      <td>draw_l</td>\n",
       "      <td>glob</td>\n",
       "      <td>gmtime</td>\n",
       "      <td>grpp</td>\n",
       "      <td>ii</td>\n",
       "      <td>init</td>\n",
       "      <td>isfile</td>\n",
       "      <td>join</td>\n",
       "      <td>l</td>\n",
       "      <td>listdir</td>\n",
       "      <td>math</td>\n",
       "      <td>merge_OKVED</td>\n",
       "    </tr>\n",
       "    <tr>\n",
       "      <th>2</th>\n",
       "      <td>np</td>\n",
       "      <td>os</td>\n",
       "      <td>pd</td>\n",
       "      <td>plt</td>\n",
       "      <td>read_rmsp</td>\n",
       "      <td>reload</td>\n",
       "      <td>requests</td>\n",
       "      <td>shutil</td>\n",
       "      <td>sizeof_fmt</td>\n",
       "      <td>start</td>\n",
       "      <td>strftime</td>\n",
       "      <td>time</td>\n",
       "      <td>tm</td>\n",
       "      <td>tmpxls</td>\n",
       "      <td>xl_rowcol_to_cell</td>\n",
       "      <td>xlspcl</td>\n",
       "    </tr>\n",
       "    <tr>\n",
       "      <th>3</th>\n",
       "      <td>zipfile</td>\n",
       "      <td>-</td>\n",
       "      <td>-</td>\n",
       "      <td>-</td>\n",
       "      <td>-</td>\n",
       "      <td>-</td>\n",
       "      <td>-</td>\n",
       "      <td>-</td>\n",
       "      <td>-</td>\n",
       "      <td>-</td>\n",
       "      <td>-</td>\n",
       "      <td>-</td>\n",
       "      <td>-</td>\n",
       "      <td>-</td>\n",
       "      <td>-</td>\n",
       "      <td>-</td>\n",
       "    </tr>\n",
       "  </tbody>\n",
       "</table>"
      ],
      "text/plain": [
       "<IPython.core.display.HTML object>"
      ]
     },
     "metadata": {},
     "output_type": "display_data"
    },
    {
     "data": {
      "text/html": [
       "<style  type=\"text/css\" >\n",
       "</style><table id=\"T_ba08b10a_ce99_11ec_abe4_0002721e9465\" ><thead>    <tr>        <th class=\"blank level0\" ></th>        <th class=\"col_heading level0 col0\" >name</th>        <th class=\"col_heading level0 col1\" >rows</th>        <th class=\"col_heading level0 col2\" >cols</th>        <th class=\"col_heading level0 col3\" >memory</th>        <th class=\"col_heading level0 col4\" >keys</th>    </tr></thead><tbody>\n",
       "        </tbody></table>"
      ],
      "text/plain": [
       "<pandas.io.formats.style.Styler at 0x227dea035b0>"
      ]
     },
     "metadata": {},
     "output_type": "display_data"
    }
   ],
   "source": [
    "#+++ версия 2020.09.21 инициализация посредством global init()\n",
    "from importlib import reload\n",
    "import sys; \n",
    "\n",
    "\n",
    "\n",
    "import adds\n",
    "adds = reload(adds)\n",
    "from adds import * # import adds functions\n",
    "\n",
    "init()\n",
    "\n",
    "\n",
    "# if 'adds' in sys.modules.keys(): \n",
    "#     del sys.modules['adds'];\n",
    "#     print (\"del adds\")\n",
    "\n",
    "ii(dfr,1)"
   ]
  },
  {
   "cell_type": "code",
   "execution_count": 28,
   "metadata": {},
   "outputs": [
    {
     "data": {
      "text/plain": [
       "<module 'matplotlib.pyplot' from 'C:\\\\Users\\\\FunFam\\\\anaconda3\\\\lib\\\\site-packages\\\\matplotlib\\\\pyplot.py'>"
      ]
     },
     "execution_count": 28,
     "metadata": {},
     "output_type": "execute_result"
    }
   ],
   "source": [
    "plt"
   ]
  },
  {
   "cell_type": "code",
   "execution_count": null,
   "metadata": {},
   "outputs": [],
   "source": [
    "sys.path.append(\"settings/\")\n",
    "\n",
    "if 'creds' in sys.modules.keys(): del sys.modules['creds'];\n",
    "import  creds\n",
    "# print(creds.pg_creds)"
   ]
  },
  {
   "cell_type": "code",
   "execution_count": 399,
   "metadata": {},
   "outputs": [
    {
     "name": "stdout",
     "output_type": "stream",
     "text": [
      "*** Start at: 08:21:20 ₂₀₂₂₋₀₄₋₂₉  ************************************************************\n"
     ]
    },
    {
     "data": {
      "text/plain": [
       "<module 'pandas' from 'C:\\\\Users\\\\S.Savinskiy\\\\miniconda3\\\\lib\\\\site-packages\\\\pandas\\\\__init__.py'>"
      ]
     },
     "execution_count": 399,
     "metadata": {},
     "output_type": "execute_result"
    }
   ],
   "source": [
    "tm()\n",
    "pd"
   ]
  },
  {
   "cell_type": "code",
   "execution_count": 5,
   "metadata": {
    "collapsed": true,
    "jupyter": {
     "outputs_hidden": true
    },
    "tags": []
   },
   "outputs": [
    {
     "name": "stdout",
     "output_type": "stream",
     "text": [
      "b'<!-- HTML for static distribution bundle build -->\\n<!DOCTYPE html>\\n<html lang=\"en\">\\n<head>\\n    <meta charset=\"UTF-8\">\\n    <title>Parkomatica API Docs</title>\\n    <link rel=\"stylesheet\" type=\"text/css\" href=\"./swagger-ui.css\">\\n    <link rel=\"icon\" type=\"image/png\" href=\"./favicon-32x32.png\" sizes=\"32x32\"/>\\n    <link rel=\"icon\" type=\"image/png\" href=\"./favicon-16x16.png\" sizes=\"16x16\"/>\\n    <style>\\n        html {\\n            box-sizing: border-box;\\n            overflow: -moz-scrollbars-vertical;\\n            overflow-y: scroll;\\n        }\\n\\n        *,\\n        *:before,\\n        *:after {\\n            box-sizing: inherit;\\n        }\\n\\n        body {\\n            margin: 0;\\n            background: #fafafa;\\n        }\\n    </style>\\n</head>\\n\\n<body>\\n<div id=\"swagger-ui\"></div>\\n\\n<script src=\"./swagger-ui-bundle.js\"></script>\\n<script src=\"./swagger-ui-standalone-preset.js\"></script>\\n<script>\\n    window.onload = function () {\\n\\n        function HideTopbarPlugin() {\\n            // this plugin overrides the Topbar component to return nothing\\n            return {\\n                components: {\\n                    Topbar: function () {\\n                        return null\\n                    }\\n                }\\n            }\\n        }\\n\\n        // Build a system\\n        const ui = SwaggerUIBundle({\\n            url: \"swagger.json\",\\n            dom_id: \\'#swagger-ui\\',\\n            deepLinking: true,\\n            presets: [\\n                SwaggerUIBundle.presets.apis,\\n                SwaggerUIStandalonePreset\\n            ],\\n            plugins: [\\n                SwaggerUIBundle.plugins.DownloadUrl,\\n                HideTopbarPlugin\\n            ],\\n            layout: \"StandaloneLayout\"\\n        })\\n\\n        window.ui = ui\\n    }\\n</script>\\n</body>\\n</html>\\n'\n"
     ]
    },
    {
     "ename": "JSONDecodeError",
     "evalue": "Expecting value: line 1 column 1 (char 0)",
     "output_type": "error",
     "traceback": [
      "\u001b[1;31m---------------------------------------------------------------------------\u001b[0m",
      "\u001b[1;31mJSONDecodeError\u001b[0m                           Traceback (most recent call last)",
      "\u001b[1;32mC:\\Users\\SAF8C~1.SAV\\AppData\\Local\\Temp/ipykernel_13092/3708367099.py\u001b[0m in \u001b[0;36m<module>\u001b[1;34m\u001b[0m\n\u001b[0;32m      6\u001b[0m \u001b[1;32mwith\u001b[0m \u001b[0murllib\u001b[0m\u001b[1;33m.\u001b[0m\u001b[0mrequest\u001b[0m\u001b[1;33m.\u001b[0m\u001b[0murlopen\u001b[0m\u001b[1;33m(\u001b[0m\u001b[0murl\u001b[0m\u001b[1;33m)\u001b[0m \u001b[1;32mas\u001b[0m \u001b[0murl\u001b[0m\u001b[1;33m:\u001b[0m\u001b[1;33m\u001b[0m\u001b[1;33m\u001b[0m\u001b[0m\n\u001b[0;32m      7\u001b[0m     \u001b[0mprint\u001b[0m \u001b[1;33m(\u001b[0m\u001b[0murl\u001b[0m\u001b[1;33m.\u001b[0m\u001b[0mread\u001b[0m\u001b[1;33m(\u001b[0m\u001b[1;33m)\u001b[0m\u001b[1;33m)\u001b[0m\u001b[1;33m\u001b[0m\u001b[1;33m\u001b[0m\u001b[0m\n\u001b[1;32m----> 8\u001b[1;33m     \u001b[0mdata\u001b[0m \u001b[1;33m=\u001b[0m \u001b[0mjson\u001b[0m\u001b[1;33m.\u001b[0m\u001b[0mloads\u001b[0m\u001b[1;33m(\u001b[0m\u001b[0murl\u001b[0m\u001b[1;33m.\u001b[0m\u001b[0mread\u001b[0m\u001b[1;33m(\u001b[0m\u001b[1;33m)\u001b[0m\u001b[1;33m.\u001b[0m\u001b[0mdecode\u001b[0m\u001b[1;33m(\u001b[0m\u001b[1;33m)\u001b[0m\u001b[1;33m)\u001b[0m\u001b[1;33m\u001b[0m\u001b[1;33m\u001b[0m\u001b[0m\n\u001b[0m\u001b[0;32m      9\u001b[0m     \u001b[0mprint\u001b[0m\u001b[1;33m(\u001b[0m\u001b[0mdata\u001b[0m\u001b[1;33m)\u001b[0m\u001b[1;33m\u001b[0m\u001b[1;33m\u001b[0m\u001b[0m\n",
      "\u001b[1;32m~\\miniconda3\\lib\\json\\__init__.py\u001b[0m in \u001b[0;36mloads\u001b[1;34m(s, cls, object_hook, parse_float, parse_int, parse_constant, object_pairs_hook, **kw)\u001b[0m\n\u001b[0;32m    344\u001b[0m             \u001b[0mparse_int\u001b[0m \u001b[1;32mis\u001b[0m \u001b[1;32mNone\u001b[0m \u001b[1;32mand\u001b[0m \u001b[0mparse_float\u001b[0m \u001b[1;32mis\u001b[0m \u001b[1;32mNone\u001b[0m \u001b[1;32mand\u001b[0m\u001b[1;33m\u001b[0m\u001b[1;33m\u001b[0m\u001b[0m\n\u001b[0;32m    345\u001b[0m             parse_constant is None and object_pairs_hook is None and not kw):\n\u001b[1;32m--> 346\u001b[1;33m         \u001b[1;32mreturn\u001b[0m \u001b[0m_default_decoder\u001b[0m\u001b[1;33m.\u001b[0m\u001b[0mdecode\u001b[0m\u001b[1;33m(\u001b[0m\u001b[0ms\u001b[0m\u001b[1;33m)\u001b[0m\u001b[1;33m\u001b[0m\u001b[1;33m\u001b[0m\u001b[0m\n\u001b[0m\u001b[0;32m    347\u001b[0m     \u001b[1;32mif\u001b[0m \u001b[0mcls\u001b[0m \u001b[1;32mis\u001b[0m \u001b[1;32mNone\u001b[0m\u001b[1;33m:\u001b[0m\u001b[1;33m\u001b[0m\u001b[1;33m\u001b[0m\u001b[0m\n\u001b[0;32m    348\u001b[0m         \u001b[0mcls\u001b[0m \u001b[1;33m=\u001b[0m \u001b[0mJSONDecoder\u001b[0m\u001b[1;33m\u001b[0m\u001b[1;33m\u001b[0m\u001b[0m\n",
      "\u001b[1;32m~\\miniconda3\\lib\\json\\decoder.py\u001b[0m in \u001b[0;36mdecode\u001b[1;34m(self, s, _w)\u001b[0m\n\u001b[0;32m    335\u001b[0m \u001b[1;33m\u001b[0m\u001b[0m\n\u001b[0;32m    336\u001b[0m         \"\"\"\n\u001b[1;32m--> 337\u001b[1;33m         \u001b[0mobj\u001b[0m\u001b[1;33m,\u001b[0m \u001b[0mend\u001b[0m \u001b[1;33m=\u001b[0m \u001b[0mself\u001b[0m\u001b[1;33m.\u001b[0m\u001b[0mraw_decode\u001b[0m\u001b[1;33m(\u001b[0m\u001b[0ms\u001b[0m\u001b[1;33m,\u001b[0m \u001b[0midx\u001b[0m\u001b[1;33m=\u001b[0m\u001b[0m_w\u001b[0m\u001b[1;33m(\u001b[0m\u001b[0ms\u001b[0m\u001b[1;33m,\u001b[0m \u001b[1;36m0\u001b[0m\u001b[1;33m)\u001b[0m\u001b[1;33m.\u001b[0m\u001b[0mend\u001b[0m\u001b[1;33m(\u001b[0m\u001b[1;33m)\u001b[0m\u001b[1;33m)\u001b[0m\u001b[1;33m\u001b[0m\u001b[1;33m\u001b[0m\u001b[0m\n\u001b[0m\u001b[0;32m    338\u001b[0m         \u001b[0mend\u001b[0m \u001b[1;33m=\u001b[0m \u001b[0m_w\u001b[0m\u001b[1;33m(\u001b[0m\u001b[0ms\u001b[0m\u001b[1;33m,\u001b[0m \u001b[0mend\u001b[0m\u001b[1;33m)\u001b[0m\u001b[1;33m.\u001b[0m\u001b[0mend\u001b[0m\u001b[1;33m(\u001b[0m\u001b[1;33m)\u001b[0m\u001b[1;33m\u001b[0m\u001b[1;33m\u001b[0m\u001b[0m\n\u001b[0;32m    339\u001b[0m         \u001b[1;32mif\u001b[0m \u001b[0mend\u001b[0m \u001b[1;33m!=\u001b[0m \u001b[0mlen\u001b[0m\u001b[1;33m(\u001b[0m\u001b[0ms\u001b[0m\u001b[1;33m)\u001b[0m\u001b[1;33m:\u001b[0m\u001b[1;33m\u001b[0m\u001b[1;33m\u001b[0m\u001b[0m\n",
      "\u001b[1;32m~\\miniconda3\\lib\\json\\decoder.py\u001b[0m in \u001b[0;36mraw_decode\u001b[1;34m(self, s, idx)\u001b[0m\n\u001b[0;32m    353\u001b[0m             \u001b[0mobj\u001b[0m\u001b[1;33m,\u001b[0m \u001b[0mend\u001b[0m \u001b[1;33m=\u001b[0m \u001b[0mself\u001b[0m\u001b[1;33m.\u001b[0m\u001b[0mscan_once\u001b[0m\u001b[1;33m(\u001b[0m\u001b[0ms\u001b[0m\u001b[1;33m,\u001b[0m \u001b[0midx\u001b[0m\u001b[1;33m)\u001b[0m\u001b[1;33m\u001b[0m\u001b[1;33m\u001b[0m\u001b[0m\n\u001b[0;32m    354\u001b[0m         \u001b[1;32mexcept\u001b[0m \u001b[0mStopIteration\u001b[0m \u001b[1;32mas\u001b[0m \u001b[0merr\u001b[0m\u001b[1;33m:\u001b[0m\u001b[1;33m\u001b[0m\u001b[1;33m\u001b[0m\u001b[0m\n\u001b[1;32m--> 355\u001b[1;33m             \u001b[1;32mraise\u001b[0m \u001b[0mJSONDecodeError\u001b[0m\u001b[1;33m(\u001b[0m\u001b[1;34m\"Expecting value\"\u001b[0m\u001b[1;33m,\u001b[0m \u001b[0ms\u001b[0m\u001b[1;33m,\u001b[0m \u001b[0merr\u001b[0m\u001b[1;33m.\u001b[0m\u001b[0mvalue\u001b[0m\u001b[1;33m)\u001b[0m \u001b[1;32mfrom\u001b[0m \u001b[1;32mNone\u001b[0m\u001b[1;33m\u001b[0m\u001b[1;33m\u001b[0m\u001b[0m\n\u001b[0m\u001b[0;32m    356\u001b[0m         \u001b[1;32mreturn\u001b[0m \u001b[0mobj\u001b[0m\u001b[1;33m,\u001b[0m \u001b[0mend\u001b[0m\u001b[1;33m\u001b[0m\u001b[1;33m\u001b[0m\u001b[0m\n",
      "\u001b[1;31mJSONDecodeError\u001b[0m: Expecting value: line 1 column 1 (char 0)"
     ]
    }
   ],
   "source": [
    "# 2022-05-04 Parkomatica get zones\n",
    "\n",
    "url = \"https://api.parkomatica.ru/docs/#/zone/get_zone_get_list\"\n",
    "\n",
    "import urllib.request, json \n",
    "with urllib.request.urlopen(url) as url:\n",
    "#     print (url.read())\n",
    "    data = json.loads(url.read().decode())\n",
    "    print(data)"
   ]
  },
  {
   "cell_type": "code",
   "execution_count": 400,
   "metadata": {},
   "outputs": [
    {
     "data": {
      "text/html": [
       "<style type=\"text/css\">\n",
       "#T_bff9c_row0_col0, #T_bff9c_row1_col0, #T_bff9c_row2_col0 {\n",
       "  text-align: left;\n",
       "  width: 200px;\n",
       "}\n",
       "#T_bff9c_row0_col3, #T_bff9c_row1_col3, #T_bff9c_row2_col1 {\n",
       "  background-color: #fff0cc;\n",
       "  width: 80px;\n",
       "}\n",
       "#T_bff9c_row0_col4, #T_bff9c_row1_col4, #T_bff9c_row2_col4 {\n",
       "  text-align: left;\n",
       "  width: 800px;\n",
       "}\n",
       "</style>\n",
       "<table id=\"T_bff9c_\">\n",
       "  <thead>\n",
       "    <tr>\n",
       "      <th class=\"blank level0\" >&nbsp;</th>\n",
       "      <th class=\"col_heading level0 col0\" >name</th>\n",
       "      <th class=\"col_heading level0 col1\" >rows</th>\n",
       "      <th class=\"col_heading level0 col2\" >cols</th>\n",
       "      <th class=\"col_heading level0 col3\" >memory</th>\n",
       "      <th class=\"col_heading level0 col4\" >keys</th>\n",
       "    </tr>\n",
       "  </thead>\n",
       "  <tbody>\n",
       "    <tr>\n",
       "      <th id=\"T_bff9c_level0_row0\" class=\"row_heading level0 row0\" >0</th>\n",
       "      <td id=\"T_bff9c_row0_col0\" class=\"data row0 col0\" >df = dfr['track']</td>\n",
       "      <td id=\"T_bff9c_row0_col1\" class=\"data row0 col1\" >1238</td>\n",
       "      <td id=\"T_bff9c_row0_col2\" class=\"data row0 col2\" >6</td>\n",
       "      <td id=\"T_bff9c_row0_col3\" class=\"data row0 col3\" >59,552</td>\n",
       "      <td id=\"T_bff9c_row0_col4\" class=\"data row0 col4\" >6</td>\n",
       "    </tr>\n",
       "    <tr>\n",
       "      <th id=\"T_bff9c_level0_row1\" class=\"row_heading level0 row1\" >1</th>\n",
       "      <td id=\"T_bff9c_row1_col0\" class=\"data row1 col0\" >df = dfr['track2']</td>\n",
       "      <td id=\"T_bff9c_row1_col1\" class=\"data row1 col1\" >1238</td>\n",
       "      <td id=\"T_bff9c_row1_col2\" class=\"data row1 col2\" >6</td>\n",
       "      <td id=\"T_bff9c_row1_col3\" class=\"data row1 col3\" >59,552</td>\n",
       "      <td id=\"T_bff9c_row1_col4\" class=\"data row1 col4\" >6</td>\n",
       "    </tr>\n",
       "    <tr>\n",
       "      <th id=\"T_bff9c_level0_row2\" class=\"row_heading level0 row2\" >2</th>\n",
       "      <td id=\"T_bff9c_row2_col0\" class=\"data row2 col0\" >df = dfr['parking_zone']</td>\n",
       "      <td id=\"T_bff9c_row2_col1\" class=\"data row2 col1\" >10366</td>\n",
       "      <td id=\"T_bff9c_row2_col2\" class=\"data row2 col2\" >7</td>\n",
       "      <td id=\"T_bff9c_row2_col3\" class=\"data row2 col3\" >580,624</td>\n",
       "      <td id=\"T_bff9c_row2_col4\" class=\"data row2 col4\" >7</td>\n",
       "    </tr>\n",
       "  </tbody>\n",
       "</table>\n"
      ],
      "text/plain": [
       "<pandas.io.formats.style.Styler at 0x27fb9bb0c40>"
      ]
     },
     "metadata": {},
     "output_type": "display_data"
    }
   ],
   "source": [
    "ii()"
   ]
  },
  {
   "cell_type": "code",
   "execution_count": 548,
   "metadata": {},
   "outputs": [
    {
     "data": {
      "text/plain": [
       "0.6555093084851291"
      ]
     },
     "execution_count": 548,
     "metadata": {},
     "output_type": "execute_result"
    }
   ],
   "source": [
    "import math\n",
    "\n",
    "\n",
    "def geo_shift(p, dist):\n",
    "    \n",
    "    cos_d = math.cos( p[1]  * math.pi/180 )\n",
    "\n",
    "    lat_delt = dist / 110.574 / 1000\n",
    "    lng_delt = dist / 111.320 / 1000 /cos_d\n",
    "\n",
    "\n",
    "    return [lng_delt, \n",
    "            lat_delt, \n",
    "            p[0] + lng_delt, \n",
    "            p[1] + lat_delt,\n",
    "            p[0] - lng_delt, \n",
    "            p[1] - lat_delt\n",
    "           ]\n",
    "\n",
    "\n",
    "\n",
    "def f_distance(lat1, lon1, lat2, lon2, unit) :\n",
    "    if ((lat1 == lat2) & (lon1 == lon2)):\n",
    "        return 0\n",
    "\n",
    "    else:\n",
    "        radlat1 = math.pi * lat1/180;\n",
    "        radlat2 = math.pi * lat2/180;\n",
    "        theta = lon1-lon2;\n",
    "        radtheta = math.pi * theta/180;\n",
    "        dist = math.sin(radlat1) * math.sin(radlat2) + math.cos(radlat1) * math.cos(radlat2) * math.cos(radtheta);\n",
    "        if (dist > 1) :\n",
    "            dist = 1;\n",
    "        \n",
    "        dist = math.acos(dist);\n",
    "        dist = dist * 180/math.pi;\n",
    "        dist = dist * 60 * 1.1515;\n",
    "        if unit==\"K\": dist = dist * 1.609344 \n",
    "        if unit==\"N\": dist = dist * 0.8684 \n",
    "        return dist;\n",
    "\n",
    "    \n",
    "\n",
    "points = (55.355387,38.2789876,55.3573879,38.2887427)\n",
    "    \n",
    "df['latitude'],df['longitude'](*points,\"K\")        "
   ]
  },
  {
   "cell_type": "code",
   "execution_count": 677,
   "metadata": {},
   "outputs": [
    {
     "name": "stdout",
     "output_type": "stream",
     "text": [
      "[[56.0513212, 38.1157643], [56.0424048, 38.1404836], [56.0568809, 38.1446035], [56.0513212, 38.1157643]]\n"
     ]
    },
    {
     "data": {
      "text/plain": [
       "0.015015225947595008"
      ]
     },
     "execution_count": 677,
     "metadata": {},
     "output_type": "execute_result"
    }
   ],
   "source": [
    "tri = '''38.1157643 56.0513212, 38.1404836 56.0424048, 38.1446035 56.0568809, 38.1157643 56.0513212'''\n",
    "\n",
    "points = [[float(p.split(\" \")[1]),float(p.split(\" \")[0])  ] for p in tri.split(\", \")]\n",
    "\n",
    "\n",
    "\n",
    "print (points)\n",
    "\n",
    "p1=np.array(points[0])\n",
    "p2=np.array(points[1])\n",
    "p3=np.array(points[2])\n",
    "d=np.linalg.norm(np.cross(p2-p1,p3-p1))/np.linalg.norm(p2-p1)\n",
    "\n",
    "# d = norm(np.cross(p2-p1, p1-p3))/norm(p2-p1)\n",
    "\n",
    "d"
   ]
  },
  {
   "cell_type": "code",
   "execution_count": 735,
   "metadata": {},
   "outputs": [
    {
     "name": "stdout",
     "output_type": "stream",
     "text": [
      "[56.0571205, 38.0990274, 56.0568809, 38.1446035]\n",
      "[56.0568809, 38.1446035, 56.0424048, 38.1404836]\n",
      "[56.0424048, 38.1404836, 56.0571205, 38.0990274]\n"
     ]
    }
   ],
   "source": [
    "import re\n",
    "\n",
    "\n",
    "[x for x in kml_exp.split(\"\\n\")]\n",
    "\n",
    "p = [float(p) for p in re.split(', | |,',\"38.0990274 56.0571205, 38.1404836 56.0424048,\\\n",
    "38.1446035 56.0568809, 38.0990274 56.0571205\")]\n",
    "p.reverse()\n",
    "for i in range(0,5,2):\n",
    "    print(p[i:i+4])"
   ]
  },
  {
   "cell_type": "code",
   "execution_count": 719,
   "metadata": {},
   "outputs": [
    {
     "name": "stdout",
     "output_type": "stream",
     "text": [
      "['38.0990274 56.0571205, 38.1404836 56.0424048,38.1446035 56.0568809, 38.0990274 56.0571205'] 3\n"
     ]
    }
   ],
   "source": [
    "\n",
    "print(pp, pp[0][0])"
   ]
  },
  {
   "cell_type": "code",
   "execution_count": null,
   "metadata": {},
   "outputs": [],
   "source": [
    "s = (a + b + c) / 2\n",
    "    Area = math.sqrt((s*(s-a)*(s-b)*(s-c)))"
   ]
  },
  {
   "cell_type": "code",
   "execution_count": 755,
   "metadata": {},
   "outputs": [
    {
     "name": "stdout",
     "output_type": "stream",
     "text": [
      "The area of the triangle is \n",
      "2.28\n",
      "2.83 1.63 3.05 \n",
      "P=7.51\n",
      "1.61 2.80 1.50\n"
     ]
    }
   ],
   "source": [
    "# 1,37 км²5,36 км\n",
    "kml_exp = '''\"POLYGON ((38.0990274 56.0571205, 38.1404836 56.0424048, 38.1446035 56.0568809, 38.0990274 56.0571205))\",Многоугольник 1,\n",
    "\"LINESTRING (38.1302697 56.046288, 38.1440026 56.056785)\",Линия 3,\n",
    "\"LINESTRING (38.1393148 56.0567336, 38.1401731 56.0427368)\",Линия 4,\n",
    "\"LINESTRING (38.099661 56.0569732, 38.142748 56.0517969)\",Линия 6,'''\n",
    "\n",
    "\n",
    "p1 = (56.0571205, 38.0990274, 56.0568809, 38.1446035)\n",
    "p2 = (56.0568809, 38.1446035, 56.0424048, 38.1404836)\n",
    "p3 = (56.0424048, 38.1404836, 56.0571205, 38.0990274)\n",
    "\n",
    "a = f_distance(*p1)  \n",
    "b = f_distance(*p2)  \n",
    "c = f_distance(*p3)  \n",
    "s = (a + b + c) / 2  \n",
    "Area = (s*(s-a)*(s-b)*(s-c)) ** 0.5  \n",
    "print('The area of the triangle is \\n%0.2f\\n%0.2f %0.2f %0.2f \\nP=%0.2f' %(Area, a, b, c , (a+b+c) ))\n",
    "print('%0.2f %0.2f %0.2f' %(Area/a*2, Area/b*2, Area/c*2))"
   ]
  },
  {
   "cell_type": "code",
   "execution_count": 746,
   "metadata": {},
   "outputs": [
    {
     "name": "stdout",
     "output_type": "stream",
     "text": [
      "1.6172838485399021\n"
     ]
    }
   ],
   "source": [
    "import geopy.distance\n",
    "\n",
    "coords_1 = (56.0571205, 38.0990274)\n",
    "coords_2 = (56.0568809, 38.1446035)\n",
    "\n",
    "coords_1 = (56.0568809, 38.1446035)\n",
    "coords_2 = (56.0424048, 38.1404836)\n",
    "\n",
    "coords_1 = (56.05691, 38.13929)\n",
    "coords_2 = (56.0424, 38.14048)\n",
    "\n",
    "print (geopy.distance.geodesic(coords_1, coords_2).km)"
   ]
  },
  {
   "cell_type": "code",
   "execution_count": 582,
   "metadata": {
    "tags": []
   },
   "outputs": [
    {
     "name": "stdout",
     "output_type": "stream",
     "text": [
      "*** Start at: 20:32:00 ₂₀₂₂₋₀₅₋₀₅  ************************************************************\n"
     ]
    },
    {
     "ename": "KeyError",
     "evalue": "'ЦКАД'",
     "output_type": "error",
     "traceback": [
      "\u001b[1;31m---------------------------------------------------------------------------\u001b[0m",
      "\u001b[1;31mKeyError\u001b[0m                                  Traceback (most recent call last)",
      "\u001b[1;32mC:\\Users\\SAF8C~1.SAV\\AppData\\Local\\Temp/ipykernel_13092/397317659.py\u001b[0m in \u001b[0;36m<module>\u001b[1;34m\u001b[0m\n\u001b[0;32m      1\u001b[0m \u001b[0mtm\u001b[0m\u001b[1;33m(\u001b[0m\u001b[1;33m)\u001b[0m\u001b[1;33m\u001b[0m\u001b[1;33m\u001b[0m\u001b[0m\n\u001b[1;32m----> 2\u001b[1;33m \u001b[0mdf\u001b[0m \u001b[1;33m=\u001b[0m \u001b[0mdfr\u001b[0m\u001b[1;33m[\u001b[0m\u001b[1;34m'ЦКАД'\u001b[0m\u001b[1;33m]\u001b[0m\u001b[1;33m\u001b[0m\u001b[1;33m\u001b[0m\u001b[0m\n\u001b[0m\u001b[0;32m      3\u001b[0m \u001b[1;33m\u001b[0m\u001b[0m\n\u001b[0;32m      4\u001b[0m \u001b[0mcloset_points\u001b[0m \u001b[1;33m=\u001b[0m \u001b[1;33m[\u001b[0m\u001b[1;33m]\u001b[0m\u001b[1;33m\u001b[0m\u001b[1;33m\u001b[0m\u001b[0m\n\u001b[0;32m      5\u001b[0m \u001b[1;33m\u001b[0m\u001b[0m\n",
      "\u001b[1;31mKeyError\u001b[0m: 'ЦКАД'"
     ]
    }
   ],
   "source": [
    "tm()\n",
    "df = dfr['ЦКАД']\n",
    "\n",
    "closet_points = []\n",
    "\n",
    "def dist_from_line(p1,p2,p3):\n",
    "    p1=np.array(p1)\n",
    "    p2=np.array(p2)\n",
    "    p3=np.array(p2)\n",
    "    d=np.linalg.norm(np.cross(p2-p1,p3-p1))/np.linalg.norm(p2-p1)\n",
    "    return d\n",
    "    \n",
    "\n",
    "for i,tp in dfr['track2'][::5].iterrows():\n",
    "    \n",
    "    if i > 0:\n",
    "        p1=[tp['latitude'],tp['longitude']]\n",
    "        p2=prev\n",
    "        try:\n",
    "            \n",
    "            ix_points = [list(x) for i,x in df.iterrows() \\\n",
    "                                             if dist_from_line(p1,p2,[x['latitude'],x['longitude']]) < 1e-03]\n",
    "            if (len(ix_points) > 0):\n",
    "                closet_points = closet_points + [tp['latitude'],tp['longitude']]\n",
    "#             print (d)\n",
    "        except:  print (i)\n",
    "\n",
    "        prev = [tp['latitude'],tp['longitude']]\n",
    "\n",
    "df = pd.DataFrame(closet_points)\n",
    "\n",
    "disp(df[:2])\n",
    "\n",
    "df.to_csv(r'C:\\Users\\S.Savinskiy\\Downloads\\ЦКАД intersection.csv')\n",
    "\n",
    "tm(['>>>',df.count()])    "
   ]
  },
  {
   "cell_type": "code",
   "execution_count": 640,
   "metadata": {
    "tags": []
   },
   "outputs": [
    {
     "name": "stdout",
     "output_type": "stream",
     "text": [
      "13\n"
     ]
    },
    {
     "data": {
      "text/plain": [
       "[[[38.3292321, 55.9724403], 4.879770339186805],\n",
       " [[38.3177581, 55.9749361], 4.444056501987474],\n",
       " [[38.3062821, 55.9791598], 3.928067523212393],\n",
       " [[38.2958149, 55.9938495], 2.928854458208331],\n",
       " [[38.2902349, 56.0010499], 2.453944629360539],\n",
       " [[38.2815627, 56.0070023], 1.949663530719599],\n",
       " [[38.270636, 56.011356], 1.434075521531642],\n",
       " [[38.2184927, 56.0287517], 0.9135221983881742],\n",
       " [[38.1972724, 56.0397429], 2.024828060429327],\n",
       " [[38.1914857, 56.0410254], 2.2553448279690285],\n",
       " [[38.1808919, 56.0420197], 2.629791837274326],\n",
       " [[38.1702978, 56.042534], 2.998440597615945],\n",
       " [[38.1627932, 56.043719], 3.291881706348235]]"
      ]
     },
     "execution_count": 640,
     "metadata": {},
     "output_type": "execute_result"
    }
   ],
   "source": [
    "df = dfr['ЦКАД'].astype(float)\n",
    "\n",
    "# disp(df[:10])\n",
    "\n",
    "df_list =  [[list(x), f_distance(x['latitude'],x['longitude'], 56.02131,38.23805,\"KM\" )] \\\n",
    "            for i,x in df.iterrows() if False | (f_distance(x['latitude'],x['longitude'], 56.02131,38.23805,\"KM\" ) < 5)]\n",
    "\n",
    "print (len(df_list))\n",
    "df_list"
   ]
  },
  {
   "cell_type": "code",
   "execution_count": 585,
   "metadata": {},
   "outputs": [
    {
     "data": {
      "text/html": [
       "<div>\n",
       "<style scoped>\n",
       "    .dataframe tbody tr th:only-of-type {\n",
       "        vertical-align: middle;\n",
       "    }\n",
       "\n",
       "    .dataframe tbody tr th {\n",
       "        vertical-align: top;\n",
       "    }\n",
       "\n",
       "    .dataframe thead th {\n",
       "        text-align: right;\n",
       "    }\n",
       "</style>\n",
       "<table border=\"1\" class=\"dataframe\">\n",
       "  <thead>\n",
       "    <tr style=\"text-align: right;\">\n",
       "      <th></th>\n",
       "      <th>latitude</th>\n",
       "      <th>longitude</th>\n",
       "    </tr>\n",
       "  </thead>\n",
       "  <tbody>\n",
       "    <tr>\n",
       "      <th>0</th>\n",
       "      <td>38.278988</td>\n",
       "      <td>55.355387</td>\n",
       "    </tr>\n",
       "    <tr>\n",
       "      <th>1</th>\n",
       "      <td>38.288743</td>\n",
       "      <td>55.357388</td>\n",
       "    </tr>\n",
       "    <tr>\n",
       "      <th>2</th>\n",
       "      <td>38.306743</td>\n",
       "      <td>55.371877</td>\n",
       "    </tr>\n",
       "    <tr>\n",
       "      <th>3</th>\n",
       "      <td>38.313899</td>\n",
       "      <td>55.374802</td>\n",
       "    </tr>\n",
       "    <tr>\n",
       "      <th>4</th>\n",
       "      <td>38.322212</td>\n",
       "      <td>55.377334</td>\n",
       "    </tr>\n",
       "    <tr>\n",
       "      <th>...</th>\n",
       "      <td>...</td>\n",
       "      <td>...</td>\n",
       "    </tr>\n",
       "    <tr>\n",
       "      <th>198</th>\n",
       "      <td>38.170583</td>\n",
       "      <td>55.357631</td>\n",
       "    </tr>\n",
       "    <tr>\n",
       "      <th>199</th>\n",
       "      <td>38.187707</td>\n",
       "      <td>55.358900</td>\n",
       "    </tr>\n",
       "    <tr>\n",
       "      <th>200</th>\n",
       "      <td>38.233348</td>\n",
       "      <td>55.355874</td>\n",
       "    </tr>\n",
       "    <tr>\n",
       "      <th>201</th>\n",
       "      <td>38.255994</td>\n",
       "      <td>55.354069</td>\n",
       "    </tr>\n",
       "    <tr>\n",
       "      <th>202</th>\n",
       "      <td>38.275898</td>\n",
       "      <td>55.355582</td>\n",
       "    </tr>\n",
       "  </tbody>\n",
       "</table>\n",
       "<p>203 rows × 2 columns</p>\n",
       "</div>"
      ],
      "text/plain": [
       "      latitude  longitude\n",
       "0    38.278988  55.355387\n",
       "1    38.288743  55.357388\n",
       "2    38.306743  55.371877\n",
       "3    38.313899  55.374802\n",
       "4    38.322212  55.377334\n",
       "..         ...        ...\n",
       "198  38.170583  55.357631\n",
       "199  38.187707  55.358900\n",
       "200  38.233348  55.355874\n",
       "201  38.255994  55.354069\n",
       "202  38.275898  55.355582\n",
       "\n",
       "[203 rows x 2 columns]"
      ]
     },
     "execution_count": 585,
     "metadata": {},
     "output_type": "execute_result"
    }
   ],
   "source": [
    "df"
   ]
  },
  {
   "cell_type": "code",
   "execution_count": 575,
   "metadata": {},
   "outputs": [
    {
     "data": {
      "text/html": [
       "<style type=\"text/css\">\n",
       "#T_20484_row0_col0, #T_20484_row1_col0, #T_20484_row2_col0, #T_20484_row3_col0, #T_20484_row4_col0, #T_20484_row5_col0 {\n",
       "  text-align: left;\n",
       "  width: 200px;\n",
       "}\n",
       "#T_20484_row0_col3, #T_20484_row1_col3, #T_20484_row2_col1 {\n",
       "  background-color: #fff0cc;\n",
       "  width: 80px;\n",
       "}\n",
       "#T_20484_row0_col4, #T_20484_row1_col4, #T_20484_row2_col4, #T_20484_row3_col4, #T_20484_row4_col4, #T_20484_row5_col4 {\n",
       "  text-align: left;\n",
       "  width: 800px;\n",
       "}\n",
       "</style>\n",
       "<table id=\"T_20484_\">\n",
       "  <thead>\n",
       "    <tr>\n",
       "      <th class=\"blank level0\" >&nbsp;</th>\n",
       "      <th class=\"col_heading level0 col0\" >name</th>\n",
       "      <th class=\"col_heading level0 col1\" >rows</th>\n",
       "      <th class=\"col_heading level0 col2\" >cols</th>\n",
       "      <th class=\"col_heading level0 col3\" >memory</th>\n",
       "      <th class=\"col_heading level0 col4\" >keys</th>\n",
       "    </tr>\n",
       "  </thead>\n",
       "  <tbody>\n",
       "    <tr>\n",
       "      <th id=\"T_20484_level0_row0\" class=\"row_heading level0 row0\" >0</th>\n",
       "      <td id=\"T_20484_row0_col0\" class=\"data row0 col0\" >df = dfr['track']</td>\n",
       "      <td id=\"T_20484_row0_col1\" class=\"data row0 col1\" >1238</td>\n",
       "      <td id=\"T_20484_row0_col2\" class=\"data row0 col2\" >6</td>\n",
       "      <td id=\"T_20484_row0_col3\" class=\"data row0 col3\" >59,552</td>\n",
       "      <td id=\"T_20484_row0_col4\" class=\"data row0 col4\" >['to_timestamp',\t'latitude',\t'longitude',\t'speed',\t'fuel',\t'speed_engine']</td>\n",
       "    </tr>\n",
       "    <tr>\n",
       "      <th id=\"T_20484_level0_row1\" class=\"row_heading level0 row1\" >1</th>\n",
       "      <td id=\"T_20484_row1_col0\" class=\"data row1 col0\" >df = dfr['track2']</td>\n",
       "      <td id=\"T_20484_row1_col1\" class=\"data row1 col1\" >1238</td>\n",
       "      <td id=\"T_20484_row1_col2\" class=\"data row1 col2\" >6</td>\n",
       "      <td id=\"T_20484_row1_col3\" class=\"data row1 col3\" >59,552</td>\n",
       "      <td id=\"T_20484_row1_col4\" class=\"data row1 col4\" >['to_timestamp',\t'latitude',\t'longitude',\t'speed',\t'fuel',\t'speed_engine']</td>\n",
       "    </tr>\n",
       "    <tr>\n",
       "      <th id=\"T_20484_level0_row2\" class=\"row_heading level0 row2\" >2</th>\n",
       "      <td id=\"T_20484_row2_col0\" class=\"data row2 col0\" >df = dfr['parking_zone']</td>\n",
       "      <td id=\"T_20484_row2_col1\" class=\"data row2 col1\" >10366</td>\n",
       "      <td id=\"T_20484_row2_col2\" class=\"data row2 col2\" >7</td>\n",
       "      <td id=\"T_20484_row2_col3\" class=\"data row2 col3\" >580,624</td>\n",
       "      <td id=\"T_20484_row2_col4\" class=\"data row2 col4\" >['id',\t'number',\t'geometry',\t'price_description',\t'price',\t'weekends',\t'periods']</td>\n",
       "    </tr>\n",
       "    <tr>\n",
       "      <th id=\"T_20484_level0_row3\" class=\"row_heading level0 row3\" >3</th>\n",
       "      <td id=\"T_20484_row3_col0\" class=\"data row3 col0\" >df = dfr['ЦКАД']</td>\n",
       "      <td id=\"T_20484_row3_col1\" class=\"data row3 col1\" >203</td>\n",
       "      <td id=\"T_20484_row3_col2\" class=\"data row3 col2\" >2</td>\n",
       "      <td id=\"T_20484_row3_col3\" class=\"data row3 col3\" >3,376</td>\n",
       "      <td id=\"T_20484_row3_col4\" class=\"data row3 col4\" >['latitude',\t'longitude']</td>\n",
       "    </tr>\n",
       "    <tr>\n",
       "      <th id=\"T_20484_level0_row4\" class=\"row_heading level0 row4\" >4</th>\n",
       "      <td id=\"T_20484_row4_col0\" class=\"data row4 col0\" >df = dfr['ЦКАД_from_rml']</td>\n",
       "      <td id=\"T_20484_row4_col1\" class=\"data row4 col1\" >37</td>\n",
       "      <td id=\"T_20484_row4_col2\" class=\"data row4 col2\" >3</td>\n",
       "      <td id=\"T_20484_row4_col3\" class=\"data row4 col3\" >1,016</td>\n",
       "      <td id=\"T_20484_row4_col4\" class=\"data row4 col4\" >['latitude',\t'longitude',\t'speed']</td>\n",
       "    </tr>\n",
       "    <tr>\n",
       "      <th id=\"T_20484_level0_row5\" class=\"row_heading level0 row5\" >5</th>\n",
       "      <td id=\"T_20484_row5_col0\" class=\"data row5 col0\" >df = dfr['ЦКАД_from_kml']</td>\n",
       "      <td id=\"T_20484_row5_col1\" class=\"data row5 col1\" >1</td>\n",
       "      <td id=\"T_20484_row5_col2\" class=\"data row5 col2\" >7</td>\n",
       "      <td id=\"T_20484_row5_col3\" class=\"data row5 col3\" >177</td>\n",
       "      <td id=\"T_20484_row5_col4\" class=\"data row5 col4\" >['WKT',\t'название',\t'описание',\t'name',\t'showOnMap',\t'strokeWidth',\t'strokeOpacity']</td>\n",
       "    </tr>\n",
       "  </tbody>\n",
       "</table>\n"
      ],
      "text/plain": [
       "<pandas.io.formats.style.Styler at 0x27fb9a50910>"
      ]
     },
     "metadata": {},
     "output_type": "display_data"
    }
   ],
   "source": [
    "ii(dfr,1)"
   ]
  },
  {
   "cell_type": "code",
   "execution_count": 605,
   "metadata": {},
   "outputs": [
    {
     "data": {
      "text/html": [
       "<div>\n",
       "<style scoped>\n",
       "    .dataframe tbody tr th:only-of-type {\n",
       "        vertical-align: middle;\n",
       "    }\n",
       "\n",
       "    .dataframe tbody tr th {\n",
       "        vertical-align: top;\n",
       "    }\n",
       "\n",
       "    .dataframe thead th {\n",
       "        text-align: right;\n",
       "    }\n",
       "</style>\n",
       "<table border=\"1\" class=\"dataframe\">\n",
       "  <thead>\n",
       "    <tr style=\"text-align: right;\">\n",
       "      <th></th>\n",
       "      <th>latitude</th>\n",
       "      <th>longitude</th>\n",
       "    </tr>\n",
       "  </thead>\n",
       "  <tbody>\n",
       "    <tr>\n",
       "      <th>0</th>\n",
       "      <td>38.2789876</td>\n",
       "      <td>55.355387</td>\n",
       "    </tr>\n",
       "    <tr>\n",
       "      <th>1</th>\n",
       "      <td>38.2887427</td>\n",
       "      <td>55.3573879</td>\n",
       "    </tr>\n",
       "    <tr>\n",
       "      <th>2</th>\n",
       "      <td>38.3067433</td>\n",
       "      <td>55.3718767</td>\n",
       "    </tr>\n",
       "    <tr>\n",
       "      <th>3</th>\n",
       "      <td>38.313899</td>\n",
       "      <td>55.3748019</td>\n",
       "    </tr>\n",
       "    <tr>\n",
       "      <th>4</th>\n",
       "      <td>38.322212</td>\n",
       "      <td>55.3773341</td>\n",
       "    </tr>\n",
       "    <tr>\n",
       "      <th>...</th>\n",
       "      <td>...</td>\n",
       "      <td>...</td>\n",
       "    </tr>\n",
       "    <tr>\n",
       "      <th>198</th>\n",
       "      <td>38.1705834</td>\n",
       "      <td>55.3576313</td>\n",
       "    </tr>\n",
       "    <tr>\n",
       "      <th>199</th>\n",
       "      <td>38.1877067</td>\n",
       "      <td>55.3588998</td>\n",
       "    </tr>\n",
       "    <tr>\n",
       "      <th>200</th>\n",
       "      <td>38.2333475</td>\n",
       "      <td>55.3558742</td>\n",
       "    </tr>\n",
       "    <tr>\n",
       "      <th>201</th>\n",
       "      <td>38.2559943</td>\n",
       "      <td>55.3540688</td>\n",
       "    </tr>\n",
       "    <tr>\n",
       "      <th>202</th>\n",
       "      <td>38.2758977</td>\n",
       "      <td>55.3555822</td>\n",
       "    </tr>\n",
       "  </tbody>\n",
       "</table>\n",
       "<p>203 rows × 2 columns</p>\n",
       "</div>"
      ],
      "text/plain": [
       "       latitude   longitude\n",
       "0    38.2789876   55.355387\n",
       "1    38.2887427  55.3573879\n",
       "2    38.3067433  55.3718767\n",
       "3     38.313899  55.3748019\n",
       "4     38.322212  55.3773341\n",
       "..          ...         ...\n",
       "198  38.1705834  55.3576313\n",
       "199  38.1877067  55.3588998\n",
       "200  38.2333475  55.3558742\n",
       "201  38.2559943  55.3540688\n",
       "202  38.2758977  55.3555822\n",
       "\n",
       "[203 rows x 2 columns]"
      ]
     },
     "execution_count": 605,
     "metadata": {},
     "output_type": "execute_result"
    }
   ],
   "source": [
    "dfr['ЦКАД']"
   ]
  },
  {
   "cell_type": "code",
   "execution_count": 414,
   "metadata": {
    "tags": []
   },
   "outputs": [
    {
     "data": {
      "text/plain": [
       "[[38.2789876, 55.355387],\n",
       " [38.2887427, 55.3573879],\n",
       " [38.3067433, 55.3718767],\n",
       " [38.313899, 55.3748019],\n",
       " [38.322212, 55.3773341],\n",
       " [38.3306117, 55.3818165],\n",
       " [38.33906, 55.3882495],\n",
       " [38.3432019, 55.3940021],\n",
       " [38.3439461, 55.4022045],\n",
       " [38.3347221, 55.4284507]]"
      ]
     },
     "execution_count": 414,
     "metadata": {},
     "output_type": "execute_result"
    }
   ],
   "source": [
    "# Find track intersection\n",
    "\n",
    "\n",
    "fname = r'C:\\Users\\S.Savinskiy\\Downloads\\Платные дороги- ЦКАД test track2.kml.csv'\n",
    "fname = r'C:\\Users\\S.Savinskiy\\Downloads\\Платные дороги- ЦКАД.csv'\n",
    "\n",
    "\n",
    "df = dfr['ЦКАД_from_kml'] = pd.read_csv(r'C:\\Users\\S.Savinskiy\\Downloads\\Платные дороги- ЦКАД.csv')\n",
    "df.count()\n",
    "\n",
    "geo_list = [[float(y) for y in x.split(\" \")] for x in dfr['ЦКАД_from_kml']['WKT'][0][12:-1].split(\", \")]\n",
    "geo_list[:10]"
   ]
  },
  {
   "cell_type": "code",
   "execution_count": 630,
   "metadata": {},
   "outputs": [
    {
     "data": {
      "image/png": "[encoded data removed]",
      "text/plain": [
       "<Figure size 1368x1368 with 1 Axes>"
      ]
     },
     "metadata": {
      "needs_background": "light"
     },
     "output_type": "display_data"
    }
   ],
   "source": [
    "geo_list = [[float(y) for y in x.split(\" \")] for x in dfr['ЦКАД_from_kml']['WKT'][0][12:-1].split(\", \")]\n",
    "columns=['longitude','latitude']\n",
    "\n",
    "df = pd.DataFrame(geo_list, columns=columns)\n",
    "\n",
    "dfr['ЦКАД'] = df.astype(float)\n",
    "# dfr['ЦКАД'].columns = columns\n",
    "\n",
    "# disp(dfr['ЦКАД'][:10])\n",
    "df = df[::1]\n",
    "\n",
    "plt.figure(figsize=(19,19))\n",
    "# plt.scatter(df['latitude'], df['longitude'], c=colorise(70))\n",
    "plt.plot(df['longitude'], df['latitude'], c=colorise(50))\n",
    "\n",
    "df = dfr['track'] = pd.read_csv(r'C:\\Users\\S.Savinskiy\\Downloads\\89701010068337419768 (1).csv')\n",
    "plt.scatter(df['longitude'], df['latitude'], c=df['speed'].apply(lambda x: colorise(x)))\n",
    "\n",
    "plt.show()"
   ]
  },
  {
   "cell_type": "code",
   "execution_count": 415,
   "metadata": {},
   "outputs": [
    {
     "name": "stdout",
     "output_type": "stream",
     "text": [
      "* \n"
     ]
    }
   ],
   "source": [
    "from pykml import parser\n",
    "\n",
    "filename = r'C:\\Users\\S.Savinskiy\\Downloads\\ЦКАД (1).kml'\n",
    "\n",
    "with open(filename) as f:\n",
    "#     folder = parser.parse(f).getroot().Document.Folder\n",
    "    folder = parser.parse(f).getroot()\n",
    "#     lines = f.readlines()\n",
    "\n",
    "print (\"*\", folder)     \n",
    "    \n",
    "\n",
    "# for pm in folder.Placemark:\n",
    "#       print(pm.name)"
   ]
  },
  {
   "cell_type": "code",
   "execution_count": 404,
   "metadata": {},
   "outputs": [
    {
     "ename": "NameError",
     "evalue": "name 'file' is not defined",
     "output_type": "error",
     "traceback": [
      "\u001b[1;31m---------------------------------------------------------------------------\u001b[0m",
      "\u001b[1;31mNameError\u001b[0m                                 Traceback (most recent call last)",
      "\u001b[1;32mC:\\Users\\SAF8C~1.SAV\\AppData\\Local\\Temp/ipykernel_40772/3696990805.py\u001b[0m in \u001b[0;36m<module>\u001b[1;34m\u001b[0m\n\u001b[0;32m      1\u001b[0m \u001b[1;32mfrom\u001b[0m \u001b[0mfastkml\u001b[0m \u001b[1;32mimport\u001b[0m  \u001b[0mkml\u001b[0m\u001b[1;33m\u001b[0m\u001b[1;33m\u001b[0m\u001b[0m\n\u001b[1;32m----> 2\u001b[1;33m \u001b[0mdoc\u001b[0m \u001b[1;33m=\u001b[0m \u001b[0mfile\u001b[0m\u001b[1;33m(\u001b[0m\u001b[1;34mr'C:\\Users\\S.Savinskiy\\Downloads\\ЦКАД (1).kml'\u001b[0m\u001b[1;33m)\u001b[0m\u001b[1;33m.\u001b[0m\u001b[0mread\u001b[0m\u001b[1;33m(\u001b[0m\u001b[1;33m)\u001b[0m\u001b[1;33m\u001b[0m\u001b[1;33m\u001b[0m\u001b[0m\n\u001b[0m\u001b[0;32m      3\u001b[0m \u001b[1;32mfor\u001b[0m \u001b[0mf\u001b[0m \u001b[1;32min\u001b[0m \u001b[0mk\u001b[0m\u001b[1;33m.\u001b[0m\u001b[0mfeatures\u001b[0m\u001b[1;33m(\u001b[0m\u001b[1;33m)\u001b[0m\u001b[1;33m:\u001b[0m\u001b[1;33m\u001b[0m\u001b[1;33m\u001b[0m\u001b[0m\n\u001b[0;32m      4\u001b[0m     \u001b[0mprint\u001b[0m\u001b[1;33m(\u001b[0m\u001b[0mf\u001b[0m\u001b[1;33m.\u001b[0m\u001b[0mname\u001b[0m\u001b[1;33m)\u001b[0m\u001b[1;33m\u001b[0m\u001b[1;33m\u001b[0m\u001b[0m\n",
      "\u001b[1;31mNameError\u001b[0m: name 'file' is not defined"
     ]
    }
   ],
   "source": [
    "from fastkml import  kml\n",
    "doc = file(r'C:\\Users\\S.Savinskiy\\Downloads\\ЦКАД (1).kml').read()\n",
    "for f in k.features():\n",
    "    print(f.name)"
   ]
  },
  {
   "cell_type": "code",
   "execution_count": 141,
   "metadata": {},
   "outputs": [
    {
     "name": "stdout",
     "output_type": "stream",
     "text": [
      "['#aaaa', '#993402', '#FE0100', '#FEA000', '#FBFF00', '#03FF00', '#00B47B', '#04CBD9', '#358AFF', '#DC01FE']\n"
     ]
    },
    {
     "data": {
      "text/plain": [
       "{'#aaaa': 10,\n",
       " '#993402': 20,\n",
       " '#FE0100': 40,\n",
       " '#FEA000': 70,\n",
       " '#FBFF00': 80,\n",
       " '#03FF00': 150,\n",
       " '#00B47B': 200,\n",
       " '#04CBD9': 380,\n",
       " '#358AFF': 450,\n",
       " '#DC01FE': 600}"
      ]
     },
     "execution_count": 141,
     "metadata": {},
     "output_type": "execute_result"
    }
   ],
   "source": [
    "colors = ['#'+c for c in 'aaaa 993402 FE0100 FEA000 FBFF00 03FF00 00B47B 04CBD9 358AFF DC01FE'.split(\" \")]\n",
    "\n",
    "\n",
    "print(colors) \n",
    "prices = [10,20,40, 70, 80, 150, 200, 380, 450, 600, 800,1000]\n",
    "\n",
    "object = dict(zip(colors, prices))\n",
    "object"
   ]
  },
  {
   "cell_type": "code",
   "execution_count": null,
   "metadata": {},
   "outputs": [],
   "source": []
  },
  {
   "cell_type": "code",
   "execution_count": 8,
   "metadata": {},
   "outputs": [
    {
     "name": "stdout",
     "output_type": "stream",
     "text": [
      "FE5500\n",
      "speed\n"
     ]
    },
    {
     "ename": "AttributeError",
     "evalue": "module 'matplotlib.pyplot' has no attribute 'bar_label'",
     "output_type": "error",
     "traceback": [
      "\u001b[1;31m---------------------------------------------------------------------------\u001b[0m",
      "\u001b[1;31mAttributeError\u001b[0m                            Traceback (most recent call last)",
      "\u001b[1;32m<ipython-input-8-393bc200e644>\u001b[0m in \u001b[0;36m<module>\u001b[1;34m\u001b[0m\n\u001b[0;32m     54\u001b[0m     \u001b[0mplt\u001b[0m\u001b[1;33m.\u001b[0m\u001b[0mfigure\u001b[0m\u001b[1;33m(\u001b[0m\u001b[0mfigsize\u001b[0m\u001b[1;33m=\u001b[0m\u001b[1;33m(\u001b[0m\u001b[1;36m10\u001b[0m\u001b[1;33m,\u001b[0m\u001b[1;36m4\u001b[0m\u001b[1;33m)\u001b[0m\u001b[1;33m)\u001b[0m\u001b[1;33m\u001b[0m\u001b[1;33m\u001b[0m\u001b[0m\n\u001b[0;32m     55\u001b[0m     \u001b[0mbarlist\u001b[0m \u001b[1;33m=\u001b[0m \u001b[0mplt\u001b[0m\u001b[1;33m.\u001b[0m\u001b[0mbarh\u001b[0m\u001b[1;33m(\u001b[0m\u001b[0mx\u001b[0m\u001b[1;33m,\u001b[0m \u001b[0my\u001b[0m\u001b[1;33m,\u001b[0m \u001b[0mcolor\u001b[0m \u001b[1;33m=\u001b[0m \u001b[0mx\u001b[0m \u001b[1;33m)\u001b[0m\u001b[1;33m\u001b[0m\u001b[1;33m\u001b[0m\u001b[0m\n\u001b[1;32m---> 56\u001b[1;33m     \u001b[0mplt\u001b[0m\u001b[1;33m.\u001b[0m\u001b[0mbar_label\u001b[0m\u001b[1;33m(\u001b[0m\u001b[0mbarlist\u001b[0m\u001b[1;33m)\u001b[0m\u001b[1;33m\u001b[0m\u001b[1;33m\u001b[0m\u001b[0m\n\u001b[0m\u001b[0;32m     57\u001b[0m     \u001b[0mplt\u001b[0m\u001b[1;33m.\u001b[0m\u001b[0mshow\u001b[0m\u001b[1;33m(\u001b[0m\u001b[1;33m)\u001b[0m\u001b[1;33m\u001b[0m\u001b[1;33m\u001b[0m\u001b[0m\n",
      "\u001b[1;31mAttributeError\u001b[0m: module 'matplotlib.pyplot' has no attribute 'bar_label'"
     ]
    },
    {
     "data": {
      "image/png": "[encoded data removed]",
      "text/plain": [
       "<Figure size 720x288 with 1 Axes>"
      ]
     },
     "metadata": {
      "needs_background": "light"
     },
     "output_type": "display_data"
    }
   ],
   "source": [
    "\n",
    "\n",
    "palettes  = {\n",
    "    \"speed\":{'#993402': 5,\n",
    "     '#fe0100': 10,\n",
    "     '#fea000': 20,\n",
    "     '#fbff00': 30,\n",
    "     '#03ff00': 40,\n",
    "     '#00b47b': 50,\n",
    "     '#04cbd9': 60,\n",
    "     '#1c65c9': 80,\n",
    "     '#5006da': 100,\n",
    "     '#555555': 300\n",
    "    },\n",
    "    \"speed2\":{'#993402':5,\n",
    "     '#FE0100':10,\n",
    "     '#FEA000':20,\n",
    "     '#FED000':30,\n",
    "     '#FBFF00':40,\n",
    "     '#03FF00':50,\n",
    "     '#00B47B':60,\n",
    "     '#04CBD9':80,\n",
    "     '#358AFF':100,\n",
    "     '#DC01FE':120,\n",
    "     '#999999':300,\n",
    "    },\n",
    "    \n",
    "    \"parking_price\":\n",
    "    {'#aaaa': 10,\n",
    "        '#cc0202':  20,\n",
    "        '#FE5500':  40,\n",
    "        '#dd7700':  40,\n",
    "        '#BB7700':  50,\n",
    "        '#FECA00':  60,\n",
    "        '#ccee00':  70,\n",
    "        '#03bb00':  80,\n",
    "        '#00B499': 100,\n",
    "        '#04AAD9': 150,\n",
    "        '#256Add': 200,\n",
    "        '#7755cc': 380,\n",
    "        '#772222': 450\n",
    "    }\n",
    "}\n",
    "\n",
    "\n",
    "\n",
    "\n",
    "def colorise(x, palette = palettes['parking_price']):\n",
    "    return [i[1:] for i in palette if palette[i] >= x ][0]\n",
    "\n",
    "print (colorise(40))\n",
    "\n",
    "for k in palettes:\n",
    "    print(k)\n",
    "    x,y = list(palettes[k].keys()),list(palettes[k].values())\n",
    "    plt.figure(figsize=(10,4))\n",
    "    barlist = plt.barh(x, y, color = x )\n",
    "    plt.bar_label(barlist)\n",
    "    plt.show()\n"
   ]
  },
  {
   "cell_type": "code",
   "execution_count": 4,
   "metadata": {
    "tags": []
   },
   "outputs": [
    {
     "name": "stdout",
     "output_type": "stream",
     "text": [
      "*** Start at: 09:40:57 ₂₀₂₂₋₀₅₋₀₈  ************************************************************\n"
     ]
    },
    {
     "ename": "ModuleNotFoundError",
     "evalue": "No module named 'simplekml'",
     "output_type": "error",
     "traceback": [
      "\u001b[1;31m---------------------------------------------------------------------------\u001b[0m",
      "\u001b[1;31mModuleNotFoundError\u001b[0m                       Traceback (most recent call last)",
      "\u001b[1;32m<ipython-input-4-7cebd46eb0c5>\u001b[0m in \u001b[0;36m<module>\u001b[1;34m\u001b[0m\n\u001b[0;32m      1\u001b[0m \u001b[1;31m# 2022-05-04 v2.0 - by connected objects\u001b[0m\u001b[1;33m\u001b[0m\u001b[1;33m\u001b[0m\u001b[1;33m\u001b[0m\u001b[0m\n\u001b[0;32m      2\u001b[0m \u001b[0mtm\u001b[0m\u001b[1;33m(\u001b[0m\u001b[1;33m)\u001b[0m\u001b[1;33m\u001b[0m\u001b[1;33m\u001b[0m\u001b[0m\n\u001b[1;32m----> 3\u001b[1;33m \u001b[1;32mimport\u001b[0m \u001b[0msimplekml\u001b[0m\u001b[1;33m\u001b[0m\u001b[1;33m\u001b[0m\u001b[0m\n\u001b[0m\u001b[0;32m      4\u001b[0m \u001b[1;33m\u001b[0m\u001b[0m\n\u001b[0;32m      5\u001b[0m \u001b[1;33m\u001b[0m\u001b[0m\n",
      "\u001b[1;31mModuleNotFoundError\u001b[0m: No module named 'simplekml'"
     ]
    }
   ],
   "source": [
    "# 2022-05-04 v2.0 - by connected objects\n",
    "tm()\n",
    "import simplekml\n",
    "\n",
    "\n",
    "def Draw_geojson(fname,routes,points):\n",
    "    kml = simplekml.Kml()\n",
    "    for df_point in points:\n",
    "        for i,row in df_point['points'].iterrows():\n",
    "            pt2 = kml.newpoint(name= row['name'], coords=[(row['Longitude'],row['Latitude'])])\n",
    "            pt2.style.iconstyle.icon.href = df_point['icon']\n",
    "#             set color of icon to be cyan (RGB=#00ffff)\n",
    "            pt2.style.iconstyle.color ='44ff8800' # aabbggrr\n",
    "    \n",
    "    coords = []      \n",
    "    linecoords = []\n",
    "    multilin = {}\n",
    "#     disp (routes)\n",
    "    \n",
    "    print (\"unique\",pd.unique(routes['price']))\n",
    "    \n",
    "    prices = pd.unique(routes['price'])\n",
    "    \n",
    "    for pr in prices:\n",
    "    \n",
    "        price = pr \n",
    "        routes_pr = routes[routes['price']==pr]\n",
    "        \n",
    "#         disp(routes_pr[:3])\n",
    "        \n",
    "        multilin[pr] = kml.newmultigeometry(name=\"Тариф %s руб.\\n %s\"% (price,\",\".join(routes_pr[\"number\"])), \n",
    "    # #                                 description=\"%s\"% df_route[\"price_description\"]\n",
    "                                                          )\n",
    "        \n",
    "        for i,df_route in routes_pr.iterrows(): \n",
    "            linecoords = []\n",
    "\n",
    "            geocoords = json.loads(df_route['geometry'])['coordinates']\n",
    "\n",
    "            for g in geocoords: \n",
    "                [x,y] = g\n",
    "                linecoords.append((x,y))\n",
    "            multilin[pr].newlinestring(coords=linecoords)\n",
    "\n",
    "        multilin[pr].style.linestyle.color = simplekml.Color.hex(colorise(price))   # Red\n",
    "        multilin[pr].style.linestyle.width= 3  # 10 pixels\n",
    "\n",
    "   \n",
    "    kml.save(fname)   \n",
    "\n",
    "\n",
    "df = dfr['parking_zone'] #[:2]\n",
    "\n",
    "tm(df.shape[0])\n",
    "\n",
    "# dfs = [y for x, y in df.groupby('price', as_index=False)]\n",
    "\n",
    "df = df.sort_values('price')\n",
    "\n",
    "# print(pd.unique(df['price']))\n",
    "step = 40000\n",
    "\n",
    "dfs = [df[d:d+step] for d in range(0,df.shape[0], step)]\n",
    "\n",
    "chk_size = 20000\n",
    "dfss = []\n",
    "\n",
    "for d in dfs:\n",
    "# for d in ['70']:\n",
    "    price = d['price'][0:1].values[0]\n",
    "    if ( d.shape[0] > chk_size):\n",
    "        for i,n  in enumerate(range(0,  d.shape[0],chk_size)):\n",
    "            dfss = dfss + [{\"n\":\"%s_%s\"%(price,i) ,\"df\":d[n:n+chk_size]}]\n",
    "    else: dfss = dfss + [{\"n\":\"%s\"%price,\"df\":d}]\n",
    "\n",
    "\n",
    "for k,d in enumerate(dfss):\n",
    "    fn_code = \"(\"+str(k)+\")\"+\"_\".join(pd.unique(d['df']['price'].astype(str)))\n",
    "    Draw_geojson(r'C:\\Users\\S.Savinskiy\\Downloads\\parking'+fn_code+'.kml',\n",
    "         d['df'],\n",
    "         [\n",
    "         ])\n",
    "    \n",
    "    tm([k,d['n'],d['df'].shape[0],fn_code])\n",
    "tm('>>>')"
   ]
  },
  {
   "cell_type": "code",
   "execution_count": 294,
   "metadata": {},
   "outputs": [
    {
     "name": "stdout",
     "output_type": "stream",
     "text": [
      "0:00:06.348 ₀╷₀₀╷₃₈.₂₄₅ [0, []]\n"
     ]
    },
    {
     "data": {
      "text/plain": [
       "1651685835.265795"
      ]
     },
     "execution_count": 294,
     "metadata": {},
     "output_type": "execute_result"
    }
   ],
   "source": [
    "import glob\n",
    "import os\n",
    "fpath = r'C:\\Users\\S.Savinskiy\\Downloads\\\\'\n",
    "files  = glob.glob(fpath+'parking*')\n",
    "\n",
    "for f in files:\n",
    "    os.remove(f)\n",
    "tm([len(files), [ (x.split(\"\\\\\")[-1]) for x in files ]] )"
   ]
  },
  {
   "cell_type": "code",
   "execution_count": 7,
   "metadata": {},
   "outputs": [
    {
     "name": "stdout",
     "output_type": "stream",
     "text": [
      "*** Start at: 09:42:00 ₂₀₂₂₋₀₅₋₀₈  ************************************************************\n"
     ]
    },
    {
     "ename": "NameError",
     "evalue": "name 'colorise' is not defined",
     "output_type": "error",
     "traceback": [
      "\u001b[1;31m---------------------------------------------------------------------------\u001b[0m",
      "\u001b[1;31mNameError\u001b[0m                                 Traceback (most recent call last)",
      "\u001b[1;32m<ipython-input-7-15734feb9c03>\u001b[0m in \u001b[0;36m<module>\u001b[1;34m\u001b[0m\n\u001b[0;32m     70\u001b[0m \u001b[0mparams\u001b[0m \u001b[1;33m=\u001b[0m \u001b[1;33m(\u001b[0m\u001b[1;36m1000\u001b[0m\u001b[1;33m,\u001b[0m \u001b[1;36m55.753145\u001b[0m\u001b[1;33m,\u001b[0m \u001b[1;36m37.615845\u001b[0m \u001b[1;33m,\u001b[0m \u001b[1;36m0.3\u001b[0m \u001b[1;33m,\u001b[0m \u001b[1;36m1\u001b[0m\u001b[1;33m)\u001b[0m\u001b[1;33m\u001b[0m\u001b[1;33m\u001b[0m\u001b[0m\n\u001b[0;32m     71\u001b[0m \u001b[1;33m\u001b[0m\u001b[0m\n\u001b[1;32m---> 72\u001b[1;33m \u001b[0mdraw_map\u001b[0m\u001b[1;33m(\u001b[0m\u001b[0mdf\u001b[0m\u001b[1;33m[\u001b[0m\u001b[1;33m:\u001b[0m\u001b[1;33m:\u001b[0m\u001b[1;36m1\u001b[0m\u001b[1;33m]\u001b[0m\u001b[1;33m,\u001b[0m \u001b[0mparams\u001b[0m\u001b[1;33m)\u001b[0m\u001b[1;33m\u001b[0m\u001b[1;33m\u001b[0m\u001b[0m\n\u001b[0m\u001b[0;32m     73\u001b[0m \u001b[0mtm\u001b[0m\u001b[1;33m(\u001b[0m\u001b[1;34m'>>>>'\u001b[0m\u001b[1;33m)\u001b[0m\u001b[1;33m\u001b[0m\u001b[1;33m\u001b[0m\u001b[0m\n",
      "\u001b[1;32m<ipython-input-7-15734feb9c03>\u001b[0m in \u001b[0;36mdraw_map\u001b[1;34m(df, p)\u001b[0m\n\u001b[0;32m     57\u001b[0m         my_PolyLine=folium.PolyLine(locations=c,\n\u001b[0;32m     58\u001b[0m                                     \u001b[0mweight\u001b[0m\u001b[1;33m=\u001b[0m\u001b[1;36m3\u001b[0m\u001b[1;33m,\u001b[0m\u001b[1;33m\u001b[0m\u001b[1;33m\u001b[0m\u001b[0m\n\u001b[1;32m---> 59\u001b[1;33m                                     \u001b[0mcolor\u001b[0m\u001b[1;33m=\u001b[0m\u001b[1;34m'#'\u001b[0m\u001b[1;33m+\u001b[0m\u001b[0mcolorise\u001b[0m\u001b[1;33m(\u001b[0m\u001b[0mprice\u001b[0m\u001b[1;33m)\u001b[0m\u001b[1;33m+\u001b[0m\u001b[1;34m\"cc\"\u001b[0m\u001b[1;33m,\u001b[0m\u001b[1;33m\u001b[0m\u001b[1;33m\u001b[0m\u001b[0m\n\u001b[0m\u001b[0;32m     60\u001b[0m                                    tooltip=prices[i], )\n\u001b[0;32m     61\u001b[0m         \u001b[0mm\u001b[0m\u001b[1;33m.\u001b[0m\u001b[0madd_child\u001b[0m\u001b[1;33m(\u001b[0m\u001b[0mmy_PolyLine\u001b[0m\u001b[1;33m)\u001b[0m\u001b[1;33m\u001b[0m\u001b[1;33m\u001b[0m\u001b[0m\n",
      "\u001b[1;31mNameError\u001b[0m: name 'colorise' is not defined"
     ]
    }
   ],
   "source": [
    "# 2022-05-05\n",
    "import folium\n",
    "tm()\n",
    "\n",
    "df = dfr['parking_zone'][::1]\n",
    "\n",
    "def swap(p):\n",
    "    res = []\n",
    "    for pp in p:\n",
    "        res = res + [[pp[1],pp[0]]]\n",
    "    return res\n",
    "\n",
    "\n",
    "def draw_map(df, p=()):\n",
    "    \n",
    "    (r0,r1,r2,r3,r4) = p \n",
    "\n",
    "    \n",
    "    zone = [\n",
    "        [r1-r3,r2-r4],\n",
    "        [r1+r3,r2-r4],\n",
    "        [r1+r3,r2+r4],\n",
    "        [r1-r3,r2+r4],\n",
    "        [r1-r3,r2-r4]\n",
    "           ]\n",
    "    \n",
    "    prices = list(df['price'])\n",
    "    \n",
    "    lng_lat = list(map(swap, [json.loads(x['geometry'])['coordinates'] for i,x in df.iterrows()]))\n",
    "\n",
    "    center = lng_lat[0][0]\n",
    "    center = [55.72,37.60]\n",
    "    \n",
    "    f = folium.Figure(width=1600, height=800)\n",
    "    \n",
    "    m = folium.Map(location=center, max_bounds=True).add_to(f)\n",
    "    \n",
    "    m.fit_bounds([[r1-r3,r2-r4],[r1+r3,r2+r4]])\n",
    "\n",
    "    my_PolyLine=folium.PolyLine(locations=zone ,weight=3,color='#ff880077')\n",
    "    m.add_child(my_PolyLine)    \n",
    "    m.add_child(folium.LatLngPopup())\n",
    "\n",
    "    [lat_max,lon_max,lat_min,lon_min]=[0,0,90,180] \n",
    "    \n",
    "    for i,c in enumerate(lng_lat):\n",
    "        price = list(df['price'])[i]\n",
    "\n",
    "        lat_max = max(c[0][0],lat_max)\n",
    "        lon_max = max(c[0][1],lon_max)\n",
    "\n",
    "        lat_min = min(c[0][0],lat_min)\n",
    "        lon_min = min(c[1][1],lon_min)\n",
    "\n",
    "        \n",
    "        \n",
    "        my_PolyLine=folium.PolyLine(locations=c,\n",
    "                                    weight=3,\n",
    "                                    color='#'+colorise(price)+\"cc\",\n",
    "                                   tooltip=prices[i], )\n",
    "        m.add_child(my_PolyLine)    \n",
    "    \n",
    "    dlat = (lat_max-lat_min)/2 \n",
    "    dlon = (lon_max-lon_min)/2 \n",
    "    print ([lat_max,lon_max,lat_min,lon_min], (lat_max-dlat, lon_max-dlon, dlat ,dlon ) )\n",
    "\n",
    "    \n",
    "    display(m)\n",
    "\n",
    "params = (1000, 55.753145, 37.615845 , 0.3 , 1)\n",
    "\n",
    "draw_map(df[::1], params)\n",
    "tm('>>>>')\n"
   ]
  },
  {
   "cell_type": "code",
   "execution_count": 6,
   "metadata": {},
   "outputs": [
    {
     "name": "stdout",
     "output_type": "stream",
     "text": [
      "*** Start at: 09:41:35 ₂₀₂₂₋₀₅₋₀₈  ************************************************************\n",
      "0:00:01.874 ₀╷₀₀╷₀₁.₈₇₄ 15100\n"
     ]
    },
    {
     "ename": "NameError",
     "evalue": "name 'draw_map' is not defined",
     "output_type": "error",
     "traceback": [
      "\u001b[1;31m---------------------------------------------------------------------------\u001b[0m",
      "\u001b[1;31mNameError\u001b[0m                                 Traceback (most recent call last)",
      "\u001b[1;32m<ipython-input-6-481fe29b5483>\u001b[0m in \u001b[0;36m<module>\u001b[1;34m\u001b[0m\n\u001b[0;32m     20\u001b[0m \u001b[0mdf\u001b[0m\u001b[1;33m[\u001b[0m\u001b[1;33m:\u001b[0m\u001b[1;36m3\u001b[0m\u001b[1;33m]\u001b[0m\u001b[1;33m\u001b[0m\u001b[1;33m\u001b[0m\u001b[0m\n\u001b[0;32m     21\u001b[0m \u001b[1;32mif\u001b[0m\u001b[1;33m(\u001b[0m\u001b[0mdf\u001b[0m\u001b[1;33m.\u001b[0m\u001b[0mshape\u001b[0m\u001b[1;33m[\u001b[0m\u001b[1;36m0\u001b[0m\u001b[1;33m]\u001b[0m\u001b[1;33m>\u001b[0m \u001b[1;36m0\u001b[0m \u001b[1;33m)\u001b[0m\u001b[1;33m:\u001b[0m\u001b[1;33m\u001b[0m\u001b[1;33m\u001b[0m\u001b[0m\n\u001b[1;32m---> 22\u001b[1;33m     \u001b[0mdraw_map\u001b[0m\u001b[1;33m(\u001b[0m\u001b[0mdf\u001b[0m\u001b[1;33m,\u001b[0m \u001b[0mparams\u001b[0m \u001b[1;33m)\u001b[0m\u001b[1;33m\u001b[0m\u001b[1;33m\u001b[0m\u001b[0m\n\u001b[0m",
      "\u001b[1;31mNameError\u001b[0m: name 'draw_map' is not defined"
     ]
    }
   ],
   "source": [
    "import requests\n",
    "import json\n",
    "# import pandas as pd\n",
    "\n",
    "tm()\n",
    "\n",
    "params = (1000, 55.798603, 45.480469305, 4.3, 15.3)\n",
    "\n",
    "\n",
    "url = \"https://api.parkomatica.ru/zone/get-list?radius1=%s&latitude=%s&longitude=%s845&latitudeDelta=%s&longitudeDelta=%s\"%params\n",
    "\n",
    "# GET\n",
    "r = requests.get(url)\n",
    "\n",
    "df = dfr['parking_zone'] = pd.DataFrame(r.json()['data'])\n",
    "\n",
    "df.to_pickle('parking_zone.pcl')\n",
    "\n",
    "tm(df.shape[0])\n",
    "df[:3]\n",
    "if(df.shape[0]> 0 ):\n",
    "    draw_map(df, params )"
   ]
  },
  {
   "cell_type": "code",
   "execution_count": 448,
   "metadata": {},
   "outputs": [
    {
     "data": {
      "text/plain": [
       "[55.69, 37.347]"
      ]
     },
     "execution_count": 448,
     "metadata": {},
     "output_type": "execute_result"
    }
   ],
   "source": [
    "\n",
    "df = dfr['geo_cache'] \n",
    "df.iloc[0]['ll']"
   ]
  },
  {
   "cell_type": "code",
   "execution_count": 513,
   "metadata": {},
   "outputs": [
    {
     "data": {
      "text/html": [
       "<div>\n",
       "<style scoped>\n",
       "    .dataframe tbody tr th:only-of-type {\n",
       "        vertical-align: middle;\n",
       "    }\n",
       "\n",
       "    .dataframe tbody tr th {\n",
       "        vertical-align: top;\n",
       "    }\n",
       "\n",
       "    .dataframe thead th {\n",
       "        text-align: right;\n",
       "    }\n",
       "</style>\n",
       "<table border=\"1\" class=\"dataframe\">\n",
       "  <thead>\n",
       "    <tr style=\"text-align: right;\">\n",
       "      <th></th>\n",
       "      <th>building</th>\n",
       "      <th>house_number</th>\n",
       "      <th>road</th>\n",
       "      <th>city_district</th>\n",
       "      <th>city</th>\n",
       "      <th>state</th>\n",
       "      <th>ISO3166-2-lvl4</th>\n",
       "      <th>region</th>\n",
       "      <th>postcode</th>\n",
       "      <th>country</th>\n",
       "      <th>country_code</th>\n",
       "      <th>lat</th>\n",
       "      <th>lon</th>\n",
       "      <th>boundingbox</th>\n",
       "    </tr>\n",
       "  </thead>\n",
       "  <tbody>\n",
       "    <tr>\n",
       "      <th>0</th>\n",
       "      <td>Технопарк Сколково</td>\n",
       "      <td>42 к1</td>\n",
       "      <td>Большой бульвар</td>\n",
       "      <td>Можайский район</td>\n",
       "      <td>Москва</td>\n",
       "      <td>Москва</td>\n",
       "      <td>RU-MOW</td>\n",
       "      <td>Центральный федеральный округ</td>\n",
       "      <td>143026</td>\n",
       "      <td>Россия</td>\n",
       "      <td>ru</td>\n",
       "      <td>55.69</td>\n",
       "      <td>37.347</td>\n",
       "      <td>[55.6909659, 55.6964862, 37.3465382, 37.3482907]</td>\n",
       "    </tr>\n",
       "  </tbody>\n",
       "</table>\n",
       "</div>"
      ],
      "text/plain": [
       "             building house_number             road    city_district    city  \\\n",
       "0  Технопарк Сколково        42 к1  Большой бульвар  Можайский район  Москва   \n",
       "\n",
       "    state ISO3166-2-lvl4                         region postcode country  \\\n",
       "0  Москва         RU-MOW  Центральный федеральный округ   143026  Россия   \n",
       "\n",
       "  country_code    lat     lon  \\\n",
       "0           ru  55.69  37.347   \n",
       "\n",
       "                                        boundingbox  \n",
       "0  [55.6909659, 55.6964862, 37.3465382, 37.3482907]  "
      ]
     },
     "execution_count": 513,
     "metadata": {},
     "output_type": "execute_result"
    }
   ],
   "source": [
    "dfr['geo_cache']"
   ]
  },
  {
   "cell_type": "code",
   "execution_count": 589,
   "metadata": {},
   "outputs": [],
   "source": [
    "del dfr['geo_cache']"
   ]
  },
  {
   "cell_type": "code",
   "execution_count": 581,
   "metadata": {},
   "outputs": [
    {
     "name": "stdout",
     "output_type": "stream",
     "text": [
      "Cтарая афишная тумба, улица 9 Января, Чичеры, Ленинский район, Воронеж, городской округ Воронеж, Воронежская область, Центральный федеральный округ, 394018, Россия\n"
     ]
    }
   ],
   "source": [
    "ll = [39.19166, 51.661509]\n",
    "ll = [51.660625, 39.194632]\n",
    "\n",
    "location = geolocator.reverse(ll)\n",
    "print(location)"
   ]
  },
  {
   "cell_type": "code",
   "execution_count": 601,
   "metadata": {},
   "outputs": [
    {
     "data": {
      "text/html": [
       "<div>\n",
       "<style scoped>\n",
       "    .dataframe tbody tr th:only-of-type {\n",
       "        vertical-align: middle;\n",
       "    }\n",
       "\n",
       "    .dataframe tbody tr th {\n",
       "        vertical-align: top;\n",
       "    }\n",
       "\n",
       "    .dataframe thead th {\n",
       "        text-align: right;\n",
       "    }\n",
       "</style>\n",
       "<table border=\"1\" class=\"dataframe\">\n",
       "  <thead>\n",
       "    <tr style=\"text-align: right;\">\n",
       "      <th></th>\n",
       "      <th>longitude</th>\n",
       "      <th>latitude</th>\n",
       "      <th>city_district</th>\n",
       "      <th>village</th>\n",
       "      <th>state</th>\n",
       "      <th>ISO3166-2-lvl4</th>\n",
       "      <th>region</th>\n",
       "      <th>postcode</th>\n",
       "      <th>country</th>\n",
       "      <th>country_code</th>\n",
       "      <th>...</th>\n",
       "      <th>suburb</th>\n",
       "      <th>highway</th>\n",
       "      <th>shop</th>\n",
       "      <th>amenity</th>\n",
       "      <th>building</th>\n",
       "      <th>residential</th>\n",
       "      <th>ISO3166-2-lvl15</th>\n",
       "      <th>municipality</th>\n",
       "      <th>industrial</th>\n",
       "      <th>town</th>\n",
       "    </tr>\n",
       "  </thead>\n",
       "  <tbody>\n",
       "    <tr>\n",
       "      <th>0</th>\n",
       "      <td>37.347</td>\n",
       "      <td>55.697</td>\n",
       "      <td>Можайский район</td>\n",
       "      <td>Инновационный центр «Сколково»</td>\n",
       "      <td>Москва</td>\n",
       "      <td>RU-MOW</td>\n",
       "      <td>Центральный федеральный округ</td>\n",
       "      <td>143026</td>\n",
       "      <td>Россия</td>\n",
       "      <td>ru</td>\n",
       "      <td>...</td>\n",
       "      <td>NaN</td>\n",
       "      <td>NaN</td>\n",
       "      <td>NaN</td>\n",
       "      <td>NaN</td>\n",
       "      <td>NaN</td>\n",
       "      <td>NaN</td>\n",
       "      <td>NaN</td>\n",
       "      <td>NaN</td>\n",
       "      <td>NaN</td>\n",
       "      <td>NaN</td>\n",
       "    </tr>\n",
       "  </tbody>\n",
       "</table>\n",
       "<p>1 rows × 29 columns</p>\n",
       "</div>"
      ],
      "text/plain": [
       "   longitude  latitude    city_district                         village  \\\n",
       "0     37.347    55.697  Можайский район  Инновационный центр «Сколково»   \n",
       "\n",
       "    state ISO3166-2-lvl4                         region postcode country  \\\n",
       "0  Москва         RU-MOW  Центральный федеральный округ   143026  Россия   \n",
       "\n",
       "  country_code  ... suburb highway shop amenity building residential  \\\n",
       "0           ru  ...    NaN     NaN  NaN     NaN      NaN         NaN   \n",
       "\n",
       "  ISO3166-2-lvl15 municipality industrial town  \n",
       "0             NaN          NaN        NaN  NaN  \n",
       "\n",
       "[1 rows x 29 columns]"
      ]
     },
     "execution_count": 601,
     "metadata": {},
     "output_type": "execute_result"
    }
   ],
   "source": [
    "def get_reverse(ll):\n",
    "\n",
    "    location = geolocator.reverse(ll)\n",
    "    print (ll,location.raw['address'])\n",
    "    gc = location.raw['address'] \n",
    "    [gc['latitude'],gc['longitude']] = ll\n",
    "    gc['boundingbox'] = [location.raw['boundingbox']]\n",
    "    res = pd.DataFrame(gc)\n",
    "#     print (gc)\n",
    "#     disp (res)\n",
    "    return res\n",
    "\n",
    "\n",
    "cache_path = r'db/geo_cache.pcl'\n",
    "\n",
    "def geo_cache(ll):\n",
    " \n",
    "    if 'geo_cache' in dfr.keys():\n",
    "#         print (\"1. dfr true\")\n",
    "        df =  dfr['geo_cache']       \n",
    "    else:\n",
    "        try:\n",
    "#             print (\"2. file true\")\n",
    "            df = dfr['geo_cache'] = pd.read_pickle(cache_path)\n",
    "        except:\n",
    "            print (\"3. no file\")\n",
    "            df = pd.DataFrame(columns={'longitude','latitude'})\n",
    "            \n",
    "    res = df[(df['latitude'] == ll[0]) & (df['longitude'] == ll[1])]\n",
    "    if(res.shape[0] == 0):\n",
    "        print (\"4. add new\")\n",
    "        res = pd.DataFrame(get_reverse(ll))\n",
    "        df = df.append(res)\n",
    "        df.to_pickle(cache_path)           \n",
    "        dfr['geo_cache'] = df        \n",
    "    return res\n",
    "    \n",
    "geo_cache([55.697,37.347]) "
   ]
  },
  {
   "cell_type": "code",
   "execution_count": 596,
   "metadata": {},
   "outputs": [
    {
     "data": {
      "text/plain": [
       "longitude          150\n",
       "latitude           150\n",
       "city_district       79\n",
       "village              1\n",
       "state              150\n",
       "ISO3166-2-lvl4     150\n",
       "region             149\n",
       "postcode           149\n",
       "country            150\n",
       "country_code       150\n",
       "boundingbox        150\n",
       "county              31\n",
       "house_number       101\n",
       "road               147\n",
       "neighbourhood       20\n",
       "city               147\n",
       "tourism              3\n",
       "craft                2\n",
       "quarter              7\n",
       "suburb             100\n",
       "highway              4\n",
       "shop                 2\n",
       "amenity             27\n",
       "building             6\n",
       "residential          1\n",
       "ISO3166-2-lvl15     14\n",
       "municipality         2\n",
       "industrial           1\n",
       "town                 1\n",
       "dtype: int64"
      ]
     },
     "execution_count": 596,
     "metadata": {},
     "output_type": "execute_result"
    }
   ],
   "source": [
    "df = pd.read_pickle(cache_path)\n",
    "df.count()"
   ]
  },
  {
   "cell_type": "code",
   "execution_count": 597,
   "metadata": {},
   "outputs": [
    {
     "data": {
      "text/html": [
       "<style type=\"text/css\">\n",
       "#T_e9023_row0_col0, #T_e9023_row1_col0, #T_e9023_row2_col0, #T_e9023_row3_col0 {\n",
       "  text-align: left;\n",
       "  width: 200px;\n",
       "}\n",
       "#T_e9023_row0_col1, #T_e9023_row0_col3 {\n",
       "  background-color: #fff0cc;\n",
       "  width: 80px;\n",
       "}\n",
       "#T_e9023_row0_col4, #T_e9023_row1_col4, #T_e9023_row2_col4, #T_e9023_row3_col4 {\n",
       "  text-align: left;\n",
       "  width: 800px;\n",
       "}\n",
       "</style>\n",
       "<table id=\"T_e9023_\">\n",
       "  <thead>\n",
       "    <tr>\n",
       "      <th class=\"blank level0\" >&nbsp;</th>\n",
       "      <th class=\"col_heading level0 col0\" >name</th>\n",
       "      <th class=\"col_heading level0 col1\" >rows</th>\n",
       "      <th class=\"col_heading level0 col2\" >cols</th>\n",
       "      <th class=\"col_heading level0 col3\" >memory</th>\n",
       "      <th class=\"col_heading level0 col4\" >keys</th>\n",
       "    </tr>\n",
       "  </thead>\n",
       "  <tbody>\n",
       "    <tr>\n",
       "      <th id=\"T_e9023_level0_row0\" class=\"row_heading level0 row0\" >0</th>\n",
       "      <td id=\"T_e9023_row0_col0\" class=\"data row0 col0\" >df = dfr['parking_zone']</td>\n",
       "      <td id=\"T_e9023_row0_col1\" class=\"data row0 col1\" >15100</td>\n",
       "      <td id=\"T_e9023_row0_col2\" class=\"data row0 col2\" >7</td>\n",
       "      <td id=\"T_e9023_row0_col3\" class=\"data row0 col3\" >845,728</td>\n",
       "      <td id=\"T_e9023_row0_col4\" class=\"data row0 col4\" >['id',\t'number',\t'geometry',\t'price_description',\t'price',\t'weekends',\t'periods']</td>\n",
       "    </tr>\n",
       "    <tr>\n",
       "      <th id=\"T_e9023_level0_row1\" class=\"row_heading level0 row1\" >1</th>\n",
       "      <td id=\"T_e9023_row1_col0\" class=\"data row1 col0\" >df = dfr['georeverse_parkig']</td>\n",
       "      <td id=\"T_e9023_row1_col1\" class=\"data row1 col1\" >16</td>\n",
       "      <td id=\"T_e9023_row1_col2\" class=\"data row1 col2\" >18</td>\n",
       "      <td id=\"T_e9023_row1_col3\" class=\"data row1 col3\" >2,432</td>\n",
       "      <td id=\"T_e9023_row1_col4\" class=\"data row1 col4\" >['house_number',\t'road',\t'neighbourhood',\t'city_district',\t'city',\t'county',\t'state',\t'ISO3166-2-lvl4',\t'region',\t'postcode',\t'country',\t'country_code',\t'building',\t'suburb',\t'residential',\t'amenity',\t'quarter',\t'ISO3166-2-lvl15']</td>\n",
       "    </tr>\n",
       "    <tr>\n",
       "      <th id=\"T_e9023_level0_row2\" class=\"row_heading level0 row2\" >2</th>\n",
       "      <td id=\"T_e9023_row2_col0\" class=\"data row2 col0\" >df = dfr['ЦКАД_from_kml']</td>\n",
       "      <td id=\"T_e9023_row2_col1\" class=\"data row2 col1\" >1</td>\n",
       "      <td id=\"T_e9023_row2_col2\" class=\"data row2 col2\" >7</td>\n",
       "      <td id=\"T_e9023_row2_col3\" class=\"data row2 col3\" >177</td>\n",
       "      <td id=\"T_e9023_row2_col4\" class=\"data row2 col4\" >['WKT',\t'название',\t'описание',\t'name',\t'showOnMap',\t'strokeWidth',\t'strokeOpacity']</td>\n",
       "    </tr>\n",
       "    <tr>\n",
       "      <th id=\"T_e9023_level0_row3\" class=\"row_heading level0 row3\" >3</th>\n",
       "      <td id=\"T_e9023_row3_col0\" class=\"data row3 col0\" >df = dfr['geo_cache']</td>\n",
       "      <td id=\"T_e9023_row3_col1\" class=\"data row3 col1\" >150</td>\n",
       "      <td id=\"T_e9023_row3_col2\" class=\"data row3 col2\" >29</td>\n",
       "      <td id=\"T_e9023_row3_col3\" class=\"data row3 col3\" >36,000</td>\n",
       "      <td id=\"T_e9023_row3_col4\" class=\"data row3 col4\" >['longitude',\t'latitude',\t'city_district',\t'village',\t'state',\t'ISO3166-2-lvl4',\t'region',\t'postcode',\t'country',\t'country_code',\t'boundingbox',\t'county',\t'house_number',\t'road',\t'neighbourhood',\t'city',\t'tourism',\t'craft',\t'quarter',\t'suburb',\t'highway',\t'shop',\t'amenity',\t'building',\t'residential',\t'ISO3166-2-lvl15',\t'municipality',\t'industrial',\t'town']</td>\n",
       "    </tr>\n",
       "  </tbody>\n",
       "</table>\n"
      ],
      "text/plain": [
       "<pandas.io.formats.style.Styler at 0x19c2dc62400>"
      ]
     },
     "metadata": {},
     "output_type": "display_data"
    }
   ],
   "source": [
    "ii(dfr,1)"
   ]
  },
  {
   "cell_type": "code",
   "execution_count": 423,
   "metadata": {},
   "outputs": [
    {
     "data": {
      "text/plain": [
       "{'place_id': 191873293,\n",
       " 'licence': 'Data © OpenStreetMap contributors, ODbL 1.0. https://osm.org/copyright',\n",
       " 'osm_type': 'way',\n",
       " 'osm_id': 382743663,\n",
       " 'lat': '55.693769849999995',\n",
       " 'lon': '37.34740556441982',\n",
       " 'display_name': 'Технопарк Сколково, 42 к1, Большой бульвар, Можайский район, Москва, Центральный федеральный округ, 143026, Россия',\n",
       " 'address': {'building': 'Технопарк Сколково',\n",
       "  'house_number': '42 к1',\n",
       "  'road': 'Большой бульвар',\n",
       "  'city_district': 'Можайский район',\n",
       "  'city': 'Москва',\n",
       "  'state': 'Москва',\n",
       "  'ISO3166-2-lvl4': 'RU-MOW',\n",
       "  'region': 'Центральный федеральный округ',\n",
       "  'postcode': '143026',\n",
       "  'country': 'Россия',\n",
       "  'country_code': 'ru'},\n",
       " 'boundingbox': ['55.6909659', '55.6964862', '37.3465382', '37.3482907']}"
      ]
     },
     "execution_count": 423,
     "metadata": {},
     "output_type": "execute_result"
    }
   ],
   "source": [
    "location = geolocator.reverse([55.69,37.347])\n",
    "\n",
    "location.raw"
   ]
  },
  {
   "cell_type": "code",
   "execution_count": 612,
   "metadata": {},
   "outputs": [
    {
     "data": {
      "text/plain": [
       "id                   15100\n",
       "number               15100\n",
       "geometry             15100\n",
       "price_description    13765\n",
       "price                15100\n",
       "weekends             15100\n",
       "periods              15100\n",
       "dtype: int64"
      ]
     },
     "execution_count": 612,
     "metadata": {},
     "output_type": "execute_result"
    }
   ],
   "source": [
    "dfr['parking_zone'].count()"
   ]
  },
  {
   "cell_type": "code",
   "execution_count": 629,
   "metadata": {},
   "outputs": [
    {
     "name": "stdout",
     "output_type": "stream",
     "text": [
      "*** Start at: 21:14:34 ₂₀₂₂₋₀₅₋₀₅  ************************************************************\n",
      "0:00:00.007 ₀╷₀₀╷₀₀.₀₀₇ [0, 0    Нижний Новгород\n",
      "Name: city, dtype: object]\n",
      "0:00:00.018 ₀╷₀₀╷₀₀.₀₂₆ Count\n",
      "city         6\n",
      "region       6\n",
      "road         6\n",
      "geometry     6\n",
      "price        6\n",
      "latitude     6\n",
      "longitude    6\n",
      "dtype: int64\n"
     ]
    },
    {
     "data": {
      "text/html": [
       "<div>\n",
       "<style scoped>\n",
       "    .dataframe tbody tr th:only-of-type {\n",
       "        vertical-align: middle;\n",
       "    }\n",
       "\n",
       "    .dataframe tbody tr th {\n",
       "        vertical-align: top;\n",
       "    }\n",
       "\n",
       "    .dataframe thead th {\n",
       "        text-align: right;\n",
       "    }\n",
       "</style>\n",
       "<table border=\"1\" class=\"dataframe\">\n",
       "  <thead>\n",
       "    <tr style=\"text-align: right;\">\n",
       "      <th></th>\n",
       "      <th>city</th>\n",
       "      <th>region</th>\n",
       "      <th>road</th>\n",
       "      <th>geometry</th>\n",
       "      <th>price</th>\n",
       "      <th>latitude</th>\n",
       "      <th>longitude</th>\n",
       "    </tr>\n",
       "  </thead>\n",
       "  <tbody>\n",
       "    <tr>\n",
       "      <th>0</th>\n",
       "      <td>Нижний Новгород</td>\n",
       "      <td>Приволжский федеральный округ</td>\n",
       "      <td>Нижне-Волжская набережная</td>\n",
       "      <td>[[44.005571008, 56.331992365], [44.000903964, 56.331689023]]</td>\n",
       "      <td>60.0</td>\n",
       "      <td>44.005571</td>\n",
       "      <td>56.331992</td>\n",
       "    </tr>\n",
       "    <tr>\n",
       "      <th>1</th>\n",
       "      <td>Пермь</td>\n",
       "      <td>Приволжский федеральный округ</td>\n",
       "      <td>улица Максима Горького</td>\n",
       "      <td>[[56.251537, 58.016116], [56.251415, 58.016241]]</td>\n",
       "      <td>20.0</td>\n",
       "      <td>56.251537</td>\n",
       "      <td>58.016116</td>\n",
       "    </tr>\n",
       "    <tr>\n",
       "      <th>2</th>\n",
       "      <td>Москва</td>\n",
       "      <td>Центральный федеральный округ</td>\n",
       "      <td>Зоологическая улица</td>\n",
       "      <td>[[37.582335, 55.764214], [37.58249, 55.764289], [37.582807, 55.764446]]</td>\n",
       "      <td>380.0</td>\n",
       "      <td>37.582335</td>\n",
       "      <td>55.764214</td>\n",
       "    </tr>\n",
       "  </tbody>\n",
       "</table>\n",
       "</div>"
      ],
      "text/plain": [
       "              city                         region                       road  \\\n",
       "0  Нижний Новгород  Приволжский федеральный округ  Нижне-Волжская набережная   \n",
       "1            Пермь  Приволжский федеральный округ     улица Максима Горького   \n",
       "2           Москва  Центральный федеральный округ        Зоологическая улица   \n",
       "\n",
       "                                                                  geometry  \\\n",
       "0             [[44.005571008, 56.331992365], [44.000903964, 56.331689023]]   \n",
       "1                         [[56.251537, 58.016116], [56.251415, 58.016241]]   \n",
       "2  [[37.582335, 55.764214], [37.58249, 55.764289], [37.582807, 55.764446]]   \n",
       "\n",
       "   price   latitude  longitude  \n",
       "0   60.0  44.005571  56.331992  \n",
       "1   20.0  56.251537  58.016116  \n",
       "2  380.0  37.582335  55.764214  "
      ]
     },
     "execution_count": 629,
     "metadata": {},
     "output_type": "execute_result"
    }
   ],
   "source": [
    "from geopy.geocoders import Nominatim\n",
    "tm()\n",
    "geolocator = Nominatim(user_agent=\"jupyter\")\n",
    "\n",
    "df = dfr['parking_zone'][::3000]\n",
    "\n",
    "lap = 0\n",
    "\n",
    "georeverse = pd.DataFrame()\n",
    "\n",
    "for i,r in df.iterrows():\n",
    "    c = json.loads(r['geometry'])['coordinates'][0]\n",
    "    \n",
    "    gc = geo_cache([c[1],c[0]])\n",
    "    \n",
    "    jrow = {\n",
    "        'city': gc['city'][0],\n",
    "        'region': gc['region'][0],\n",
    "        'road':gc['road'][0],\n",
    "        'geometry':json.loads(r['geometry'])['coordinates'],\n",
    "        'price': r['price'],\n",
    "        'latitude': c[0],\n",
    "        'longitude': c[1],\n",
    "            \n",
    "           }\n",
    "    \n",
    "#     disp(gc[['city','region']]) \n",
    "#     print(r[['price']])\n",
    "    \n",
    "    georeverse = georeverse.append(jrow, ignore_index=True)  \n",
    "\n",
    "\n",
    "    if lap%10 == 0: \n",
    "        tm([i,gc['city']])\n",
    "    lap += 1\n",
    "#     print (location.raw)\n",
    "\n",
    "    \n",
    "dfr['georeverse_parkig'] = df = pd.DataFrame(georeverse)\n",
    "\n",
    "tm(\"\\n\".join([\"Count\",str(df.count())]))\n",
    "df[:3]"
   ]
  },
  {
   "cell_type": "code",
   "execution_count": null,
   "metadata": {},
   "outputs": [],
   "source": [
    "place_id\tlicence\tosm_type\tosm_id\tlat\tlon\tdisplay_name\taddress\tboundingbox\n",
    "0\t285140293\tData © OpenStreetMap contributors, ODbL 1.0. https://osm.org/copyright\trelation\t2860612\t56.331676900000005\t44.004868200000004\t1Б, Нижне-Волжская набережная, Кремль, Нижегородский район, Нижний Новгород, городской округ Нижний Новгород, Нижегородская область, Приволжский федеральный округ, 603082, Россия\t{'house_number': '1Б', 'road': 'Нижне-Волжская набережная', 'neighbourhood': 'Кремль', 'city_district': 'Нижегородский район', 'city': 'Нижний Новгород', 'county': 'городской округ Нижний Новгород', 'state': 'Нижегородская область', 'ISO3166-2-lvl4': 'RU-NIZ', 'region': 'Приволжский федеральный округ', 'postcode': '603082', 'country': 'Россия', 'country_code': 'ru'}\t[56.3315216, 56.3318322, 44.0038091, 44.0059273]"
   ]
  },
  {
   "cell_type": "code",
   "execution_count": null,
   "metadata": {},
   "outputs": [],
   "source": [
    "from geopy.geocoders import GoogleV3\n",
    "geolocator = GoogleV3(api_key='Your_API_Key')\n",
    "location = geolocator.reverse(\"52.509669, 13.376294\")\n",
    "print(location.address)"
   ]
  },
  {
   "cell_type": "code",
   "execution_count": 378,
   "metadata": {},
   "outputs": [],
   "source": [
    "dfr = {}"
   ]
  },
  {
   "cell_type": "code",
   "execution_count": 379,
   "metadata": {
    "tags": []
   },
   "outputs": [
    {
     "name": "stdout",
     "output_type": "stream",
     "text": [
      "<class 'pandas.core.frame.DataFrame'>\n",
      "RangeIndex: 15100 entries, 0 to 15099\n",
      "Data columns (total 7 columns):\n",
      " #   Column             Non-Null Count  Dtype \n",
      "---  ------             --------------  ----- \n",
      " 0   id                 15100 non-null  int64 \n",
      " 1   number             15100 non-null  object\n",
      " 2   geometry           15100 non-null  object\n",
      " 3   price_description  13765 non-null  object\n",
      " 4   price              15100 non-null  int64 \n",
      " 5   weekends           15100 non-null  object\n",
      " 6   periods            15100 non-null  object\n",
      "dtypes: int64(2), object(5)\n",
      "memory usage: 825.9+ KB\n",
      "0:20:36.995 ₀╷₂₀╷₅₃.₅₅₄ ['>>>>', None, id                   15100\n",
      "number               15100\n",
      "geometry             15100\n",
      "price_description    13765\n",
      "price                15100\n",
      "weekends             15100\n",
      "periods              15100\n",
      "dtype: int64]\n"
     ]
    },
    {
     "data": {
      "text/html": [
       "<table border=\"1\" class=\"dataframe\">\n",
       "  <thead>\n",
       "    <tr style=\"text-align: right;\">\n",
       "      <th></th>\n",
       "      <th>id</th>\n",
       "      <th>number</th>\n",
       "      <th>geometry</th>\n",
       "      <th>price_description</th>\n",
       "      <th>price</th>\n",
       "      <th>weekends</th>\n",
       "      <th>periods</th>\n",
       "    </tr>\n",
       "  </thead>\n",
       "  <tbody>\n",
       "    <tr>\n",
       "      <th>0</th>\n",
       "      <td>32784</td>\n",
       "      <td>057</td>\n",
       "      <td>{\"type\":\"LineString\",\"coordinates\":[[44.005571008,56.331992365],[44.000903964,56.331689023]]}</td>\n",
       "      <td>60руб/час с 08:00 до 20:00</td>\n",
       "      <td>60</td>\n",
       "      <td>[]</td>\n",
       "      <td>[]</td>\n",
       "    </tr>\n",
       "    <tr>\n",
       "      <th>1</th>\n",
       "      <td>32785</td>\n",
       "      <td>001</td>\n",
       "      <td>{\"type\":\"LineString\",\"coordinates\":[[43.98706913,56.328997505],[43.987573385,56.32839672]]}</td>\n",
       "      <td>60руб/час с 08:00 до 20:00</td>\n",
       "      <td>60</td>\n",
       "      <td>[]</td>\n",
       "      <td>[]</td>\n",
       "    </tr>\n",
       "    <tr>\n",
       "      <th>2</th>\n",
       "      <td>32786</td>\n",
       "      <td>013</td>\n",
       "      <td>{\"type\":\"LineString\",\"coordinates\":[[44.017179608,56.316502508],[44.017724097,56.316670603]]}</td>\n",
       "      <td>60руб/час с 08:00 до 20:00</td>\n",
       "      <td>60</td>\n",
       "      <td>[]</td>\n",
       "      <td>[]</td>\n",
       "    </tr>\n",
       "  </tbody>\n",
       "</table>"
      ],
      "text/plain": [
       "<IPython.core.display.HTML object>"
      ]
     },
     "metadata": {},
     "output_type": "display_data"
    },
    {
     "data": {
      "text/plain": [
       "[0, 1, 20, 30, 40, 50, 60, 70, 80, 100, 150, 200, 380, 450]"
      ]
     },
     "execution_count": 379,
     "metadata": {},
     "output_type": "execute_result"
    }
   ],
   "source": [
    "# 2022-04-22 read_parking\n",
    "import json\n",
    "data = []\n",
    "def load_park_zones():\n",
    "    fname = r'C:\\Users\\S.Savinskiy\\Downloads\\response_1650638252002.json'\n",
    "    fname = r'C:\\Users\\S.Savinskiy\\Downloads\\response_2022-05-04.json'\n",
    "    \n",
    "    with open(fname,'rb') as f:\n",
    "        data = json.loads(f.read())\n",
    "    \n",
    "    parkings = data['data']   #[:2]\n",
    "    \n",
    "#     print (parkings)\n",
    "    \n",
    "#     df_nested_list = pd.json_normalize(parkings, record_path =['coordinates'])\n",
    "    \n",
    "    return pd.DataFrame(parkings)\n",
    "\n",
    "dfr['parking_zone'] = df  = load_park_zones()\n",
    "\n",
    "\n",
    "tm(['>>>>',df.info(),\n",
    "dfr['parking_zone'].count()\n",
    "   ])\n",
    "disp(df[:3])\n",
    "df.groupby(['price']).count().reset_index()['price'].to_list()"
   ]
  },
  {
   "cell_type": "code",
   "execution_count": 366,
   "metadata": {},
   "outputs": [
    {
     "name": "stdout",
     "output_type": "stream",
     "text": [
      "*** Start at: 13:49:11 ₂₀₂₂₋₀₄₋₂₅  ************************************************************\n"
     ]
    },
    {
     "data": {
      "text/plain": [
       "<BarContainer object of 20 artists>"
      ]
     },
     "execution_count": 366,
     "metadata": {},
     "output_type": "execute_result"
    },
    {
     "data": {
      "image/png": "[encoded data removed]",
      "text/plain": [
       "<Figure size 1152x504 with 1 Axes>"
      ]
     },
     "metadata": {
      "needs_background": "light"
     },
     "output_type": "display_data"
    }
   ],
   "source": [
    "\n",
    "\n",
    "tm()\n",
    "from datetime import datetime\n",
    "df = dfr['bmo_last_devide_id'] = pd.read_csv(r'C:\\Users\\S.Savinskiy\\Downloads\\bmo_last.csv')\n",
    "\n",
    "# ts =  df.sort_values(['unixtime'], ascending=False)\n",
    "# print (ts)\n",
    "df['iso_time'] = df['unixtime'].apply(lambda x: str(datetime.utcfromtimestamp(x).strftime('%Y-%m-%d %H:%M:%S')))\n",
    "\n",
    "df = df[df['unixtime'] > (df['unixtime'].max() - 3600*24*300 )   ]\n",
    "\n",
    "dfg = df.groupby(df['iso_time'].str[-2:19])['device_id'].count().reset_index()\n",
    "\n",
    "dfg = dfg.sort_values(['iso_time'])[-20:]\n",
    "\n",
    "# print(dfg.shape[0],dfg.info())\n",
    "\n",
    "plt.figure(figsize=(16,7))\n",
    "plt.barh(dfg['iso_time'],dfg['device_id'])"
   ]
  },
  {
   "cell_type": "code",
   "execution_count": 187,
   "metadata": {},
   "outputs": [
    {
     "data": {
      "image/png": "[encoded data removed]",
      "text/plain": [
       "<Figure size 720x288 with 1 Axes>"
      ]
     },
     "metadata": {
      "needs_background": "light"
     },
     "output_type": "display_data"
    },
    {
     "data": {
      "image/png": "[encoded data removed]",
      "text/plain": [
       "<Figure size 792x792 with 1 Axes>"
      ]
     },
     "metadata": {
      "needs_background": "light"
     },
     "output_type": "display_data"
    }
   ],
   "source": [
    "df = dfr['track'] = pd.read_csv(r'C:\\Users\\S.Savinskiy\\Downloads\\89701010068337419768 (1).csv')\n",
    "bins = [-1,1e-3,1e-2,1e-1,1]\n",
    "\n",
    "d = 'speed'\n",
    "\n",
    "cuts = pd.cut(df[d],10).apply(lambda x: pd.Interval(left=int(round(x.left)), right=int(round(x.right))))\n",
    "\n",
    "g_step=10\n",
    "cuts = pd.cut(df[d],range(0,df[d].max()+g_step*2,g_step))\n",
    "\n",
    "dfg = df.groupby(cuts ).count().rename(columns={d:'bar'}).reset_index()\n",
    "# disp(dfg)\n",
    "\n",
    "\n",
    "x = dfg[d].astype(str)\n",
    "y = dfg['bar']\n",
    "\n",
    "plt.figure(figsize=(10,4))\n",
    "barlist = plt.barh(x, y)\n",
    "plt.bar_label(barlist)\n",
    "\n",
    "for i,sp in enumerate(dfg[d]):\n",
    "    barlist[i].set_color(colorise(sp.left,palettes['speed']))\n",
    "\n",
    "plt.show()\n",
    "plt.figure(figsize=(11,11))\n",
    "plt.scatter(df['latitude'], df['longitude'], c=df['speed'].apply(lambda x: colorise(x)))\n",
    "\n",
    "plt.show()"
   ]
  },
  {
   "cell_type": "code",
   "execution_count": 65,
   "metadata": {},
   "outputs": [
    {
     "data": {
      "text/plain": [
       "38000"
      ]
     },
     "execution_count": 65,
     "metadata": {},
     "output_type": "execute_result"
    }
   ],
   "source": [
    "pd.DataFrame(df['periods'][0])['price'].max()"
   ]
  },
  {
   "cell_type": "code",
   "execution_count": 210,
   "metadata": {},
   "outputs": [
    {
     "data": {
      "text/html": [
       "<style type=\"text/css\">\n",
       "#T_ed34e_row0_col0, #T_ed34e_row1_col0 {\n",
       "  text-align: left;\n",
       "  width: 200px;\n",
       "}\n",
       "#T_ed34e_row0_col1, #T_ed34e_row0_col3, #T_ed34e_row1_col1, #T_ed34e_row1_col3 {\n",
       "  background-color: #fff0cc;\n",
       "  width: 80px;\n",
       "}\n",
       "#T_ed34e_row0_col4, #T_ed34e_row1_col4 {\n",
       "  text-align: left;\n",
       "  width: 800px;\n",
       "}\n",
       "</style>\n",
       "<table id=\"T_ed34e_\">\n",
       "  <thead>\n",
       "    <tr>\n",
       "      <th class=\"blank level0\" >&nbsp;</th>\n",
       "      <th class=\"col_heading level0 col0\" >name</th>\n",
       "      <th class=\"col_heading level0 col1\" >rows</th>\n",
       "      <th class=\"col_heading level0 col2\" >cols</th>\n",
       "      <th class=\"col_heading level0 col3\" >memory</th>\n",
       "      <th class=\"col_heading level0 col4\" >keys</th>\n",
       "    </tr>\n",
       "  </thead>\n",
       "  <tbody>\n",
       "    <tr>\n",
       "      <th id=\"T_ed34e_level0_row0\" class=\"row_heading level0 row0\" >0</th>\n",
       "      <td id=\"T_ed34e_row0_col0\" class=\"data row0 col0\" >df = dfr['track']</td>\n",
       "      <td id=\"T_ed34e_row0_col1\" class=\"data row0 col1\" >1238</td>\n",
       "      <td id=\"T_ed34e_row0_col2\" class=\"data row0 col2\" >6</td>\n",
       "      <td id=\"T_ed34e_row0_col3\" class=\"data row0 col3\" >59,552</td>\n",
       "      <td id=\"T_ed34e_row0_col4\" class=\"data row0 col4\" >['to_timestamp',\t'latitude',\t'longitude',\t'speed',\t'fuel',\t'speed_engine']</td>\n",
       "    </tr>\n",
       "    <tr>\n",
       "      <th id=\"T_ed34e_level0_row1\" class=\"row_heading level0 row1\" >1</th>\n",
       "      <td id=\"T_ed34e_row1_col0\" class=\"data row1 col0\" >df = dfr['track2']</td>\n",
       "      <td id=\"T_ed34e_row1_col1\" class=\"data row1 col1\" >1238</td>\n",
       "      <td id=\"T_ed34e_row1_col2\" class=\"data row1 col2\" >6</td>\n",
       "      <td id=\"T_ed34e_row1_col3\" class=\"data row1 col3\" >59,552</td>\n",
       "      <td id=\"T_ed34e_row1_col4\" class=\"data row1 col4\" >['to_timestamp',\t'latitude',\t'longitude',\t'speed',\t'fuel',\t'speed_engine']</td>\n",
       "    </tr>\n",
       "  </tbody>\n",
       "</table>\n"
      ],
      "text/plain": [
       "<pandas.io.formats.style.Styler at 0x27fb2ba5400>"
      ]
     },
     "metadata": {},
     "output_type": "display_data"
    }
   ],
   "source": [
    "ii(dfr,1)"
   ]
  },
  {
   "cell_type": "code",
   "execution_count": 34,
   "metadata": {},
   "outputs": [
    {
     "name": "stdout",
     "output_type": "stream",
     "text": [
      "*** Start at: 13:25:26 ₂₀₂₂₋₀₄₋₂₂  ************************************************************\n"
     ]
    }
   ],
   "source": [
    "# 2022-04-16 https://developers.google.com/kml/documentation/kmlreference\n",
    "# https://kml4earth.appspot.com/icons.html\n",
    "# https://icons8.com/icon/set/atransport/color\n",
    "# hotel - https://img.icons8.com/office/32/hotel-information.png\n",
    "# gas station https://img.icons8.com/color/32/gas-station.png\n",
    "\n",
    "tm()\n",
    "import simplekml\n",
    "\n",
    "\n",
    "def Draw(fname,routes,points):\n",
    "    kml = simplekml.Kml()\n",
    "    for df_point in points:\n",
    "        for i,row in df_point['points'].iterrows():\n",
    "            pt2 = kml.newpoint(name= row['name'], coords=[(row['Longitude'],row['Latitude'])])\n",
    "            pt2.style.iconstyle.icon.href = df_point['icon']\n",
    "#             set color of icon to be cyan (RGB=#00ffff)\n",
    "            pt2.style.iconstyle.color ='44ff8800' # aabbggrr\n",
    "    \n",
    "                                          \n",
    "    for df_route in routes:                                      \n",
    "        route = [tuple(x) for x in df_route['route'][['Longitude','Latitude']].values]\n",
    "\n",
    "        lin = kml.newlinestring(name=df_route[\"name\"])\n",
    "        lin.style.linestyle.color = '228800ff'  # Red\n",
    "        lin.style.linestyle.width= 5  # 10 pixels\n",
    "        lin.coords = route\n",
    "    kml.save(fname)    \n",
    "\n"
   ]
  },
  {
   "cell_type": "code",
   "execution_count": 6,
   "metadata": {},
   "outputs": [
    {
     "ename": "NameError",
     "evalue": "name 'tm' is not defined",
     "output_type": "error",
     "traceback": [
      "\u001b[1;31m---------------------------------------------------------------------------\u001b[0m",
      "\u001b[1;31mNameError\u001b[0m                                 Traceback (most recent call last)",
      "\u001b[1;32mC:\\Users\\SAF8C~1.SAV\\AppData\\Local\\Temp/ipykernel_2988/219998199.py\u001b[0m in \u001b[0;36m<module>\u001b[1;34m\u001b[0m\n\u001b[1;32m----> 1\u001b[1;33m \u001b[0mtm\u001b[0m\u001b[1;33m(\u001b[0m\u001b[1;33m)\u001b[0m\u001b[1;33m\u001b[0m\u001b[1;33m\u001b[0m\u001b[0m\n\u001b[0m\u001b[0;32m      2\u001b[0m \u001b[0mdb\u001b[0m \u001b[1;33m=\u001b[0m \u001b[0mclient\u001b[0m\u001b[1;33m[\u001b[0m\u001b[1;34m\"tourservice\"\u001b[0m\u001b[1;33m]\u001b[0m\u001b[1;33m\u001b[0m\u001b[1;33m\u001b[0m\u001b[0m\n\u001b[0;32m      3\u001b[0m qwr = {\"$and\":[{\"category\":\"EAT/DRINK\"}, {\"subcategory\": \"CAFE\"} , \n\u001b[0;32m      4\u001b[0m                {\"location\": {\"$near\": {\"$maxDistance\":1000, \n\u001b[0;32m      5\u001b[0m                                      \"$geometry\":{\"type\":\"Point\", \n",
      "\u001b[1;31mNameError\u001b[0m: name 'tm' is not defined"
     ]
    }
   ],
   "source": [
    "tm()\n",
    "db = client[\"tourservice\"]\n",
    "qwr = {\"$and\":[{\"category\":\"EAT/DRINK\"}, {\"subcategory\": \"CAFE\"} , \n",
    "               {\"location\": {\"$near\": {\"$maxDistance\":1000, \n",
    "                                     \"$geometry\":{\"type\":\"Point\", \n",
    "                                                  \"coordinates\":[37.35,55.7]}}}}]}\n",
    "\n",
    "qwr_loc = [{\"location\": {\"$near\": {\"$maxDistance\":1000, \n",
    "                                     \"$geometry\":{\"type\":\"MultiPoint\", \n",
    "                                                  \"coordinates\":[37.35,55.7]}}}},\n",
    "            {\"location\": {\"$near\": {\"$maxDistance\":1000, \n",
    "                                     \"$geometry\":{\"type\":\"MultiPoint\", \n",
    "                                                  \"coordinates\":[37.36,55.7]}}}}]\n",
    "\n",
    "\n",
    "qwr_loc = {\n",
    "        \"location\" : {\n",
    "                \"type\" : \"Point\",\n",
    "                \"coordinates\" : [\n",
    "                        37.35,\n",
    "                        55.7\n",
    "                ]\n",
    "        },\n",
    "        \"distance\" : 1000\n",
    "}\n",
    "\n",
    "qwr = {\"$and\":[{\"category\":\"EAT/DRINK\"}, {\"subcategory\": \"CAFE\"}, qwr_loc] }\n",
    "\n",
    "# qwr = {\"name\":\"Десяточка\"}\n",
    "\n",
    "\n",
    "bd_find = db.poi_gson.find(qwr)\n",
    "\n",
    "db_find = db.poi_gson.aggregate([\n",
    "    { \"$geoNear\": {\n",
    "        \"near\": {\n",
    "            \"type\": \"Point\",\n",
    "            \"coordinates\": [\n",
    "               37.35,\n",
    "               55.7\n",
    "            ]\n",
    "        },\n",
    "        \"maxDistance\": 2000,\n",
    "        \"spherical\": True,\n",
    "        \"distanceField\": \"distance\"\n",
    "    }}\n",
    "])\n",
    "\n",
    "\n",
    "df = pd.DataFrame(list(db_find))\n",
    "\n",
    "\n",
    "    \n",
    "tm(['>>>>',df.count()])\n",
    "df"
   ]
  },
  {
   "cell_type": "code",
   "execution_count": 9,
   "metadata": {},
   "outputs": [
    {
     "data": {
      "text/html": [
       "<div>\n",
       "<style scoped>\n",
       "    .dataframe tbody tr th:only-of-type {\n",
       "        vertical-align: middle;\n",
       "    }\n",
       "\n",
       "    .dataframe tbody tr th {\n",
       "        vertical-align: top;\n",
       "    }\n",
       "\n",
       "    .dataframe thead th {\n",
       "        text-align: right;\n",
       "    }\n",
       "</style>\n",
       "<table border=\"1\" class=\"dataframe\">\n",
       "  <thead>\n",
       "    <tr style=\"text-align: right;\">\n",
       "      <th></th>\n",
       "    </tr>\n",
       "  </thead>\n",
       "  <tbody>\n",
       "  </tbody>\n",
       "</table>\n",
       "</div>"
      ],
      "text/plain": [
       "Empty DataFrame\n",
       "Columns: []\n",
       "Index: []"
      ]
     },
     "execution_count": 9,
     "metadata": {},
     "output_type": "execute_result"
    }
   ],
   "source": [
    "df[:5]"
   ]
  },
  {
   "cell_type": "code",
   "execution_count": 145,
   "metadata": {},
   "outputs": [
    {
     "name": "stdout",
     "output_type": "stream",
     "text": [
      "*** Start at: 19:08:40 ₂₀₂₂₋₀₄₋₁₉  ************************************************************\n",
      "0:00:11.649 ₀╷₀₀╷₁₁.₆₄₉ >>>>>\n"
     ]
    }
   ],
   "source": [
    "tm()\n",
    "\n",
    "coll  = db.poi_gson\n",
    "\n",
    "coll.drop()\n",
    "\n",
    "coll  = db.poi_gson\n",
    "\n",
    "for element in db.poi.find().limit(20000): \n",
    "    coll.insert_many([{\n",
    "        \"_id\": element[\"_id\"],\n",
    "        \"name\": element[\"name\"],\n",
    "        \"category\": element[\"category\"],\n",
    "        \"subcategory\": element[\"subcategory\"],\n",
    "        \"loc\": element[\"lng\"], element[\"lat\"]]\n",
    "        \n",
    "        }}]);\n",
    "\n",
    "tm('>>>>>')"
   ]
  },
  {
   "cell_type": "code",
   "execution_count": 96,
   "metadata": {},
   "outputs": [
    {
     "name": "stdout",
     "output_type": "stream",
     "text": [
      "*** Start at: 16:52:43 ₂₀₂₂₋₀₄₋₁₉  ************************************************************\n",
      "0:00:00.024 ₀╷₀₀╷₀₀.₀₂₄ 1. get els\n",
      "0:00:14.715 ₀╷₀₀╷₁₄.₇₃₉ ['1. list ready', 7675403]\n",
      "0:00:00.924 ₀╷₀₀╷₁₅.₆₆₄ ['>>>>>']\n"
     ]
    }
   ],
   "source": [
    "tm()\n",
    "\n",
    "coll  = db.poi_gson\n",
    "coll.drop()\n",
    "\n",
    "ins = []\n",
    "\n",
    "els = db.poi.find().limit(40000)\n",
    "\n",
    "tm('1. get els')\n",
    "\n",
    "for element in els: \n",
    "    ins = ins + [{\n",
    "        \"_id\": element[\"_id\"],\n",
    "        \"name\": element[\"name\"],\n",
    "        \"category\": element[\"category\"],\n",
    "        \"subcategory\": element[\"subcategory\"],\n",
    "        \"loc\": {\n",
    "            \"type\": \"Point\",\n",
    "            \"coordinates\": [element[\"lng\"], element[\"lat\"]]\n",
    "        \n",
    "        }}]\n",
    "\n",
    "tm(['1. list ready',len(str(ins))])\n",
    "\n",
    "coll.insert_many(ins)\n",
    "\n",
    "tm(['>>>>>'])"
   ]
  },
  {
   "cell_type": "code",
   "execution_count": 107,
   "metadata": {},
   "outputs": [
    {
     "data": {
      "text/html": [
       "<style type=\"text/css\">\n",
       "#T_9bee8_row0_col0, #T_9bee8_row1_col0, #T_9bee8_row2_col0 {\n",
       "  text-align: left;\n",
       "  width: 200px;\n",
       "}\n",
       "#T_9bee8_row0_col3, #T_9bee8_row1_col1 {\n",
       "  background-color: #fff0cc;\n",
       "  width: 80px;\n",
       "}\n",
       "#T_9bee8_row0_col4, #T_9bee8_row1_col4, #T_9bee8_row2_col4 {\n",
       "  text-align: left;\n",
       "  width: 800px;\n",
       "}\n",
       "</style>\n",
       "<table id=\"T_9bee8_\">\n",
       "  <thead>\n",
       "    <tr>\n",
       "      <th class=\"blank level0\" >&nbsp;</th>\n",
       "      <th class=\"col_heading level0 col0\" >name</th>\n",
       "      <th class=\"col_heading level0 col1\" >rows</th>\n",
       "      <th class=\"col_heading level0 col2\" >cols</th>\n",
       "      <th class=\"col_heading level0 col3\" >memory</th>\n",
       "      <th class=\"col_heading level0 col4\" >keys</th>\n",
       "    </tr>\n",
       "  </thead>\n",
       "  <tbody>\n",
       "    <tr>\n",
       "      <th id=\"T_9bee8_level0_row0\" class=\"row_heading level0 row0\" >0</th>\n",
       "      <td id=\"T_9bee8_row0_col0\" class=\"data row0 col0\" >df = dfr['route_574']</td>\n",
       "      <td id=\"T_9bee8_row0_col1\" class=\"data row0 col1\" >13536</td>\n",
       "      <td id=\"T_9bee8_row0_col2\" class=\"data row0 col2\" >6</td>\n",
       "      <td id=\"T_9bee8_row0_col3\" class=\"data row0 col3\" >758,016</td>\n",
       "      <td id=\"T_9bee8_row0_col4\" class=\"data row0 col4\" >['lat',\t'lng',\t'unixtime',\t'isotime',\t'fuel',\t'speed']</td>\n",
       "    </tr>\n",
       "    <tr>\n",
       "      <th id=\"T_9bee8_level0_row1\" class=\"row_heading level0 row1\" >1</th>\n",
       "      <td id=\"T_9bee8_row1_col0\" class=\"data row1 col0\" >df = dfr['osm poi']</td>\n",
       "      <td id=\"T_9bee8_row1_col1\" class=\"data row1 col1\" >1166350</td>\n",
       "      <td id=\"T_9bee8_row1_col2\" class=\"data row1 col2\" >6</td>\n",
       "      <td id=\"T_9bee8_row1_col3\" class=\"data row1 col3\" >55,984,928</td>\n",
       "      <td id=\"T_9bee8_row1_col4\" class=\"data row1 col4\" >['id',\t'name',\t'category',\t'subcategory',\t'lng',\t'lat']</td>\n",
       "    </tr>\n",
       "    <tr>\n",
       "      <th id=\"T_9bee8_level0_row2\" class=\"row_heading level0 row2\" >2</th>\n",
       "      <td id=\"T_9bee8_row2_col0\" class=\"data row2 col0\" >df = dfr['poi_accomodation']</td>\n",
       "      <td id=\"T_9bee8_row2_col1\" class=\"data row2 col1\" >34</td>\n",
       "      <td id=\"T_9bee8_row2_col2\" class=\"data row2 col2\" >4</td>\n",
       "      <td id=\"T_9bee8_row2_col3\" class=\"data row2 col3\" >1,216</td>\n",
       "      <td id=\"T_9bee8_row2_col4\" class=\"data row2 col4\" >['Latitude',\t'Longitude',\t'name',\t'subcategory']</td>\n",
       "    </tr>\n",
       "  </tbody>\n",
       "</table>\n"
      ],
      "text/plain": [
       "<pandas.io.formats.style.Styler at 0x20ee2b69820>"
      ]
     },
     "metadata": {},
     "output_type": "display_data"
    }
   ],
   "source": [
    "ii(dfr,1)"
   ]
  },
  {
   "cell_type": "code",
   "execution_count": 747,
   "metadata": {},
   "outputs": [
    {
     "name": "stdout",
     "output_type": "stream",
     "text": [
      "37.44782269657372,55.727131151988715\n",
      "37.352177303426274,55.67286884801129\n"
     ]
    },
    {
     "data": {
      "text/plain": [
       "12.806276228290576"
      ]
     },
     "execution_count": 747,
     "metadata": {},
     "output_type": "execute_result"
    }
   ],
   "source": [
    "#2022-04-05 расчет дистанции \n",
    "\n",
    "import math\n",
    "\n",
    "\n",
    "def geo_shift(p, dist):\n",
    "    \n",
    "    cos_d = math.cos( p[1]  * math.pi/180 )\n",
    "\n",
    "    lat_delt = dist / 110.574 / 1000\n",
    "    lng_delt = dist / 111.320 / 1000 /cos_d\n",
    "\n",
    "\n",
    "    return [lng_delt, \n",
    "            lat_delt, \n",
    "            p[0] + lng_delt, \n",
    "            p[1] + lat_delt,\n",
    "            p[0] - lng_delt, \n",
    "            p[1] - lat_delt\n",
    "           ]\n",
    "\n",
    "\n",
    "\n",
    "def f_distance(lat1, lon1, lat2, lon2,unit = \"K\") :\n",
    "    \n",
    "    if ((lat1 == lat2) & (lon1 == lon2)):\n",
    "        return 0\n",
    "\n",
    "    else:\n",
    "        radlat1 = math.pi * lat1/180;\n",
    "        radlat2 = math.pi * lat2/180;\n",
    "        theta = lon1-lon2;\n",
    "        radtheta = math.pi * theta/180;\n",
    "        dist = math.sin(radlat1) * math.sin(radlat2) + math.cos(radlat1) * math.cos(radlat2) * math.cos(radtheta);\n",
    "        if (dist > 1) :\n",
    "            dist = 1;\n",
    "        \n",
    "        dist = math.acos(dist);\n",
    "        dist = dist * 180/math.pi;\n",
    "        dist = dist * 60 * 1.1515;\n",
    "        if unit==\"K\": dist = dist * 1.609344 \n",
    "        if unit==\"N\": dist = dist * 0.8684 \n",
    "        return dist;\n",
    "\n",
    "gs = geo_shift([37.40, 55.7], 3000)\n",
    "print ( '%s,%s\\n%s,%s' % tuple(gs[2:]))\n",
    "    \n",
    "f_distance(55.1,37.20, 55.2,37.3,\"K\")"
   ]
  },
  {
   "cell_type": "code",
   "execution_count": 487,
   "metadata": {},
   "outputs": [
    {
     "name": "stdout",
     "output_type": "stream",
     "text": [
      "*** Start at: 10:56:26 ₂₀₂₂₋₀₄₋₁₂  ************************************************************\n",
      "0:00:00.000 ₀╷₀₀╷₀₀.₀₀₀ >>>\n"
     ]
    }
   ],
   "source": [
    "# 2022-04-08 POI to local PG\n",
    "\n",
    "def db_sql(sqls):\n",
    "    conn = psycopg2.connect(connection_string)\n",
    "\n",
    "    conn.set_isolation_level(ISOLATION_LEVEL_AUTOCOMMIT);\n",
    "\n",
    "    print(\"Database opened successfully\")\n",
    "    curs = conn.cursor();\n",
    "\n",
    "     #drop_database, create_database, \n",
    "\n",
    "\n",
    "    for sql in sqls:\n",
    "        try:\n",
    "            curs.execute(sql)\n",
    "            # NB : you won't get an IntegrityError when reading\n",
    "        except Exception as ex:\n",
    "            print(ex, sql)\n",
    "            \n",
    "    tm('init db')\n",
    "\n",
    "\n",
    "    conn.close()\n",
    "    \n",
    "sql_database_info =  '''select t1.datname AS db_name,  \n",
    "                    pg_size_pretty(pg_database_size(t1.datname)) as db_size\n",
    "                    from pg_database t1\n",
    "                    order by pg_database_size(t1.datname) desc;'''\n",
    "\n",
    "\n",
    "create_poi_table = '''DROP TABLE IF EXISTS POI; CREATE TABLE POI (\n",
    "    ID  varchar(255) PRIMARY KEY,\n",
    "    CATEGORY varchar(32),\n",
    "    SUBCATEGORY varchar(32),\n",
    "    MAME varchar(128),\n",
    "    LON varchar(32),\n",
    "    LAT varchar(32),\n",
    "    LON_F float,\n",
    "    LAT_F float,\n",
    "    LON_I int,\n",
    "    LAT_I int\n",
    ");'''\n",
    "\n",
    "create_route_table = '''DROP TABLE IF EXISTS ROUTE; CREATE TABLE ROUTE (\n",
    "    ID  varchar(255) PRIMARY KEY,\n",
    "    ROUTE_NAME varchar(255),\n",
    "    UNIXTIME varchar(255),\n",
    "    LON varchar(255),\n",
    "    LAT varchar(255),\n",
    "    iso_time varchar(64),\n",
    "    FUEL float,\n",
    "    SPEED int\n",
    ");'''    \n",
    "    \n",
    "\n",
    "sqls = [create_route_table]    \n",
    "\n",
    "tm()\n",
    "db_sql(sqls)\n",
    "tm('>>>')"
   ]
  },
  {
   "cell_type": "code",
   "execution_count": null,
   "metadata": {},
   "outputs": [
    {
     "name": "stdout",
     "output_type": "stream",
     "text": [
      "*** Start at: 23:06:19 ₂₀₂₂₋₀₄₋₁₄  ************************************************************\n",
      "0:00:09.585 ₀╷₀₀╷₀₉.₅₈₅ ['1. read poi', id             1166350\n",
      "name           1166350\n",
      "category       1166350\n",
      "subcategory    1166350\n",
      "lng            1166350\n",
      "lat            1166350\n",
      "dtype: int64]\n",
      "0:00:00.002 ₀╷₀₀╷₀₉.₅₈₇ 2. start insert\n"
     ]
    }
   ],
   "source": [
    "\n",
    "# 2022-04-08  read_csv to_sql from file by chunk *******************\n",
    "\n",
    "\n",
    "from sqlalchemy import create_engine\n",
    "\n",
    "cols = ['Unnamed: 0', 'ID', 'NAME', 'CATEGORY', 'SUBCATEGORY', 'LON', 'LAT',\n",
    "       'SRID', 'WKT', 'INTERNATIONAL_NAME', 'STREET', 'WIKIPEDIA', 'PHONE',\n",
    "       'CITY', 'EMAIL', 'ALTERNATIVE_NAME', 'OPENING_HOURS', 'DESCRIPTION',\n",
    "       'WEBSITE', 'LAST_UPDATE', 'OPERATOR', 'POSTCODE', 'COUNTRY', 'FAX',\n",
    "       'IMAGE', 'HOUSENUMBER', 'OTHER_TAGS']\n",
    "\n",
    "tm()\n",
    "\n",
    "fname = r'C:\\_dev\\jupyter_notebook\\jnlab\\prj\\poi\\2021-12-18\\russia_poi\\russia_poi.csv'\n",
    "\n",
    "columns = { 'ID':'id',\n",
    "            'NAME':'name',\n",
    "            'CATEGORY':'category',\n",
    "            'SUBCATEGORY':'subcategory',\n",
    "            'LON':'lng',\n",
    "            'LAT':'lat'\n",
    "          }\n",
    "\n",
    "# usecols=columns, \n",
    "\n",
    "df = pd.read_csv(fname, sep='|', usecols=columns.keys(),  nrows = 10000000 )\n",
    "\n",
    "dfr['osm poi'] = df = df.rename(columns=columns)\n",
    "\n",
    "tm(['1. read poi', df.count()])\n",
    "\n",
    "\n",
    "engine = create_engine()\n",
    "\n",
    "dflap = pd.DataFrame(columns=['chunk','t','lap'])\n",
    "\n",
    "\n",
    "tm('2. start insert')\n",
    "\n",
    "for lap in range(0,1):\n",
    "    dflist = []\n",
    "    \n",
    "    for chs in range(10,11):\n",
    "        start_lap = time.time()\n",
    "        df.to_sql(\"poi\", engine, if_exists='replace', chunksize = 2**chs)\n",
    "        tm(['3. end insert', chs])\n",
    "        delt_lap = time.time() - start_lap \n",
    "        dflap.loc[len(dflap)] = [chs,delt_lap,lap]\n",
    "    \n",
    "    df_out = (dflap.pivot_table(index=['chunk'], columns='lap', values='t')\n",
    "                .rename_axis(columns=None)\n",
    "             ).reset_index()\n",
    "\n",
    "\n",
    "    df_out.loc[:, df_out.columns != 'chunk'].plot(figsize=(10,7))\n",
    "    plt.show()\n",
    "\n",
    "tm('3. insert finished')\n",
    "\n",
    "\n",
    "ix_poi_lat = '''CREATE INDEX ix_poi_lat\n",
    "    ON public.poi USING btree\n",
    "    (lat ASC NULLS LAST)\n",
    "    TABLESPACE pg_default;'''\n",
    "\n",
    "ix_poi_lng = '''CREATE INDEX ix_poi_lng\n",
    "    ON public.poi USING btree\n",
    "    (lng ASC NULLS LAST)\n",
    "    TABLESPACE pg_default;'''\n",
    "\n",
    "db_sql([ix_poi_lat,ix_poi_lng])\n",
    "    \n",
    "    \n",
    "tm('>>>')\n",
    "\n"
   ]
  }
 ],
 "metadata": {
  "kernelspec": {
   "display_name": "Python 3",
   "language": "python",
   "name": "python3"
  },
  "language_info": {
   "codemirror_mode": {
    "name": "ipython",
    "version": 3
   },
   "file_extension": ".py",
   "mimetype": "text/x-python",
   "name": "python",
   "nbconvert_exporter": "python",
   "pygments_lexer": "ipython3",
   "version": "3.8.5"
  }
 },
 "nbformat": 4,
 "nbformat_minor": 4
}
