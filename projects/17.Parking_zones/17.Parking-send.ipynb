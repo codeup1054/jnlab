{
 "cells": [
  {
   "cell_type": "code",
   "execution_count": 13,
   "metadata": {},
   "outputs": [
    {
     "name": "stdout",
     "output_type": "stream",
     "text": [
      "0:00:00.001 ₀╷₀₀╷₀₀.₀₀₁ init()\n"
     ]
    },
    {
     "data": {
      "text/html": [
       "<table border=\"1\" class=\"dataframe\">\n",
       "  <thead>\n",
       "    <tr style=\"text-align: right;\">\n",
       "      <th></th>\n",
       "      <th>1</th>\n",
       "      <th>2</th>\n",
       "      <th>3</th>\n",
       "      <th>4</th>\n",
       "      <th>5</th>\n",
       "      <th>6</th>\n",
       "      <th>7</th>\n",
       "      <th>8</th>\n",
       "      <th>9</th>\n",
       "      <th>10</th>\n",
       "    </tr>\n",
       "  </thead>\n",
       "  <tbody>\n",
       "    <tr>\n",
       "      <th>0</th>\n",
       "      <td>HTML</td>\n",
       "      <td>Path</td>\n",
       "      <td>Struct</td>\n",
       "      <td>__builtins__</td>\n",
       "      <td>__cached__</td>\n",
       "      <td>__doc__</td>\n",
       "      <td>__file__</td>\n",
       "      <td>__loader__</td>\n",
       "      <td>__name__</td>\n",
       "      <td>__package__</td>\n",
       "    </tr>\n",
       "    <tr>\n",
       "      <th>1</th>\n",
       "      <td>__spec__</td>\n",
       "      <td>_log</td>\n",
       "      <td>_o</td>\n",
       "      <td>adds</td>\n",
       "      <td>datetime</td>\n",
       "      <td>df_info</td>\n",
       "      <td>dfr</td>\n",
       "      <td>disp</td>\n",
       "      <td>display</td>\n",
       "      <td>draw_l</td>\n",
       "    </tr>\n",
       "    <tr>\n",
       "      <th>2</th>\n",
       "      <td>glob</td>\n",
       "      <td>gmtime</td>\n",
       "      <td>grpp</td>\n",
       "      <td>ii</td>\n",
       "      <td>init</td>\n",
       "      <td>isfile</td>\n",
       "      <td>join</td>\n",
       "      <td>l</td>\n",
       "      <td>listdir</td>\n",
       "      <td>math</td>\n",
       "    </tr>\n",
       "    <tr>\n",
       "      <th>3</th>\n",
       "      <td>merge_OKVED</td>\n",
       "      <td>np</td>\n",
       "      <td>os</td>\n",
       "      <td>pd</td>\n",
       "      <td>read_rmsp</td>\n",
       "      <td>reload</td>\n",
       "      <td>requests</td>\n",
       "      <td>shutil</td>\n",
       "      <td>sizeof_fmt</td>\n",
       "      <td>start</td>\n",
       "    </tr>\n",
       "    <tr>\n",
       "      <th>4</th>\n",
       "      <td>strftime</td>\n",
       "      <td>time</td>\n",
       "      <td>tm</td>\n",
       "      <td>tmpxls</td>\n",
       "      <td>xl_rowcol_to_cell</td>\n",
       "      <td>xlspcl</td>\n",
       "      <td>zipfile</td>\n",
       "      <td>-</td>\n",
       "      <td>-</td>\n",
       "      <td>-</td>\n",
       "    </tr>\n",
       "  </tbody>\n",
       "</table>"
      ],
      "text/plain": [
       "<IPython.core.display.HTML object>"
      ]
     },
     "metadata": {},
     "output_type": "display_data"
    },
    {
     "data": {
      "text/html": [
       "<style type=\"text/css\">\n",
       "</style>\n",
       "<table id=\"T_5f3ae_\">\n",
       "  <thead>\n",
       "    <tr>\n",
       "      <th class=\"blank level0\" >&nbsp;</th>\n",
       "      <th class=\"col_heading level0 col0\" >name</th>\n",
       "      <th class=\"col_heading level0 col1\" >rows</th>\n",
       "      <th class=\"col_heading level0 col2\" >cols</th>\n",
       "      <th class=\"col_heading level0 col3\" >memory</th>\n",
       "      <th class=\"col_heading level0 col4\" >keys</th>\n",
       "    </tr>\n",
       "  </thead>\n",
       "  <tbody>\n",
       "  </tbody>\n",
       "</table>\n"
      ],
      "text/plain": [
       "<pandas.io.formats.style.Styler at 0x209a7d1cc10>"
      ]
     },
     "metadata": {},
     "output_type": "display_data"
    }
   ],
   "source": [
    "#+++ версия 2020.09.21 инициализация посредством global init()\n",
    "from importlib import reload\n",
    "import sys\n",
    "\n",
    "\n",
    "if 'adds' in sys.modules.keys():     # from adds import * # import adds functions\n",
    "    del sys.modules['adds'];    \n",
    "\n",
    "\n",
    "if 'creds' in sys.modules.keys(): \n",
    "    del sys.modules['creds']\n",
    "\n",
    "sys.path.append(\"settings/\")\n",
    "import  creds\n",
    "# print(creds.pg_creds)    \n",
    "from  adds import *\n",
    "init()\n",
    "\n",
    "\n",
    "ii(dfr,1)"
   ]
  },
  {
   "cell_type": "code",
   "execution_count": 398,
   "metadata": {},
   "outputs": [
    {
     "name": "stdout",
     "output_type": "stream",
     "text": [
      " [x] Sent \"{'carNumber': 'A999MM000', 'lat': 58.556686, 'lon': 31.27049, 'hdop': 0, 'speed': 0, 'engine': 1, 'createdAt': 1637045982}\"\n"
     ]
    }
   ],
   "source": [
    "# 2022-04-22 !/usr/bin/env python\n",
    "# https://www.rabbitmq.com/tutorials/tutorial-three-python.html\n",
    "# https://www.youtube.com/watch?v=V9DWKbalbWQ\n",
    "\n",
    "import pika\n",
    "import sys\n",
    "\n",
    "host = 'http://178.154.210.28:5671'\n",
    "\n",
    "\n",
    "connection = pika.BlockingConnection(\n",
    "    pika.ConnectionParameters(host='localhost'))\n",
    "channel = connection.channel()\n",
    "\n",
    "channel.exchange_declare(exchange='logs', exchange_type='fanout')\n",
    "\n",
    "message = ' '.join(sys.argv[1:]) or \"info: Hello World!\"\n",
    "message = {\n",
    "\"carNumber\":\"A999MM000\",\n",
    "\"lat\": 58.556686,\n",
    "\"lon\": 31.27049,\n",
    "\"hdop\":0,\n",
    "\"speed\":0,\n",
    "\"engine\": 1,\n",
    "\"createdAt\": 1637045982\n",
    "}\n",
    "\n",
    "message = str(message)\n",
    "\n",
    "channel.basic_publish(exchange='logs', routing_key='', body=message)\n",
    "print(\" [x] Sent %r\" % str(message))\n",
    "connection.close()"
   ]
  },
  {
   "cell_type": "code",
   "execution_count": 58,
   "metadata": {},
   "outputs": [
    {
     "name": "stdout",
     "output_type": "stream",
     "text": [
      " [x] Sent {'carNumber': 'A999MM000', 'lat': 58.556686, 'lon': 31.27049, 'hdop': 0, 'speed': 0, 'engine': 1, 'clear': 0, 'delay': 0.2, 'i': 0, 'createdAt': 1651071252.2143438}\n",
      " [x] Sent {'carNumber': 'A999MM000', 'lat': 58.556686, 'lon': 31.27049, 'hdop': 0, 'speed': 0, 'engine': 1, 'clear': 0, 'delay': 0.2, 'i': 1, 'createdAt': 1651071252.431487}\n",
      " [x] Sent {'carNumber': 'A999MM000', 'lat': 58.556686, 'lon': 31.27049, 'hdop': 0, 'speed': 0, 'engine': 1, 'clear': 0, 'delay': 0.2, 'i': 2, 'createdAt': 1651071252.6468172}\n",
      " [x] Sent {'carNumber': 'A999MM000', 'lat': 58.556686, 'lon': 31.27049, 'hdop': 0, 'speed': 0, 'engine': 1, 'clear': 0, 'delay': 0.2, 'i': 3, 'createdAt': 1651071252.864036}\n",
      " [x] Sent {'carNumber': 'A999MM000', 'lat': 58.556686, 'lon': 31.27049, 'hdop': 0, 'speed': 0, 'engine': 1, 'clear': 0, 'delay': 0.2, 'i': 4, 'createdAt': 1651071253.0703404}\n",
      " [x] Sent {'carNumber': 'A999MM000', 'lat': 58.556686, 'lon': 31.27049, 'hdop': 0, 'speed': 0, 'engine': 1, 'clear': 0, 'delay': 0.2, 'i': 5, 'createdAt': 1651071253.2879336}\n",
      " [x] Sent {'carNumber': 'A999MM000', 'lat': 58.556686, 'lon': 31.27049, 'hdop': 0, 'speed': 0, 'engine': 1, 'clear': 0, 'delay': 0.2, 'i': 6, 'createdAt': 1651071253.4938548}\n",
      " [x] Sent {'carNumber': 'A999MM000', 'lat': 58.556686, 'lon': 31.27049, 'hdop': 0, 'speed': 0, 'engine': 1, 'clear': 0, 'delay': 0.2, 'i': 7, 'createdAt': 1651071253.7097683}\n",
      " [x] Sent {'carNumber': 'A999MM000', 'lat': 58.556686, 'lon': 31.27049, 'hdop': 0, 'speed': 0, 'engine': 1, 'clear': 0, 'delay': 0.2, 'i': 8, 'createdAt': 1651071253.9135544}\n",
      " [x] Sent {'carNumber': 'A999MM000', 'lat': 58.556686, 'lon': 31.27049, 'hdop': 0, 'speed': 0, 'engine': 1, 'clear': 0, 'delay': 0.2, 'i': 9, 'createdAt': 1651071254.1173317}\n"
     ]
    }
   ],
   "source": [
    "#!/usr/bin/env python\n",
    "import pika\n",
    "import sys\n",
    "import time\n",
    "\n",
    "connection = pika.BlockingConnection(\n",
    "    pika.ConnectionParameters(host='localhost'))\n",
    "channel = connection.channel()\n",
    "\n",
    "channel.exchange_declare(exchange='mta_trace', exchange_type='fanout')\n",
    "\n",
    "\n",
    "delay = 0.2\n",
    "\n",
    "for i in range(0,10):\n",
    "    \n",
    "    time.sleep(delay)\n",
    "    \n",
    "    message = {\n",
    "    \"carNumber\":\"A999MM000\",\n",
    "    \"lat\": 58.556686,\n",
    "    \"lon\": 31.27049,\n",
    "    \"hdop\":0,\n",
    "    \"speed\":0,\n",
    "    \"engine\": 1,\n",
    "    \"clear\" : 0,\n",
    "    \"delay\": delay,\n",
    "    \"i\":i,\n",
    "    \"createdAt\": time.time()\n",
    "    }\n",
    "\n",
    "\n",
    "    channel.basic_publish(exchange='mta_trace', routing_key='', body=json.dumps(message))\n",
    "    print(\" [x] Sent %r\" % message)\n",
    "connection.close()"
   ]
  },
  {
   "cell_type": "code",
   "execution_count": 46,
   "metadata": {},
   "outputs": [
    {
     "data": {
      "text/plain": [
       "('A999MM000,58.556686,31.27049,0,0,1,0,1,2,1650996513.7510145',\n",
       " 'carNumber,lat,lon,hdop,speed,engine,clear,delay,i,createdAt')"
      ]
     },
     "execution_count": 46,
     "metadata": {},
     "output_type": "execute_result"
    }
   ],
   "source": [
    "\",\".join([str(k) for i,k in message.items()]),\",\".join([str(i) for i,k in message.items()])"
   ]
  }
 ],
 "metadata": {
  "kernelspec": {
   "display_name": "Python 3 (ipykernel)",
   "language": "python",
   "name": "python3"
  },
  "language_info": {
   "codemirror_mode": {
    "name": "ipython",
    "version": 3
   },
   "file_extension": ".py",
   "mimetype": "text/x-python",
   "name": "python",
   "nbconvert_exporter": "python",
   "pygments_lexer": "ipython3",
   "version": "3.9.1"
  }
 },
 "nbformat": 4,
 "nbformat_minor": 4
}
