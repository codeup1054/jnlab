{
 "cells": [
  {
   "cell_type": "code",
   "execution_count": 429,
   "metadata": {},
   "outputs": [
    {
     "name": "stdout",
     "output_type": "stream",
     "text": [
      "0:00:00.001 ₀╷₀₀╷₀₀.₀₀₁ init()\n"
     ]
    },
    {
     "data": {
      "text/html": [
       "<table border=\"1\" class=\"dataframe\">\n",
       "  <thead>\n",
       "    <tr style=\"text-align: right;\">\n",
       "      <th></th>\n",
       "      <th>1</th>\n",
       "      <th>2</th>\n",
       "      <th>3</th>\n",
       "      <th>4</th>\n",
       "      <th>5</th>\n",
       "      <th>6</th>\n",
       "      <th>7</th>\n",
       "      <th>8</th>\n",
       "      <th>9</th>\n",
       "      <th>10</th>\n",
       "    </tr>\n",
       "  </thead>\n",
       "  <tbody>\n",
       "    <tr>\n",
       "      <th>0</th>\n",
       "      <td>HTML</td>\n",
       "      <td>Path</td>\n",
       "      <td>Struct</td>\n",
       "      <td>__builtins__</td>\n",
       "      <td>__cached__</td>\n",
       "      <td>__doc__</td>\n",
       "      <td>__file__</td>\n",
       "      <td>__loader__</td>\n",
       "      <td>__name__</td>\n",
       "      <td>__package__</td>\n",
       "    </tr>\n",
       "    <tr>\n",
       "      <th>1</th>\n",
       "      <td>__spec__</td>\n",
       "      <td>_log</td>\n",
       "      <td>_o</td>\n",
       "      <td>adds</td>\n",
       "      <td>datetime</td>\n",
       "      <td>df_info</td>\n",
       "      <td>dfr</td>\n",
       "      <td>disp</td>\n",
       "      <td>display</td>\n",
       "      <td>draw_l</td>\n",
       "    </tr>\n",
       "    <tr>\n",
       "      <th>2</th>\n",
       "      <td>glob</td>\n",
       "      <td>gmtime</td>\n",
       "      <td>grpp</td>\n",
       "      <td>ii</td>\n",
       "      <td>init</td>\n",
       "      <td>isfile</td>\n",
       "      <td>join</td>\n",
       "      <td>l</td>\n",
       "      <td>listdir</td>\n",
       "      <td>math</td>\n",
       "    </tr>\n",
       "    <tr>\n",
       "      <th>3</th>\n",
       "      <td>merge_OKVED</td>\n",
       "      <td>np</td>\n",
       "      <td>os</td>\n",
       "      <td>pd</td>\n",
       "      <td>read_rmsp</td>\n",
       "      <td>reload</td>\n",
       "      <td>requests</td>\n",
       "      <td>shutil</td>\n",
       "      <td>sizeof_fmt</td>\n",
       "      <td>start</td>\n",
       "    </tr>\n",
       "    <tr>\n",
       "      <th>4</th>\n",
       "      <td>strftime</td>\n",
       "      <td>time</td>\n",
       "      <td>tm</td>\n",
       "      <td>tmpxls</td>\n",
       "      <td>xl_rowcol_to_cell</td>\n",
       "      <td>xlspcl</td>\n",
       "      <td>zipfile</td>\n",
       "      <td>-</td>\n",
       "      <td>-</td>\n",
       "      <td>-</td>\n",
       "    </tr>\n",
       "  </tbody>\n",
       "</table>"
      ],
      "text/plain": [
       "<IPython.core.display.HTML object>"
      ]
     },
     "metadata": {},
     "output_type": "display_data"
    },
    {
     "data": {
      "text/html": [
       "<style type=\"text/css\">\n",
       "</style>\n",
       "<table id=\"T_0882e_\">\n",
       "  <thead>\n",
       "    <tr>\n",
       "      <th class=\"blank level0\" >&nbsp;</th>\n",
       "      <th class=\"col_heading level0 col0\" >name</th>\n",
       "      <th class=\"col_heading level0 col1\" >rows</th>\n",
       "      <th class=\"col_heading level0 col2\" >cols</th>\n",
       "      <th class=\"col_heading level0 col3\" >memory</th>\n",
       "      <th class=\"col_heading level0 col4\" >keys</th>\n",
       "    </tr>\n",
       "  </thead>\n",
       "  <tbody>\n",
       "  </tbody>\n",
       "</table>\n"
      ],
      "text/plain": [
       "<pandas.io.formats.style.Styler at 0x266e022fbe0>"
      ]
     },
     "metadata": {},
     "output_type": "display_data"
    }
   ],
   "source": [
    "#+++ версия 2020.09.21 инициализация посредством global init()\n",
    "from importlib import reload\n",
    "\n",
    "if 'adds' in sys.modules.keys(): \n",
    "    del sys.modules['adds'];\n",
    "    import adds\n",
    "\n",
    "from adds import * # import adds functions\n",
    "\n",
    "init()\n",
    "\n",
    "import sys; \n",
    "\n",
    "sys.path.append(\"settings/\")\n",
    "\n",
    "if 'creds' in sys.modules.keys(): del sys.modules['creds'];\n",
    "\n",
    "    \n",
    "import  creds\n",
    "\n",
    "# print(creds.pg_creds)\n",
    "\n",
    "ii(dfr,1)"
   ]
  },
  {
   "cell_type": "code",
   "execution_count": 584,
   "metadata": {},
   "outputs": [
    {
     "data": {
      "text/plain": [
       "[1, 10, 100, 1000, 10000, 100000]"
      ]
     },
     "execution_count": 584,
     "metadata": {},
     "output_type": "execute_result"
    }
   ],
   "source": [
    "[10**c for c in [0,1,2,3,4,5] ]"
   ]
  },
  {
   "cell_type": "code",
   "execution_count": null,
   "metadata": {
    "tags": []
   },
   "outputs": [
    {
     "name": "stdout",
     "output_type": "stream",
     "text": [
      " [*] Waiting for logs. To exit press CTRL+C\n",
      "0:01:58.980 ₅╷₁₄╷₂₀.₉₈₁ [1, 1650998025.1618328, 64]\n",
      "0:00:00.203 ₅╷₁₄╷₂₁.₁₈₄ [2, 1650998025.3650038, 128]\n",
      "0:00:00.218 ₅╷₁₄╷₂₁.₄₀₅ [3, 1650998025.584188, 0]\n",
      "0:00:00.196 ₅╷₁₄╷₂₁.₆₀₅ [4, 1650998025.7866971, 64]\n",
      "0:00:00.203 ₅╷₁₄╷₂₁.₈₀₈ [5, 1650998025.990304, 128]\n",
      "0:00:00.208 ₅╷₁₄╷₂₂.₀₁₇ [6, 1650998026.1967602, 0]\n",
      "0:00:00.208 ₅╷₁₄╷₂₂.₂₂₅ [7, 1650998026.4069526, 63]\n",
      "0:00:00.206 ₅╷₁₄╷₂₂.₄₃₄ [8, 1650998026.6163507, 127]\n",
      "0:00:00.203 ₅╷₁₄╷₂₂.₆₃₉ [9, 1650998026.8187687, 0]\n",
      "0:00:00.217 ₅╷₁₄╷₂₂.₈₅₆ [10, 1650998027.0382068, 65]\n",
      "0:00:58.113 ₅╷₁₅╷₂₀.₉₇₀ [11, 1650998085.1519659, 129]\n",
      "0:00:00.246 ₅╷₁₅╷₂₁.₂₁₈ [12, 1650998085.3667371, 0]\n",
      "0:00:00.183 ₅╷₁₅╷₂₁.₄₀₂ [13, 1650998085.5838544, 65]\n",
      "0:00:00.202 ₅╷₁₅╷₂₁.₆₀₅ [14, 1650998085.7869, 130]\n",
      "0:00:00.203 ₅╷₁₅╷₂₁.₈₀₉ [15, 1650998085.9888327, 0]\n",
      "0:00:00.200 ₅╷₁₅╷₂₂.₀₁₁ [16, 1650998086.1934512, 63]\n",
      "0:00:00.204 ₅╷₁₅╷₂₂.₂₁₆ [17, 1650998086.3968477, 128]\n",
      "0:00:00.301 ₅╷₁₅╷₂₂.₅₁₇ [18, 1650998086.6158164, 0]\n",
      "0:00:00.120 ₅╷₁₅╷₂₂.₆₄₀ [19, 1650998086.8222425, 65]\n",
      "0:00:00.214 ₅╷₁₅╷₂₂.₈₅₅ [20, 1650998087.0372896, 130]\n"
     ]
    }
   ],
   "source": [
    "#2022-04-26\n",
    "import pika\n",
    "from IPython.display import clear_output\n",
    "\n",
    "connection = pika.BlockingConnection(\n",
    "    pika.ConnectionParameters(host='localhost'))\n",
    "channel = connection.channel()\n",
    "\n",
    "channel.exchange_declare(exchange='mta_trace', exchange_type='fanout')\n",
    "result = channel.queue_declare(queue='', exclusive=True)\n",
    "queue_name = result.method.queue\n",
    "\n",
    "\n",
    "channel.queue_bind(exchange='mta_trace', queue=queue_name)\n",
    "\n",
    "print(' [*] Waiting for logs. To exit press CTRL+C')\n",
    "\n",
    "global laps, vlin, rows\n",
    "rows = \"\"\n",
    "global cnt, chunk\n",
    "cnt = 0\n",
    "chunk = 3\n",
    "\n",
    "\n",
    "def callback(ch, method, properties, body):\n",
    "    \n",
    "    global laps, vlin, chng, old_delay,plot_lap, rows, cnt\n",
    "    \n",
    "    cnt+=1\n",
    "    \n",
    "    lap = time.time()\n",
    "    dj = json.loads(body)\n",
    "    \n",
    "    dj['cnt'] = cnt\n",
    "    \n",
    "    rows = rows + \"\\n\" + \",\".join([str(k) for i,k in dj.items()])\n",
    "    tm ([cnt, lap, len(rows)])\n",
    "\n",
    "    \n",
    "    if (cnt%chunk == 0 ): \n",
    "#         clear_output(wait=True)\n",
    "        \n",
    "        with open('rabbit.txt', 'a') as file:\n",
    "            file.write(rows)\n",
    "            \n",
    "        rows=\"\"\n",
    "        \n",
    "\n",
    "    \n",
    "    if (dj['clear'] == 1 ): \n",
    "        laps = []\n",
    "\n",
    "\n",
    "\n",
    "channel.basic_consume(\n",
    "    queue=queue_name, on_message_callback=callback, auto_ack=True)\n",
    "\n",
    "channel.start_consuming()\n"
   ]
  },
  {
   "cell_type": "code",
   "execution_count": 924,
   "metadata": {},
   "outputs": [
    {
     "data": {
      "text/plain": [
       "[600, 450, 380, 200, 150, 80, 40]"
      ]
     },
     "execution_count": 924,
     "metadata": {},
     "output_type": "execute_result"
    }
   ],
   "source": [
    "[40, 80, 150, 200, 380, 450, 600][::-1]"
   ]
  }
 ],
 "metadata": {
  "kernelspec": {
   "display_name": "Python 3 (ipykernel)",
   "language": "python",
   "name": "python3"
  },
  "language_info": {
   "codemirror_mode": {
    "name": "ipython",
    "version": 3
   },
   "file_extension": ".py",
   "mimetype": "text/x-python",
   "name": "python",
   "nbconvert_exporter": "python",
   "pygments_lexer": "ipython3",
   "version": "3.9.1"
  }
 },
 "nbformat": 4,
 "nbformat_minor": 4
}
