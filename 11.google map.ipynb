{
 "cells": [
  {
   "cell_type": "code",
   "execution_count": 4,
   "metadata": {},
   "outputs": [
    {
     "name": "stdout",
     "output_type": "stream",
     "text": [
      "[  0.00   ₀.₀]19:21:31 ₂₀₂₁₋₁₂₋₀₁  init()\n"
     ]
    },
    {
     "data": {
      "text/html": [
       "<table border=\"1\" class=\"dataframe\">\n",
       "  <thead>\n",
       "    <tr style=\"text-align: right;\">\n",
       "      <th></th>\n",
       "      <th>1</th>\n",
       "      <th>2</th>\n",
       "      <th>3</th>\n",
       "      <th>4</th>\n",
       "      <th>5</th>\n",
       "      <th>6</th>\n",
       "      <th>7</th>\n",
       "      <th>8</th>\n",
       "      <th>9</th>\n",
       "      <th>10</th>\n",
       "    </tr>\n",
       "  </thead>\n",
       "  <tbody>\n",
       "    <tr>\n",
       "      <th>0</th>\n",
       "      <td>HTML</td>\n",
       "      <td>Path</td>\n",
       "      <td>__builtins__</td>\n",
       "      <td>__cached__</td>\n",
       "      <td>__doc__</td>\n",
       "      <td>__file__</td>\n",
       "      <td>__loader__</td>\n",
       "      <td>__name__</td>\n",
       "      <td>__package__</td>\n",
       "      <td>__spec__</td>\n",
       "    </tr>\n",
       "    <tr>\n",
       "      <th>1</th>\n",
       "      <td>_log</td>\n",
       "      <td>_o</td>\n",
       "      <td>adds</td>\n",
       "      <td>datetime</td>\n",
       "      <td>df_info</td>\n",
       "      <td>dfr</td>\n",
       "      <td>disp</td>\n",
       "      <td>display</td>\n",
       "      <td>glob</td>\n",
       "      <td>gmtime</td>\n",
       "    </tr>\n",
       "    <tr>\n",
       "      <th>2</th>\n",
       "      <td>grpp</td>\n",
       "      <td>ii</td>\n",
       "      <td>init</td>\n",
       "      <td>isfile</td>\n",
       "      <td>join</td>\n",
       "      <td>l</td>\n",
       "      <td>listdir</td>\n",
       "      <td>math</td>\n",
       "      <td>merge_OKVED</td>\n",
       "      <td>np</td>\n",
       "    </tr>\n",
       "    <tr>\n",
       "      <th>3</th>\n",
       "      <td>os</td>\n",
       "      <td>pd</td>\n",
       "      <td>read_rmsp</td>\n",
       "      <td>reload</td>\n",
       "      <td>requests</td>\n",
       "      <td>shutil</td>\n",
       "      <td>sizeof_fmt</td>\n",
       "      <td>start</td>\n",
       "      <td>strftime</td>\n",
       "      <td>time</td>\n",
       "    </tr>\n",
       "    <tr>\n",
       "      <th>4</th>\n",
       "      <td>tm</td>\n",
       "      <td>tmpxls</td>\n",
       "      <td>xl_rowcol_to_cell</td>\n",
       "      <td>xlspcl</td>\n",
       "      <td>zipfile</td>\n",
       "      <td>-</td>\n",
       "      <td>-</td>\n",
       "      <td>-</td>\n",
       "      <td>-</td>\n",
       "      <td>-</td>\n",
       "    </tr>\n",
       "  </tbody>\n",
       "</table>"
      ],
      "text/plain": [
       "<IPython.core.display.HTML object>"
      ]
     },
     "metadata": {},
     "output_type": "display_data"
    },
    {
     "data": {
      "text/html": [
       "<style type=\"text/css\">\n",
       "</style>\n",
       "<table id=\"T_76327_\">\n",
       "  <thead>\n",
       "    <tr>\n",
       "      <th class=\"blank level0\" >&nbsp;</th>\n",
       "      <th class=\"col_heading level0 col0\" >name</th>\n",
       "      <th class=\"col_heading level0 col1\" >rows</th>\n",
       "      <th class=\"col_heading level0 col2\" >cols</th>\n",
       "      <th class=\"col_heading level0 col3\" >memory</th>\n",
       "      <th class=\"col_heading level0 col4\" >keys</th>\n",
       "    </tr>\n",
       "  </thead>\n",
       "  <tbody>\n",
       "  </tbody>\n",
       "</table>\n"
      ],
      "text/plain": [
       "<pandas.io.formats.style.Styler at 0x238e10ac100>"
      ]
     },
     "metadata": {},
     "output_type": "display_data"
    }
   ],
   "source": [
    "#+++ версия 2020.09.21 инициализация посредством global init()\n",
    "from importlib import reload\n",
    "import adds\n",
    "adds = reload(adds)\n",
    "from adds import * # import adds functions\n",
    "\n",
    "init()\n",
    "\n",
    "ii(dfr)\n",
    "# read_rmsp()"
   ]
  },
  {
   "cell_type": "code",
   "execution_count": 46,
   "metadata": {},
   "outputs": [
    {
     "name": "stdout",
     "output_type": "stream",
     "text": [
      "device_id    3835234\n",
      "unixtime     3835234\n",
      "latitude     3835234\n",
      "longitude    3835234\n",
      "speed        3835234\n",
      "dtype: int64\n",
      "[2521.43₂₆₃₉.₈]20:05:31 ₂₀₂₁₋₁₂₋₀₁  1\n",
      "[  1.77₂₆₄₁.₆]20:05:33 ₂₀₂₁₋₁₂₋₀₁  2\n",
      "[  1.73₂₆₄₃.₃]20:05:34 ₂₀₂₁₋₁₂₋₀₁  3\n",
      "[  1.86₂₆₄₅.₂]20:05:36 ₂₀₂₁₋₁₂₋₀₁  4\n",
      "[  2.00₂₆₄₇.₂]20:05:38 ₂₀₂₁₋₁₂₋₀₁  5\n",
      "[  1.78₂₆₄₉.₀]20:05:40 ₂₀₂₁₋₁₂₋₀₁  6\n",
      "[  1.99₂₆₅₁.₀]20:05:42 ₂₀₂₁₋₁₂₋₀₁  7\n",
      "[  1.72₂₆₅₂.₇]20:05:44 ₂₀₂₁₋₁₂₋₀₁  8\n",
      "[  1.76₂₆₅₄.₄]20:05:45 ₂₀₂₁₋₁₂₋₀₁  9\n",
      "[  1.97₂₆₅₆.₄]20:05:47 ₂₀₂₁₋₁₂₋₀₁  10\n"
     ]
    }
   ],
   "source": [
    "fname = r'C:\\!HML\\03.Services\\04.MTA\\SpeedMap\\speed_week_2185.csv'\n",
    "\n",
    "df =  pd.read_csv(fname, sep=',')\n",
    "\n",
    "print(df.count())\n",
    "\n",
    "dfr['speed'] = df\n",
    "\n",
    "df = df[df['latitude'] != 0]\n",
    "\n",
    "df.count()\n",
    "\n",
    "dfr['split'] = np.array_split(df, 10)\n",
    "\n",
    "[d.count() for d in  dfr['split']]\n",
    "\n",
    "n = 0\n",
    "\n",
    "for d in  dfr['split']:\n",
    "    n+=1\n",
    "    fn = r'C:\\_dev\\gpx_reg\\app\\geodata\\mta-speed\\speed_'+str(n)+'.csv'\n",
    "    tm(n)\n",
    "    d.to_csv(fn)    "
   ]
  },
  {
   "cell_type": "code",
   "execution_count": 47,
   "metadata": {},
   "outputs": [
    {
     "data": {
      "text/plain": [
       "speed\n",
       "(0, 10]             0\n",
       "(10, 90]            0\n",
       "(90, 95]       846941\n",
       "(95, 100]      764023\n",
       "(100, 110]    1194320\n",
       "(110, 120]     730617\n",
       "(120, 124]     193455\n",
       "(124, 125]      38906\n",
       "(125, 126]      35110\n",
       "(126, 127]      31862\n",
       "(127, 150]          0\n",
       "Name: device_id, dtype: int64"
      ]
     },
     "execution_count": 47,
     "metadata": {},
     "output_type": "execute_result"
    }
   ],
   "source": [
    "df = dfr['speed']\n",
    "\n",
    "df['lat'] = df['latitude'].round(4)\n",
    "df['lon'] = df['longitude'].round(4)\n",
    "\n",
    "df.groupby(pd.cut(df['speed'],[0,10,90,95,100,110,120,124,125,126,127,150]))['device_id'].count()"
   ]
  },
  {
   "cell_type": "code",
   "execution_count": 36,
   "metadata": {},
   "outputs": [
    {
     "data": {
      "text/plain": [
       "Index(['device_id', 'unixtime', 'latitude', 'longitude', 'speed', 'lat',\n",
       "       'lon'],\n",
       "      dtype='object')"
      ]
     },
     "execution_count": 36,
     "metadata": {},
     "output_type": "execute_result"
    }
   ],
   "source": [
    "df.keys()"
   ]
  },
  {
   "cell_type": "code",
   "execution_count": 48,
   "metadata": {},
   "outputs": [
    {
     "name": "stdout",
     "output_type": "stream",
     "text": [
      "3835234\n",
      "66972\n",
      "14977\n"
     ]
    }
   ],
   "source": [
    "df = dfr['speed']\n",
    "\n",
    "df['lat'] = df['latitude'].round(3)\n",
    "df['lon'] = df['longitude'].round(3)\n",
    "\n",
    "print (df.shape[0])\n",
    "\n",
    "df = df[df['speed']>125]\n",
    "\n",
    "print (df.shape[0])\n",
    "\n",
    "df = df.drop_duplicates(subset=['lat'])\n",
    "\n",
    "print (df.shape[0])\n",
    "\n",
    "df[['lat','lon','speed']].sample(2000).to_csv(r'C:\\_dev\\gpx_reg\\app\\geodata\\mta-speed\\speed_120.csv')"
   ]
  },
  {
   "cell_type": "code",
   "execution_count": 327,
   "metadata": {},
   "outputs": [
    {
     "name": "stdout",
     "output_type": "stream",
     "text": [
      "*** Start at: 18:47:23 ₂₀₂₁₋₁₁₋₂₆  ************************************************************\n",
      "<class 'pandas.core.frame.DataFrame'>\n",
      "RangeIndex: 687 entries, 0 to 686\n",
      "Data columns (total 17 columns):\n",
      " #   Column    Non-Null Count  Dtype              \n",
      "---  ------    --------------  -----              \n",
      " 0   time      687 non-null    object             \n",
      " 1   p1        687 non-null    int64              \n",
      " 2   p2        687 non-null    int64              \n",
      " 3   p3        687 non-null    int64              \n",
      " 4   p4        687 non-null    int64              \n",
      " 5   p5        687 non-null    int64              \n",
      " 6   p6        687 non-null    int64              \n",
      " 7   p7        687 non-null    int64              \n",
      " 8   p8        687 non-null    int64              \n",
      " 9   p9        687 non-null    int64              \n",
      " 10  p10       687 non-null    int64              \n",
      " 11  p11       687 non-null    int64              \n",
      " 12  p12       687 non-null    int64              \n",
      " 13  p13       684 non-null    float64            \n",
      " 14  p14       638 non-null    float64            \n",
      " 15  p15       0 non-null      float64            \n",
      " 16  datetime  687 non-null    datetime64[ns, UTC]\n",
      "dtypes: datetime64[ns, UTC](1), float64(3), int64(12), object(1)\n",
      "memory usage: 91.4+ KB\n",
      "[  0.03   ₀.₀]18:47:23 ₂₀₂₁₋₁₁₋₂₆  None\n"
     ]
    },
    {
     "data": {
      "text/html": [
       "<div>\n",
       "<style scoped>\n",
       "    .dataframe tbody tr th:only-of-type {\n",
       "        vertical-align: middle;\n",
       "    }\n",
       "\n",
       "    .dataframe tbody tr th {\n",
       "        vertical-align: top;\n",
       "    }\n",
       "\n",
       "    .dataframe thead th {\n",
       "        text-align: right;\n",
       "    }\n",
       "</style>\n",
       "<table border=\"1\" class=\"dataframe\">\n",
       "  <thead>\n",
       "    <tr style=\"text-align: right;\">\n",
       "      <th></th>\n",
       "      <th>time</th>\n",
       "      <th>p1</th>\n",
       "      <th>p2</th>\n",
       "      <th>p3</th>\n",
       "      <th>p4</th>\n",
       "      <th>p5</th>\n",
       "      <th>p6</th>\n",
       "      <th>p7</th>\n",
       "      <th>p8</th>\n",
       "      <th>p9</th>\n",
       "      <th>p10</th>\n",
       "      <th>p11</th>\n",
       "      <th>p12</th>\n",
       "      <th>p13</th>\n",
       "      <th>p14</th>\n",
       "      <th>p15</th>\n",
       "      <th>datetime</th>\n",
       "    </tr>\n",
       "  </thead>\n",
       "  <tbody>\n",
       "    <tr>\n",
       "      <th>0</th>\n",
       "      <td>2021-11-26T11:21:00.165Z</td>\n",
       "      <td>5</td>\n",
       "      <td>9</td>\n",
       "      <td>5</td>\n",
       "      <td>7</td>\n",
       "      <td>12</td>\n",
       "      <td>8</td>\n",
       "      <td>6</td>\n",
       "      <td>6</td>\n",
       "      <td>8</td>\n",
       "      <td>7</td>\n",
       "      <td>6</td>\n",
       "      <td>5</td>\n",
       "      <td>12.0</td>\n",
       "      <td>7.0</td>\n",
       "      <td>NaN</td>\n",
       "      <td>2021-11-26 11:21:00.165000+00:00</td>\n",
       "    </tr>\n",
       "    <tr>\n",
       "      <th>1</th>\n",
       "      <td>2021-11-26T11:21:10.170Z</td>\n",
       "      <td>12</td>\n",
       "      <td>9</td>\n",
       "      <td>8</td>\n",
       "      <td>15</td>\n",
       "      <td>7</td>\n",
       "      <td>7</td>\n",
       "      <td>11</td>\n",
       "      <td>11</td>\n",
       "      <td>7</td>\n",
       "      <td>8</td>\n",
       "      <td>5</td>\n",
       "      <td>5</td>\n",
       "      <td>15.0</td>\n",
       "      <td>9.0</td>\n",
       "      <td>NaN</td>\n",
       "      <td>2021-11-26 11:21:10.170000+00:00</td>\n",
       "    </tr>\n",
       "    <tr>\n",
       "      <th>2</th>\n",
       "      <td>2021-11-26T11:21:20.196Z</td>\n",
       "      <td>7</td>\n",
       "      <td>5</td>\n",
       "      <td>10</td>\n",
       "      <td>8</td>\n",
       "      <td>7</td>\n",
       "      <td>7</td>\n",
       "      <td>8</td>\n",
       "      <td>5</td>\n",
       "      <td>8</td>\n",
       "      <td>21</td>\n",
       "      <td>10</td>\n",
       "      <td>5</td>\n",
       "      <td>21.0</td>\n",
       "      <td>8.0</td>\n",
       "      <td>NaN</td>\n",
       "      <td>2021-11-26 11:21:20.196000+00:00</td>\n",
       "    </tr>\n",
       "  </tbody>\n",
       "</table>\n",
       "</div>"
      ],
      "text/plain": [
       "                       time  p1  p2  p3  p4  p5  p6  p7  p8  p9  p10  p11  \\\n",
       "0  2021-11-26T11:21:00.165Z   5   9   5   7  12   8   6   6   8    7    6   \n",
       "1  2021-11-26T11:21:10.170Z  12   9   8  15   7   7  11  11   7    8    5   \n",
       "2  2021-11-26T11:21:20.196Z   7   5  10   8   7   7   8   5   8   21   10   \n",
       "\n",
       "   p12   p13  p14  p15                         datetime  \n",
       "0    5  12.0  7.0  NaN 2021-11-26 11:21:00.165000+00:00  \n",
       "1    5  15.0  9.0  NaN 2021-11-26 11:21:10.170000+00:00  \n",
       "2    5  21.0  8.0  NaN 2021-11-26 11:21:20.196000+00:00  "
      ]
     },
     "execution_count": 327,
     "metadata": {},
     "output_type": "execute_result"
    }
   ],
   "source": [
    "fpath = r'C:\\_dev\\node_cookie\\ping_result.txt'\n",
    "tm()\n",
    "d = 'ping'\n",
    "\n",
    "names = ['time']+ [\"p\"+str(i) for i in range(1,16)]\n",
    "\n",
    "df =  pd.read_csv(fpath, sep='\\t', header=None ,names=names)\n",
    "\n",
    "df['datetime'] = pd.to_datetime(df['time'])\n",
    "\n",
    "dfr[d] = df\n",
    "\n",
    "tm (df.info())\n",
    "df[:3]"
   ]
  },
  {
   "cell_type": "code",
   "execution_count": 226,
   "metadata": {},
   "outputs": [
    {
     "data": {
      "text/html": [
       "<div>\n",
       "<style scoped>\n",
       "    .dataframe tbody tr th:only-of-type {\n",
       "        vertical-align: middle;\n",
       "    }\n",
       "\n",
       "    .dataframe tbody tr th {\n",
       "        vertical-align: top;\n",
       "    }\n",
       "\n",
       "    .dataframe thead th {\n",
       "        text-align: right;\n",
       "    }\n",
       "</style>\n",
       "<table border=\"1\" class=\"dataframe\">\n",
       "  <thead>\n",
       "    <tr style=\"text-align: right;\">\n",
       "      <th></th>\n",
       "      <th>time</th>\n",
       "      <th>p1</th>\n",
       "      <th>p2</th>\n",
       "      <th>p3</th>\n",
       "      <th>p4</th>\n",
       "      <th>p5</th>\n",
       "      <th>p6</th>\n",
       "      <th>p7</th>\n",
       "      <th>p8</th>\n",
       "      <th>p9</th>\n",
       "      <th>p10</th>\n",
       "      <th>p11</th>\n",
       "      <th>p12</th>\n",
       "      <th>p13</th>\n",
       "      <th>p14</th>\n",
       "      <th>p15</th>\n",
       "    </tr>\n",
       "  </thead>\n",
       "  <tbody>\n",
       "    <tr>\n",
       "      <th>20</th>\n",
       "      <td>2021-11-26T11:24:20.200Z</td>\n",
       "      <td>6</td>\n",
       "      <td>13</td>\n",
       "      <td>11</td>\n",
       "      <td>7</td>\n",
       "      <td>6</td>\n",
       "      <td>10</td>\n",
       "      <td>11</td>\n",
       "      <td>8</td>\n",
       "      <td>7</td>\n",
       "      <td>7</td>\n",
       "      <td>8</td>\n",
       "      <td>6</td>\n",
       "      <td>13.0</td>\n",
       "      <td>8.0</td>\n",
       "      <td>NaN</td>\n",
       "    </tr>\n",
       "    <tr>\n",
       "      <th>21</th>\n",
       "      <td>2021-11-26T11:24:30.156Z</td>\n",
       "      <td>7</td>\n",
       "      <td>7</td>\n",
       "      <td>6</td>\n",
       "      <td>16</td>\n",
       "      <td>9</td>\n",
       "      <td>5</td>\n",
       "      <td>6</td>\n",
       "      <td>7</td>\n",
       "      <td>5</td>\n",
       "      <td>7</td>\n",
       "      <td>6</td>\n",
       "      <td>5</td>\n",
       "      <td>16.0</td>\n",
       "      <td>7.0</td>\n",
       "      <td>NaN</td>\n",
       "    </tr>\n",
       "    <tr>\n",
       "      <th>22</th>\n",
       "      <td>2021-11-26T11:24:40.132Z</td>\n",
       "      <td>8</td>\n",
       "      <td>5</td>\n",
       "      <td>8</td>\n",
       "      <td>16</td>\n",
       "      <td>7</td>\n",
       "      <td>18</td>\n",
       "      <td>15</td>\n",
       "      <td>8</td>\n",
       "      <td>7</td>\n",
       "      <td>6</td>\n",
       "      <td>6</td>\n",
       "      <td>5</td>\n",
       "      <td>18.0</td>\n",
       "      <td>9.0</td>\n",
       "      <td>NaN</td>\n",
       "    </tr>\n",
       "    <tr>\n",
       "      <th>23</th>\n",
       "      <td>2021-11-26T11:24:50.152Z</td>\n",
       "      <td>6</td>\n",
       "      <td>11</td>\n",
       "      <td>25</td>\n",
       "      <td>14</td>\n",
       "      <td>7</td>\n",
       "      <td>6</td>\n",
       "      <td>7</td>\n",
       "      <td>8</td>\n",
       "      <td>6</td>\n",
       "      <td>7</td>\n",
       "      <td>6</td>\n",
       "      <td>6</td>\n",
       "      <td>25.0</td>\n",
       "      <td>9.0</td>\n",
       "      <td>NaN</td>\n",
       "    </tr>\n",
       "    <tr>\n",
       "      <th>24</th>\n",
       "      <td>2021-11-26T11:25:00.147Z</td>\n",
       "      <td>14</td>\n",
       "      <td>6</td>\n",
       "      <td>7</td>\n",
       "      <td>16</td>\n",
       "      <td>13</td>\n",
       "      <td>7</td>\n",
       "      <td>56</td>\n",
       "      <td>6</td>\n",
       "      <td>6</td>\n",
       "      <td>7</td>\n",
       "      <td>7</td>\n",
       "      <td>6</td>\n",
       "      <td>56.0</td>\n",
       "      <td>13.0</td>\n",
       "      <td>NaN</td>\n",
       "    </tr>\n",
       "    <tr>\n",
       "      <th>25</th>\n",
       "      <td>2021-11-26T11:25:10.157Z</td>\n",
       "      <td>10</td>\n",
       "      <td>6</td>\n",
       "      <td>9</td>\n",
       "      <td>12</td>\n",
       "      <td>6</td>\n",
       "      <td>7</td>\n",
       "      <td>6</td>\n",
       "      <td>9</td>\n",
       "      <td>13</td>\n",
       "      <td>7</td>\n",
       "      <td>6</td>\n",
       "      <td>6</td>\n",
       "      <td>13.0</td>\n",
       "      <td>8.0</td>\n",
       "      <td>NaN</td>\n",
       "    </tr>\n",
       "    <tr>\n",
       "      <th>26</th>\n",
       "      <td>2021-11-26T11:25:23.914Z</td>\n",
       "      <td>6</td>\n",
       "      <td>11</td>\n",
       "      <td>6</td>\n",
       "      <td>5</td>\n",
       "      <td>6</td>\n",
       "      <td>7</td>\n",
       "      <td>10</td>\n",
       "      <td>8</td>\n",
       "      <td>10</td>\n",
       "      <td>8</td>\n",
       "      <td>5</td>\n",
       "      <td>11</td>\n",
       "      <td>7.0</td>\n",
       "      <td>NaN</td>\n",
       "      <td>NaN</td>\n",
       "    </tr>\n",
       "    <tr>\n",
       "      <th>27</th>\n",
       "      <td>2021-11-26T11:25:30.141Z</td>\n",
       "      <td>6</td>\n",
       "      <td>6</td>\n",
       "      <td>5</td>\n",
       "      <td>11</td>\n",
       "      <td>8</td>\n",
       "      <td>9</td>\n",
       "      <td>8</td>\n",
       "      <td>6</td>\n",
       "      <td>8</td>\n",
       "      <td>9</td>\n",
       "      <td>7</td>\n",
       "      <td>5</td>\n",
       "      <td>11.0</td>\n",
       "      <td>7.0</td>\n",
       "      <td>NaN</td>\n",
       "    </tr>\n",
       "    <tr>\n",
       "      <th>28</th>\n",
       "      <td>2021-11-26T11:25:40.129Z</td>\n",
       "      <td>6</td>\n",
       "      <td>8</td>\n",
       "      <td>42</td>\n",
       "      <td>57</td>\n",
       "      <td>13</td>\n",
       "      <td>29</td>\n",
       "      <td>10</td>\n",
       "      <td>6</td>\n",
       "      <td>6</td>\n",
       "      <td>6</td>\n",
       "      <td>5</td>\n",
       "      <td>5</td>\n",
       "      <td>57.0</td>\n",
       "      <td>17.0</td>\n",
       "      <td>NaN</td>\n",
       "    </tr>\n",
       "    <tr>\n",
       "      <th>29</th>\n",
       "      <td>2021-11-26T11:25:50.168Z</td>\n",
       "      <td>6</td>\n",
       "      <td>5</td>\n",
       "      <td>7</td>\n",
       "      <td>7</td>\n",
       "      <td>15</td>\n",
       "      <td>7</td>\n",
       "      <td>6</td>\n",
       "      <td>8</td>\n",
       "      <td>5</td>\n",
       "      <td>7</td>\n",
       "      <td>9</td>\n",
       "      <td>5</td>\n",
       "      <td>15.0</td>\n",
       "      <td>7.0</td>\n",
       "      <td>NaN</td>\n",
       "    </tr>\n",
       "  </tbody>\n",
       "</table>\n",
       "</div>"
      ],
      "text/plain": [
       "                        time  p1  p2  p3  p4  p5  p6  p7  p8  p9  p10  p11  \\\n",
       "20  2021-11-26T11:24:20.200Z   6  13  11   7   6  10  11   8   7    7    8   \n",
       "21  2021-11-26T11:24:30.156Z   7   7   6  16   9   5   6   7   5    7    6   \n",
       "22  2021-11-26T11:24:40.132Z   8   5   8  16   7  18  15   8   7    6    6   \n",
       "23  2021-11-26T11:24:50.152Z   6  11  25  14   7   6   7   8   6    7    6   \n",
       "24  2021-11-26T11:25:00.147Z  14   6   7  16  13   7  56   6   6    7    7   \n",
       "25  2021-11-26T11:25:10.157Z  10   6   9  12   6   7   6   9  13    7    6   \n",
       "26  2021-11-26T11:25:23.914Z   6  11   6   5   6   7  10   8  10    8    5   \n",
       "27  2021-11-26T11:25:30.141Z   6   6   5  11   8   9   8   6   8    9    7   \n",
       "28  2021-11-26T11:25:40.129Z   6   8  42  57  13  29  10   6   6    6    5   \n",
       "29  2021-11-26T11:25:50.168Z   6   5   7   7  15   7   6   8   5    7    9   \n",
       "\n",
       "    p12   p13   p14  p15  \n",
       "20    6  13.0   8.0  NaN  \n",
       "21    5  16.0   7.0  NaN  \n",
       "22    5  18.0   9.0  NaN  \n",
       "23    6  25.0   9.0  NaN  \n",
       "24    6  56.0  13.0  NaN  \n",
       "25    6  13.0   8.0  NaN  \n",
       "26   11   7.0   NaN  NaN  \n",
       "27    5  11.0   7.0  NaN  \n",
       "28    5  57.0  17.0  NaN  \n",
       "29    5  15.0   7.0  NaN  "
      ]
     },
     "execution_count": 226,
     "metadata": {},
     "output_type": "execute_result"
    }
   ],
   "source": [
    "df = dfr['ping'][20:30]\n",
    "df"
   ]
  },
  {
   "cell_type": "code",
   "execution_count": 184,
   "metadata": {},
   "outputs": [
    {
     "data": {
      "text/plain": [
       "Index(['p1', 'p2', 'p3', 'p4', 'p5', 'p6', 'p7', 'p8', 'p9', 'p10'], dtype='object')"
      ]
     },
     "execution_count": 184,
     "metadata": {},
     "output_type": "execute_result"
    }
   ],
   "source": [
    "df.loc[:,'p1':'p10'].keys()"
   ]
  },
  {
   "cell_type": "code",
   "execution_count": 403,
   "metadata": {},
   "outputs": [
    {
     "data": {
      "text/plain": [
       "Timestamp('2021-11-29 10:33:05.207600')"
      ]
     },
     "execution_count": 403,
     "metadata": {},
     "output_type": "execute_result"
    }
   ],
   "source": [
    "pd.Timestamp('now').floor('D') + pd.Timedelta(-1, unit='H')\n",
    "\n",
    "pd.Timestamp('now').floor('H') + pd.Timedelta(-1, unit='H')\n",
    "\n",
    "\n",
    "pd.Timestamp('now')\n",
    "\n"
   ]
  },
  {
   "cell_type": "code",
   "execution_count": null,
   "metadata": {},
   "outputs": [],
   "source": []
  },
  {
   "cell_type": "code",
   "execution_count": 442,
   "metadata": {},
   "outputs": [
    {
     "data": {
      "text/plain": [
       "<function datetime.date>"
      ]
     },
     "execution_count": 442,
     "metadata": {},
     "output_type": "execute_result"
    }
   ],
   "source": [
    "a = datetime.now()\n",
    "b = datetime.now() # after a few seconds\n",
    "delta = a-b\n",
    "delta.total_seconds()"
   ]
  },
  {
   "cell_type": "code",
   "execution_count": 685,
   "metadata": {},
   "outputs": [
    {
     "data": {
      "text/html": [
       "<div>\n",
       "<style scoped>\n",
       "    .dataframe tbody tr th:only-of-type {\n",
       "        vertical-align: middle;\n",
       "    }\n",
       "\n",
       "    .dataframe tbody tr th {\n",
       "        vertical-align: top;\n",
       "    }\n",
       "\n",
       "    .dataframe thead th {\n",
       "        text-align: right;\n",
       "    }\n",
       "</style>\n",
       "<table border=\"1\" class=\"dataframe\">\n",
       "  <thead>\n",
       "    <tr style=\"text-align: right;\">\n",
       "      <th></th>\n",
       "      <th>time</th>\n",
       "      <th>p1</th>\n",
       "      <th>p2</th>\n",
       "      <th>p3</th>\n",
       "      <th>p4</th>\n",
       "      <th>p5</th>\n",
       "      <th>p6</th>\n",
       "      <th>p7</th>\n",
       "      <th>p8</th>\n",
       "      <th>p9</th>\n",
       "      <th>p10</th>\n",
       "      <th>p11</th>\n",
       "      <th>p12</th>\n",
       "      <th>p13</th>\n",
       "      <th>p14</th>\n",
       "      <th>p15</th>\n",
       "    </tr>\n",
       "  </thead>\n",
       "  <tbody>\n",
       "    <tr>\n",
       "      <th>751</th>\n",
       "      <td>2021-11-29T17:10:10.169</td>\n",
       "      <td>7</td>\n",
       "      <td>4</td>\n",
       "      <td>5</td>\n",
       "      <td>5</td>\n",
       "      <td>10</td>\n",
       "      <td>6</td>\n",
       "      <td>7</td>\n",
       "      <td>6</td>\n",
       "      <td>8</td>\n",
       "      <td>7</td>\n",
       "      <td>7</td>\n",
       "      <td>4</td>\n",
       "      <td>10.0</td>\n",
       "      <td>6.0</td>\n",
       "      <td>NaN</td>\n",
       "    </tr>\n",
       "    <tr>\n",
       "      <th>752</th>\n",
       "      <td>2021-11-29T17:20:10.194</td>\n",
       "      <td>6</td>\n",
       "      <td>9</td>\n",
       "      <td>6</td>\n",
       "      <td>9</td>\n",
       "      <td>7</td>\n",
       "      <td>6</td>\n",
       "      <td>9</td>\n",
       "      <td>8</td>\n",
       "      <td>6</td>\n",
       "      <td>7</td>\n",
       "      <td>15</td>\n",
       "      <td>6</td>\n",
       "      <td>15.0</td>\n",
       "      <td>8.0</td>\n",
       "      <td>NaN</td>\n",
       "    </tr>\n",
       "    <tr>\n",
       "      <th>753</th>\n",
       "      <td>2021-11-29T17:30:10.169</td>\n",
       "      <td>6</td>\n",
       "      <td>8</td>\n",
       "      <td>9</td>\n",
       "      <td>7</td>\n",
       "      <td>12</td>\n",
       "      <td>8</td>\n",
       "      <td>28</td>\n",
       "      <td>8</td>\n",
       "      <td>10</td>\n",
       "      <td>12</td>\n",
       "      <td>6</td>\n",
       "      <td>6</td>\n",
       "      <td>28.0</td>\n",
       "      <td>10.0</td>\n",
       "      <td>NaN</td>\n",
       "    </tr>\n",
       "    <tr>\n",
       "      <th>754</th>\n",
       "      <td>2021-11-29T17:40:10.165</td>\n",
       "      <td>7</td>\n",
       "      <td>6</td>\n",
       "      <td>7</td>\n",
       "      <td>8</td>\n",
       "      <td>11</td>\n",
       "      <td>22</td>\n",
       "      <td>6</td>\n",
       "      <td>8</td>\n",
       "      <td>15</td>\n",
       "      <td>12</td>\n",
       "      <td>7</td>\n",
       "      <td>6</td>\n",
       "      <td>22.0</td>\n",
       "      <td>9.0</td>\n",
       "      <td>NaN</td>\n",
       "    </tr>\n",
       "    <tr>\n",
       "      <th>755</th>\n",
       "      <td>2021-11-29T17:50:10.277</td>\n",
       "      <td>24</td>\n",
       "      <td>35</td>\n",
       "      <td>12</td>\n",
       "      <td>25</td>\n",
       "      <td>14</td>\n",
       "      <td>24</td>\n",
       "      <td>33</td>\n",
       "      <td>32</td>\n",
       "      <td>42</td>\n",
       "      <td>23</td>\n",
       "      <td>21</td>\n",
       "      <td>12</td>\n",
       "      <td>42.0</td>\n",
       "      <td>25.0</td>\n",
       "      <td>NaN</td>\n",
       "    </tr>\n",
       "  </tbody>\n",
       "</table>\n",
       "</div>"
      ],
      "text/plain": [
       "                        time  p1  p2  p3  p4  p5  p6  p7  p8  p9  p10  p11  \\\n",
       "751  2021-11-29T17:10:10.169   7   4   5   5  10   6   7   6   8    7    7   \n",
       "752  2021-11-29T17:20:10.194   6   9   6   9   7   6   9   8   6    7   15   \n",
       "753  2021-11-29T17:30:10.169   6   8   9   7  12   8  28   8  10   12    6   \n",
       "754  2021-11-29T17:40:10.165   7   6   7   8  11  22   6   8  15   12    7   \n",
       "755  2021-11-29T17:50:10.277  24  35  12  25  14  24  33  32  42   23   21   \n",
       "\n",
       "     p12   p13   p14  p15  \n",
       "751    4  10.0   6.0  NaN  \n",
       "752    6  15.0   8.0  NaN  \n",
       "753    6  28.0  10.0  NaN  \n",
       "754    6  22.0   9.0  NaN  \n",
       "755   12  42.0  25.0  NaN  "
      ]
     },
     "execution_count": 685,
     "metadata": {},
     "output_type": "execute_result"
    }
   ],
   "source": [
    "fpath = r'C:\\_dev\\node_cookie\\ping_result.txt'\n",
    "\n",
    "names = ['time']+ [\"p\"+str(i) for i in range(1,16)]\n",
    "dfr['ping'] =  pd.read_csv(fpath, sep='\\t', header=None ,names=names)\n",
    "df = dfr['ping']  # [:1300]\n",
    "\n",
    "start_date = (pd.Timestamp('now') - datetime.timedelta(hours=3) ).strftime('%Y-%m-%dT%H:%M:%S')\n",
    "end_date = pd.Timestamp('now').strftime('%Y-%m-%dT%H:%M:%S') #'2021-11-29T14:20'\n",
    "\n",
    "# print ( [start_date, end_date]  )\n",
    "\n",
    "mask = (df['time'] > start_date) & (df['time'] <= end_date)\n",
    "df = df.loc[mask]\n",
    "df[:5]"
   ]
  },
  {
   "cell_type": "code",
   "execution_count": 696,
   "metadata": {},
   "outputs": [
    {
     "name": "stdout",
     "output_type": "stream",
     "text": [
      "2021-11-27T08:12:46 2021-11-29T20:12:46\n",
      "2021-11-27T08:12:46\n"
     ]
    },
    {
     "data": {
      "text/plain": [
       "63"
      ]
     },
     "execution_count": 696,
     "metadata": {},
     "output_type": "execute_result"
    }
   ],
   "source": [
    "def interval(df,hours):\n",
    "   \n",
    "    start_date = (pd.Timestamp('now') - datetime.timedelta(hours=hours)).strftime('%Y-%m-%dT%H:%M:%S')\n",
    "    end_date = pd.Timestamp('now').strftime('%Y-%m-%dT%H:%M:%S') #'2021-11-29T14:20'\n",
    "\n",
    "    mask = (df['time'] > start_date) & (df['time'] <= end_date)\n",
    "    \n",
    "    df = df.loc[mask]\n",
    "\n",
    "    print (start_date, end_date)\n",
    "    \n",
    "    return df\n",
    "\n",
    "df = interval(dfr['ping'],60)\n",
    "\n",
    "print ((pd.Timestamp('now')  - datetime.timedelta(hours=60)).strftime('%Y-%m-%dT%H:%M:%S'))\n",
    "\n",
    "\n",
    "df.shape[0]"
   ]
  },
  {
   "cell_type": "code",
   "execution_count": 697,
   "metadata": {},
   "outputs": [
    {
     "name": "stdout",
     "output_type": "stream",
     "text": [
      "*** Start at: 20:13:04 ₂₀₂₁₋₁₁₋₂₉  ************************************************************\n",
      "2021-11-27T08:13:04 2021-11-29T20:13:04\n",
      "[  0.60   ₀.₆]20:13:05 ₂₀₂₁₋₁₁₋₂₉  >>>\n"
     ]
    },
    {
     "data": {
      "image/png": "[encoded data removed]",
      "text/plain": [
       "<Figure size 1600x640 with 1 Axes>"
      ]
     },
     "metadata": {
      "needs_background": "light"
     },
     "output_type": "display_data"
    }
   ],
   "source": [
    "import matplotlib.pyplot as plt\n",
    "import matplotlib.patches as mpatches\n",
    "import numpy as np\n",
    "import matplotlib.dates as mdates\n",
    "\n",
    "\n",
    "tm()\n",
    "\n",
    "fpath = r'C:\\_dev\\node_cookie\\ping_result.txt'\n",
    "\n",
    "d = 'ping'\n",
    "\n",
    "names = ['time']+ [\"p\"+str(i) for i in range(1,16)]\n",
    "dfr['ping'] =  pd.read_csv(fpath, sep='\\t', header=None ,names=names)\n",
    "\n",
    "\n",
    "df = dfr['ping']  # [:1300]\n",
    "df['datetime'] = pd.to_datetime(df['time'])\n",
    "\n",
    "df = interval(df,60)\n",
    "\n",
    "# disp(df)\n",
    "\n",
    "fig = figure(figsize=(20, 8), dpi=80)\n",
    "\n",
    "\n",
    "# ax = fig.add_subplot(1, 1, 1)\n",
    "\n",
    "for cl in df.loc[:,'p1':'p10'].keys():\n",
    "\n",
    "    x,y = df['datetime'],df[cl]\n",
    "    \n",
    "    stack = df[cl] + df[cl].shift(1) + df[cl].shift(2)\n",
    "    \n",
    "    p = np.percentile(stack[stack.notna()].tolist(), 70)\n",
    "\n",
    "    plt.scatter(x, y, s=col,  alpha=1, \n",
    "                label=str(cl))\n",
    "    \n",
    "    for a, b in zip(x, y):\n",
    "#         print (mdates.date2num(a),b)\n",
    "        ax.text(5, 100, \"Independence Day\")\n",
    "        \n",
    "        \n",
    "        ax.annotate('Test', (10, b), xytext=(15, 15), \n",
    "            textcoords='offset points', arrowprops=dict(arrowstyle='-|>'))\n",
    "    \n",
    "#     for i, txt in enumerate(y):\n",
    "\n",
    "#         if (txt > p):\n",
    "#             print([x ,i,txt,p],end=',')\n",
    "#             el = mpatches.Ellipse((i, txt), 50 ,10, angle=30, alpha=0.2)\n",
    "#             plt.annotate('' + str(txt), \n",
    "#                          xy =(x[i], txt),\n",
    "#                          xytext =(x[i-2], txt*1.3),\n",
    "#                          arrowprops = dict(arrowstyle=\"fancy\",\n",
    "#                                             color=\"0.5\",\n",
    "#                                             patchB=el,\n",
    "#                                             shrinkB=5,\n",
    "#                                            connectionstyle=\"arc3,rad=0.1\")\n",
    "#                          )\n",
    "\n",
    "plt.plot(x,df['p14'], label=\"avg\")  \n",
    "plt.yscale('log')\n",
    "\n",
    "xtick = pd.date_range( start=df.datetime.min( ), end=df.datetime.max( ), freq='60s' )\n",
    "\n",
    "# print (df.datetime.min( ),df.datetime.max( ), xtick)\n",
    "\n",
    "plt.grid('on', which='major', axis='x' )\n",
    "plt.grid('on', which='major', axis='y' )\n",
    "\n",
    "ax.set_xticks(xtick)\n",
    "ax.set_xticks(xtick, minor=True)\n",
    "# ax.set_yticks(major_ticks) \n",
    "# ax.set_yticks(minor_ticks, minor=True)\n",
    "\n",
    "\n",
    "plt.xlabel(\"time\")\n",
    "plt.ylabel(\"ms\")\n",
    "plt.legend(loc='upper left')\n",
    "plt.xticks(rotation=90)\n",
    "# plt.show()\n",
    "tm('>>>')"
   ]
  },
  {
   "cell_type": "code",
   "execution_count": 372,
   "metadata": {},
   "outputs": [
    {
     "name": "stdout",
     "output_type": "stream",
     "text": [
      "27.980000000000018\n",
      "46.0\n",
      "30.980000000000018\n",
      "95.98000000000002\n",
      "48.960000000000036\n",
      "33.960000000000036\n",
      "26.980000000000018\n",
      "25.980000000000018\n",
      "42.0\n",
      "26.960000000000036\n"
     ]
    }
   ],
   "source": [
    "import numpy as np\n",
    "a = np.array([1,2,3,5,7,4,5,10,11,20])\n",
    "p = np.percentile(a, 80) # return 50th percentile, e.g median.\n",
    "# print (p)\n",
    "\n",
    "\n",
    "for cl in df.loc[:,'p1':'p10'].keys():\n",
    "    y = df[cl]   \n",
    "    p = np.percentile(y, 99) \n",
    "    print(p)\n"
   ]
  },
  {
   "cell_type": "code",
   "execution_count": 373,
   "metadata": {},
   "outputs": [
    {
     "name": "stdout",
     "output_type": "stream",
     "text": [
      "45.0\n"
     ]
    }
   ],
   "source": [
    "y = df.loc[:,'p1':'p10'].stack().tolist()\n",
    "\n",
    "p = np.percentile(y, 99) \n",
    "print(p)"
   ]
  },
  {
   "cell_type": "code",
   "execution_count": 115,
   "metadata": {},
   "outputs": [
    {
     "data": {
      "image/png": "[encoded data removed]",
      "text/plain": [
       "<Figure size 432x288 with 1 Axes>"
      ]
     },
     "metadata": {
      "needs_background": "light"
     },
     "output_type": "display_data"
    },
    {
     "data": {
      "text/plain": [
       "<Figure size 1600x880 with 0 Axes>"
      ]
     },
     "metadata": {},
     "output_type": "display_data"
    }
   ],
   "source": [
    "ax = ts.plot()\n",
    "xtick = pd.date_range( start=ts.index.min( ), end=ts.index.max( ), freq='W' )\n",
    "ax.set_xticks( xtick, minor=True )\n",
    "\n",
    "figure(figsize=(20, 11), dpi=80)\n",
    "\n",
    "ax.grid('on', which='minor', axis='x' )\n",
    "ax.grid('off', which='major', axis='x' )"
   ]
  },
  {
   "cell_type": "code",
   "execution_count": 62,
   "metadata": {},
   "outputs": [
    {
     "data": {
      "text/plain": [
       "Index([1, 2, 3, 4, 5, 6, 7, 8, 9, 10, 11, 12, 13, 14], dtype='object')"
      ]
     },
     "execution_count": 62,
     "metadata": {},
     "output_type": "execute_result"
    }
   ],
   "source": [
    "df.loc[:,1:14].keys()"
   ]
  },
  {
   "cell_type": "code",
   "execution_count": 66,
   "metadata": {},
   "outputs": [
    {
     "ename": "TypeError",
     "evalue": "'(slice(None, None, None), slice(1, 3, None))' is an invalid key",
     "output_type": "error",
     "traceback": [
      "\u001b[1;31m---------------------------------------------------------------------------\u001b[0m",
      "\u001b[1;31mTypeError\u001b[0m                                 Traceback (most recent call last)",
      "\u001b[1;32mC:\\Users\\SAF8C~1.SAV\\AppData\\Local\\Temp/ipykernel_24260/2187424720.py\u001b[0m in \u001b[0;36m<module>\u001b[1;34m\u001b[0m\n\u001b[1;32m----> 1\u001b[1;33m \u001b[0mdf\u001b[0m\u001b[1;33m[\u001b[0m\u001b[1;33m:\u001b[0m\u001b[1;33m,\u001b[0m\u001b[1;36m1\u001b[0m\u001b[1;33m:\u001b[0m\u001b[1;36m3\u001b[0m\u001b[1;33m]\u001b[0m\u001b[1;33m.\u001b[0m\u001b[0mkeys\u001b[0m\u001b[1;33m(\u001b[0m\u001b[1;33m)\u001b[0m\u001b[1;33m\u001b[0m\u001b[1;33m\u001b[0m\u001b[0m\n\u001b[0m",
      "\u001b[1;32m~\\miniconda3\\lib\\site-packages\\pandas\\core\\frame.py\u001b[0m in \u001b[0;36m__getitem__\u001b[1;34m(self, key)\u001b[0m\n\u001b[0;32m   3456\u001b[0m             \u001b[1;32mif\u001b[0m \u001b[0mself\u001b[0m\u001b[1;33m.\u001b[0m\u001b[0mcolumns\u001b[0m\u001b[1;33m.\u001b[0m\u001b[0mnlevels\u001b[0m \u001b[1;33m>\u001b[0m \u001b[1;36m1\u001b[0m\u001b[1;33m:\u001b[0m\u001b[1;33m\u001b[0m\u001b[1;33m\u001b[0m\u001b[0m\n\u001b[0;32m   3457\u001b[0m                 \u001b[1;32mreturn\u001b[0m \u001b[0mself\u001b[0m\u001b[1;33m.\u001b[0m\u001b[0m_getitem_multilevel\u001b[0m\u001b[1;33m(\u001b[0m\u001b[0mkey\u001b[0m\u001b[1;33m)\u001b[0m\u001b[1;33m\u001b[0m\u001b[1;33m\u001b[0m\u001b[0m\n\u001b[1;32m-> 3458\u001b[1;33m             \u001b[0mindexer\u001b[0m \u001b[1;33m=\u001b[0m \u001b[0mself\u001b[0m\u001b[1;33m.\u001b[0m\u001b[0mcolumns\u001b[0m\u001b[1;33m.\u001b[0m\u001b[0mget_loc\u001b[0m\u001b[1;33m(\u001b[0m\u001b[0mkey\u001b[0m\u001b[1;33m)\u001b[0m\u001b[1;33m\u001b[0m\u001b[1;33m\u001b[0m\u001b[0m\n\u001b[0m\u001b[0;32m   3459\u001b[0m             \u001b[1;32mif\u001b[0m \u001b[0mis_integer\u001b[0m\u001b[1;33m(\u001b[0m\u001b[0mindexer\u001b[0m\u001b[1;33m)\u001b[0m\u001b[1;33m:\u001b[0m\u001b[1;33m\u001b[0m\u001b[1;33m\u001b[0m\u001b[0m\n\u001b[0;32m   3460\u001b[0m                 \u001b[0mindexer\u001b[0m \u001b[1;33m=\u001b[0m \u001b[1;33m[\u001b[0m\u001b[0mindexer\u001b[0m\u001b[1;33m]\u001b[0m\u001b[1;33m\u001b[0m\u001b[1;33m\u001b[0m\u001b[0m\n",
      "\u001b[1;32m~\\miniconda3\\lib\\site-packages\\pandas\\core\\indexes\\base.py\u001b[0m in \u001b[0;36mget_loc\u001b[1;34m(self, key, method, tolerance)\u001b[0m\n\u001b[0;32m   3359\u001b[0m             \u001b[0mcasted_key\u001b[0m \u001b[1;33m=\u001b[0m \u001b[0mself\u001b[0m\u001b[1;33m.\u001b[0m\u001b[0m_maybe_cast_indexer\u001b[0m\u001b[1;33m(\u001b[0m\u001b[0mkey\u001b[0m\u001b[1;33m)\u001b[0m\u001b[1;33m\u001b[0m\u001b[1;33m\u001b[0m\u001b[0m\n\u001b[0;32m   3360\u001b[0m             \u001b[1;32mtry\u001b[0m\u001b[1;33m:\u001b[0m\u001b[1;33m\u001b[0m\u001b[1;33m\u001b[0m\u001b[0m\n\u001b[1;32m-> 3361\u001b[1;33m                 \u001b[1;32mreturn\u001b[0m \u001b[0mself\u001b[0m\u001b[1;33m.\u001b[0m\u001b[0m_engine\u001b[0m\u001b[1;33m.\u001b[0m\u001b[0mget_loc\u001b[0m\u001b[1;33m(\u001b[0m\u001b[0mcasted_key\u001b[0m\u001b[1;33m)\u001b[0m\u001b[1;33m\u001b[0m\u001b[1;33m\u001b[0m\u001b[0m\n\u001b[0m\u001b[0;32m   3362\u001b[0m             \u001b[1;32mexcept\u001b[0m \u001b[0mKeyError\u001b[0m \u001b[1;32mas\u001b[0m \u001b[0merr\u001b[0m\u001b[1;33m:\u001b[0m\u001b[1;33m\u001b[0m\u001b[1;33m\u001b[0m\u001b[0m\n\u001b[0;32m   3363\u001b[0m                 \u001b[1;32mraise\u001b[0m \u001b[0mKeyError\u001b[0m\u001b[1;33m(\u001b[0m\u001b[0mkey\u001b[0m\u001b[1;33m)\u001b[0m \u001b[1;32mfrom\u001b[0m \u001b[0merr\u001b[0m\u001b[1;33m\u001b[0m\u001b[1;33m\u001b[0m\u001b[0m\n",
      "\u001b[1;32m~\\miniconda3\\lib\\site-packages\\pandas\\_libs\\index.pyx\u001b[0m in \u001b[0;36mpandas._libs.index.IndexEngine.get_loc\u001b[1;34m()\u001b[0m\n",
      "\u001b[1;32m~\\miniconda3\\lib\\site-packages\\pandas\\_libs\\index.pyx\u001b[0m in \u001b[0;36mpandas._libs.index.IndexEngine.get_loc\u001b[1;34m()\u001b[0m\n",
      "\u001b[1;31mTypeError\u001b[0m: '(slice(None, None, None), slice(1, 3, None))' is an invalid key"
     ]
    }
   ],
   "source": [
    "df[:,1:3].keys()"
   ]
  },
  {
   "cell_type": "code",
   "execution_count": 67,
   "metadata": {},
   "outputs": [
    {
     "name": "stdout",
     "output_type": "stream",
     "text": [
      "1\n",
      "2\n",
      "3\n"
     ]
    }
   ],
   "source": [
    "for cl in df.loc[:,1:3].keys():\n",
    "    print (cl)"
   ]
  },
  {
   "cell_type": "code",
   "execution_count": null,
   "metadata": {},
   "outputs": [],
   "source": [
    "read_rmsp(1)"
   ]
  },
  {
   "cell_type": "code",
   "execution_count": null,
   "metadata": {},
   "outputs": [],
   "source": [
    "ii(dfr,1)"
   ]
  },
  {
   "cell_type": "code",
   "execution_count": null,
   "metadata": {},
   "outputs": [],
   "source": [
    "import shutil\n",
    "\n",
    "tm()\n",
    "\n",
    "f1 = r'C:\\!data\\02.fns\\02.03.gnivc8m\\\\rmsp.pcl'\n",
    "f2 = r'C:\\!data\\02.fns\\02.03.gnivc8m\\\\rmsp-2.pcl'\n",
    "\n",
    "shutil.copy2(f1, f2)\n",
    "\n",
    "tm('>>>')"
   ]
  }
 ],
 "metadata": {
  "kernelspec": {
   "display_name": "Python 3 (ipykernel)",
   "language": "python",
   "name": "python3"
  },
  "language_info": {
   "codemirror_mode": {
    "name": "ipython",
    "version": 3
   },
   "file_extension": ".py",
   "mimetype": "text/x-python",
   "name": "python",
   "nbconvert_exporter": "python",
   "pygments_lexer": "ipython3",
   "version": "3.9.1"
  }
 },
 "nbformat": 4,
 "nbformat_minor": 4
}
